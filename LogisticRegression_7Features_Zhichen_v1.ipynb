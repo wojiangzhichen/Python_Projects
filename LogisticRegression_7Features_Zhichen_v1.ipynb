{
 "cells": [
  {
   "cell_type": "code",
   "execution_count": 1,
   "metadata": {
    "collapsed": true
   },
   "outputs": [],
   "source": [
    "import os\n",
    "import csv\n",
    "import numpy as np\n",
    "import pandas as pd\n",
    "from sklearn import linear_model, metrics\n",
    "import scipy.stats as st\n",
    "import matplotlib.pyplot as plt\n",
    "import seaborn as sns\n",
    "import copy"
   ]
  },
  {
   "cell_type": "code",
   "execution_count": 2,
   "metadata": {
    "collapsed": false
   },
   "outputs": [],
   "source": [
    "from scipy import interpolate"
   ]
  },
  {
   "cell_type": "code",
   "execution_count": 3,
   "metadata": {
    "collapsed": false
   },
   "outputs": [],
   "source": [
    "from prettytable import PrettyTable"
   ]
  },
  {
   "cell_type": "code",
   "execution_count": 4,
   "metadata": {
    "collapsed": true
   },
   "outputs": [],
   "source": [
    "# Changing Directory\n",
    "os.chdir(\"D:\\dataset\")\n"
   ]
  },
  {
   "cell_type": "markdown",
   "metadata": {},
   "source": [
    "## Train set"
   ]
  },
  {
   "cell_type": "code",
   "execution_count": 5,
   "metadata": {
    "collapsed": false
   },
   "outputs": [
    {
     "data": {
      "text/html": [
       "<div>\n",
       "<table border=\"1\" class=\"dataframe\">\n",
       "  <thead>\n",
       "    <tr style=\"text-align: right;\">\n",
       "      <th></th>\n",
       "      <th>click</th>\n",
       "      <th>weekday</th>\n",
       "      <th>hour</th>\n",
       "      <th>bidid</th>\n",
       "      <th>logtype</th>\n",
       "      <th>userid</th>\n",
       "      <th>useragent</th>\n",
       "      <th>IP</th>\n",
       "      <th>region</th>\n",
       "      <th>city</th>\n",
       "      <th>...</th>\n",
       "      <th>slotheight</th>\n",
       "      <th>slotvisibility</th>\n",
       "      <th>slotformat</th>\n",
       "      <th>slotprice</th>\n",
       "      <th>creative</th>\n",
       "      <th>bidprice</th>\n",
       "      <th>payprice</th>\n",
       "      <th>keypage</th>\n",
       "      <th>advertiser</th>\n",
       "      <th>usertag</th>\n",
       "    </tr>\n",
       "  </thead>\n",
       "  <tbody>\n",
       "    <tr>\n",
       "      <th>0</th>\n",
       "      <td>0</td>\n",
       "      <td>1</td>\n",
       "      <td>14</td>\n",
       "      <td>fdfae6789b787899f1b875de3ab8b21a</td>\n",
       "      <td>1</td>\n",
       "      <td>u_Vh1OPkFv3q5CFdR</td>\n",
       "      <td>windows_ie</td>\n",
       "      <td>180.107.112.*</td>\n",
       "      <td>80</td>\n",
       "      <td>85</td>\n",
       "      <td>...</td>\n",
       "      <td>60</td>\n",
       "      <td>1</td>\n",
       "      <td>0</td>\n",
       "      <td>5</td>\n",
       "      <td>612599432d200b093719dd1f372f7a30</td>\n",
       "      <td>300</td>\n",
       "      <td>54</td>\n",
       "      <td>bebefa5efe83beee17a3d245e7c5085b</td>\n",
       "      <td>1458</td>\n",
       "      <td>13866,10063</td>\n",
       "    </tr>\n",
       "    <tr>\n",
       "      <th>1</th>\n",
       "      <td>0</td>\n",
       "      <td>2</td>\n",
       "      <td>20</td>\n",
       "      <td>372883147cdefbc495fb5082f79dde9b</td>\n",
       "      <td>1</td>\n",
       "      <td>u_VhkRL6dCOTLsq-c</td>\n",
       "      <td>windows_chrome</td>\n",
       "      <td>125.120.199.*</td>\n",
       "      <td>94</td>\n",
       "      <td>95</td>\n",
       "      <td>...</td>\n",
       "      <td>250</td>\n",
       "      <td>1</td>\n",
       "      <td>0</td>\n",
       "      <td>5</td>\n",
       "      <td>8dff45ed862a740986dbe688aafee7e5</td>\n",
       "      <td>249</td>\n",
       "      <td>42</td>\n",
       "      <td>15b749127478946f161a54dc0dad27c8</td>\n",
       "      <td>3476</td>\n",
       "      <td>10063,10111</td>\n",
       "    </tr>\n",
       "    <tr>\n",
       "      <th>2</th>\n",
       "      <td>0</td>\n",
       "      <td>5</td>\n",
       "      <td>9</td>\n",
       "      <td>2912cb5947e1fad450e2473c2f61ef75</td>\n",
       "      <td>1</td>\n",
       "      <td>u_VhkyORMrD8TP3GL</td>\n",
       "      <td>windows_ie</td>\n",
       "      <td>120.196.64.*</td>\n",
       "      <td>216</td>\n",
       "      <td>217</td>\n",
       "      <td>...</td>\n",
       "      <td>280</td>\n",
       "      <td>0</td>\n",
       "      <td>1</td>\n",
       "      <td>0</td>\n",
       "      <td>77819d3e0b3467fe5c7b16d68ad923a1</td>\n",
       "      <td>300</td>\n",
       "      <td>76</td>\n",
       "      <td>bebefa5efe83beee17a3d245e7c5085b</td>\n",
       "      <td>1458</td>\n",
       "      <td>10063</td>\n",
       "    </tr>\n",
       "    <tr>\n",
       "      <th>3</th>\n",
       "      <td>0</td>\n",
       "      <td>2</td>\n",
       "      <td>20</td>\n",
       "      <td>d7b7d61d1e50e1d27d210928d28a9b61</td>\n",
       "      <td>1</td>\n",
       "      <td>u_VhkyLRqVL2a4eWL</td>\n",
       "      <td>windows_ie</td>\n",
       "      <td>219.131.122.*</td>\n",
       "      <td>216</td>\n",
       "      <td>221</td>\n",
       "      <td>...</td>\n",
       "      <td>90</td>\n",
       "      <td>0</td>\n",
       "      <td>0</td>\n",
       "      <td>162</td>\n",
       "      <td>7184c9560e68e977187e67e45a4f3198</td>\n",
       "      <td>238</td>\n",
       "      <td>182</td>\n",
       "      <td>0f951a030abdaedd733ee8d114ce2944</td>\n",
       "      <td>3427</td>\n",
       "      <td>10077,10111</td>\n",
       "    </tr>\n",
       "    <tr>\n",
       "      <th>4</th>\n",
       "      <td>0</td>\n",
       "      <td>6</td>\n",
       "      <td>9</td>\n",
       "      <td>657d317dc4045bb79c2652abbea07530</td>\n",
       "      <td>1</td>\n",
       "      <td>u_Vh1zOJuQOtTCBgL</td>\n",
       "      <td>windows_chrome</td>\n",
       "      <td>123.190.78.*</td>\n",
       "      <td>40</td>\n",
       "      <td>48</td>\n",
       "      <td>...</td>\n",
       "      <td>90</td>\n",
       "      <td>0</td>\n",
       "      <td>1</td>\n",
       "      <td>0</td>\n",
       "      <td>c938195f9e404b4f38c7e71bf50263e5</td>\n",
       "      <td>238</td>\n",
       "      <td>34</td>\n",
       "      <td>a3becb967c015e9acb5e72f22b100ef8</td>\n",
       "      <td>3476</td>\n",
       "      <td>10031,13042,10006,10057,13866,10063,14273,1005...</td>\n",
       "    </tr>\n",
       "  </tbody>\n",
       "</table>\n",
       "<p>5 rows × 26 columns</p>\n",
       "</div>"
      ],
      "text/plain": [
       "   click  weekday  hour                             bidid  logtype  \\\n",
       "0      0        1    14  fdfae6789b787899f1b875de3ab8b21a        1   \n",
       "1      0        2    20  372883147cdefbc495fb5082f79dde9b        1   \n",
       "2      0        5     9  2912cb5947e1fad450e2473c2f61ef75        1   \n",
       "3      0        2    20  d7b7d61d1e50e1d27d210928d28a9b61        1   \n",
       "4      0        6     9  657d317dc4045bb79c2652abbea07530        1   \n",
       "\n",
       "              userid       useragent             IP  region  city  \\\n",
       "0  u_Vh1OPkFv3q5CFdR      windows_ie  180.107.112.*      80    85   \n",
       "1  u_VhkRL6dCOTLsq-c  windows_chrome  125.120.199.*      94    95   \n",
       "2  u_VhkyORMrD8TP3GL      windows_ie   120.196.64.*     216   217   \n",
       "3  u_VhkyLRqVL2a4eWL      windows_ie  219.131.122.*     216   221   \n",
       "4  u_Vh1zOJuQOtTCBgL  windows_chrome   123.190.78.*      40    48   \n",
       "\n",
       "                         ...                         slotheight  \\\n",
       "0                        ...                                 60   \n",
       "1                        ...                                250   \n",
       "2                        ...                                280   \n",
       "3                        ...                                 90   \n",
       "4                        ...                                 90   \n",
       "\n",
       "  slotvisibility slotformat slotprice                          creative  \\\n",
       "0              1          0         5  612599432d200b093719dd1f372f7a30   \n",
       "1              1          0         5  8dff45ed862a740986dbe688aafee7e5   \n",
       "2              0          1         0  77819d3e0b3467fe5c7b16d68ad923a1   \n",
       "3              0          0       162  7184c9560e68e977187e67e45a4f3198   \n",
       "4              0          1         0  c938195f9e404b4f38c7e71bf50263e5   \n",
       "\n",
       "   bidprice  payprice                           keypage advertiser  \\\n",
       "0       300        54  bebefa5efe83beee17a3d245e7c5085b       1458   \n",
       "1       249        42  15b749127478946f161a54dc0dad27c8       3476   \n",
       "2       300        76  bebefa5efe83beee17a3d245e7c5085b       1458   \n",
       "3       238       182  0f951a030abdaedd733ee8d114ce2944       3427   \n",
       "4       238        34  a3becb967c015e9acb5e72f22b100ef8       3476   \n",
       "\n",
       "                                             usertag  \n",
       "0                                        13866,10063  \n",
       "1                                        10063,10111  \n",
       "2                                              10063  \n",
       "3                                        10077,10111  \n",
       "4  10031,13042,10006,10057,13866,10063,14273,1005...  \n",
       "\n",
       "[5 rows x 26 columns]"
      ]
     },
     "execution_count": 5,
     "metadata": {},
     "output_type": "execute_result"
    }
   ],
   "source": [
    "# Reading Data\n",
    "df = pd.read_csv('train.csv')\n",
    "df.head()"
   ]
  },
  {
   "cell_type": "markdown",
   "metadata": {},
   "source": [
    "## Selecting Wanted Features"
   ]
  },
  {
   "cell_type": "code",
   "execution_count": 6,
   "metadata": {
    "collapsed": false
   },
   "outputs": [],
   "source": [
    "# Define our features\n",
    "features = [\"click\", \"weekday\", \"hour\", \"region\", \"slotwidth\", 'slotheight', 'useragent', 'payprice', 'bidprice', 'slotformat', 'advertiser']\n",
    "df = df[features]\n",
    "df = df.dropna()"
   ]
  },
  {
   "cell_type": "code",
   "execution_count": 7,
   "metadata": {
    "collapsed": true
   },
   "outputs": [],
   "source": [
    "df['slotsize'] = df['slotwidth'] * df['slotheight'] \n",
    "df.drop(['slotwidth', 'slotheight'], axis=1, inplace=True)"
   ]
  },
  {
   "cell_type": "code",
   "execution_count": 8,
   "metadata": {
    "collapsed": false
   },
   "outputs": [
    {
     "data": {
      "text/html": [
       "<div>\n",
       "<table border=\"1\" class=\"dataframe\">\n",
       "  <thead>\n",
       "    <tr style=\"text-align: right;\">\n",
       "      <th></th>\n",
       "      <th>click</th>\n",
       "      <th>weekday</th>\n",
       "      <th>hour</th>\n",
       "      <th>region</th>\n",
       "      <th>useragent</th>\n",
       "      <th>payprice</th>\n",
       "      <th>bidprice</th>\n",
       "      <th>slotformat</th>\n",
       "      <th>advertiser</th>\n",
       "      <th>slotsize</th>\n",
       "    </tr>\n",
       "  </thead>\n",
       "  <tbody>\n",
       "    <tr>\n",
       "      <th>0</th>\n",
       "      <td>0</td>\n",
       "      <td>1</td>\n",
       "      <td>14</td>\n",
       "      <td>80</td>\n",
       "      <td>windows_ie</td>\n",
       "      <td>54</td>\n",
       "      <td>300</td>\n",
       "      <td>0</td>\n",
       "      <td>1458</td>\n",
       "      <td>28080</td>\n",
       "    </tr>\n",
       "    <tr>\n",
       "      <th>1</th>\n",
       "      <td>0</td>\n",
       "      <td>2</td>\n",
       "      <td>20</td>\n",
       "      <td>94</td>\n",
       "      <td>windows_chrome</td>\n",
       "      <td>42</td>\n",
       "      <td>249</td>\n",
       "      <td>0</td>\n",
       "      <td>3476</td>\n",
       "      <td>62500</td>\n",
       "    </tr>\n",
       "    <tr>\n",
       "      <th>2</th>\n",
       "      <td>0</td>\n",
       "      <td>5</td>\n",
       "      <td>9</td>\n",
       "      <td>216</td>\n",
       "      <td>windows_ie</td>\n",
       "      <td>76</td>\n",
       "      <td>300</td>\n",
       "      <td>1</td>\n",
       "      <td>1458</td>\n",
       "      <td>94080</td>\n",
       "    </tr>\n",
       "    <tr>\n",
       "      <th>3</th>\n",
       "      <td>0</td>\n",
       "      <td>2</td>\n",
       "      <td>20</td>\n",
       "      <td>216</td>\n",
       "      <td>windows_ie</td>\n",
       "      <td>182</td>\n",
       "      <td>238</td>\n",
       "      <td>0</td>\n",
       "      <td>3427</td>\n",
       "      <td>65520</td>\n",
       "    </tr>\n",
       "    <tr>\n",
       "      <th>4</th>\n",
       "      <td>0</td>\n",
       "      <td>6</td>\n",
       "      <td>9</td>\n",
       "      <td>40</td>\n",
       "      <td>windows_chrome</td>\n",
       "      <td>34</td>\n",
       "      <td>238</td>\n",
       "      <td>1</td>\n",
       "      <td>3476</td>\n",
       "      <td>85500</td>\n",
       "    </tr>\n",
       "  </tbody>\n",
       "</table>\n",
       "</div>"
      ],
      "text/plain": [
       "   click  weekday  hour  region       useragent  payprice  bidprice  \\\n",
       "0      0        1    14      80      windows_ie        54       300   \n",
       "1      0        2    20      94  windows_chrome        42       249   \n",
       "2      0        5     9     216      windows_ie        76       300   \n",
       "3      0        2    20     216      windows_ie       182       238   \n",
       "4      0        6     9      40  windows_chrome        34       238   \n",
       "\n",
       "  slotformat  advertiser  slotsize  \n",
       "0          0        1458     28080  \n",
       "1          0        3476     62500  \n",
       "2          1        1458     94080  \n",
       "3          0        3427     65520  \n",
       "4          1        3476     85500  "
      ]
     },
     "execution_count": 8,
     "metadata": {},
     "output_type": "execute_result"
    }
   ],
   "source": [
    "df.head()"
   ]
  },
  {
   "cell_type": "markdown",
   "metadata": {},
   "source": [
    "## Labeling and Categorising Data"
   ]
  },
  {
   "cell_type": "markdown",
   "metadata": {},
   "source": [
    "Categorising:\n",
    "- Hour: \n",
    "    - 0:00~07:59 : 1\n",
    "    - 08:00~15:59: 2\n",
    "    - 16:00~23:59: 3\n",
    "- Size:\n",
    "    - 0~40000     : 1\n",
    "    - 40000~80000 : 2\n",
    "    - 80000~120000: 3"
   ]
  },
  {
   "cell_type": "code",
   "execution_count": 9,
   "metadata": {
    "collapsed": false
   },
   "outputs": [
    {
     "data": {
      "text/html": [
       "<div>\n",
       "<table border=\"1\" class=\"dataframe\">\n",
       "  <thead>\n",
       "    <tr style=\"text-align: right;\">\n",
       "      <th></th>\n",
       "      <th>click</th>\n",
       "      <th>weekday</th>\n",
       "      <th>hour</th>\n",
       "      <th>region</th>\n",
       "      <th>useragent</th>\n",
       "      <th>payprice</th>\n",
       "      <th>bidprice</th>\n",
       "      <th>slotformat</th>\n",
       "      <th>advertiser</th>\n",
       "      <th>slotsize</th>\n",
       "    </tr>\n",
       "  </thead>\n",
       "  <tbody>\n",
       "    <tr>\n",
       "      <th>0</th>\n",
       "      <td>0</td>\n",
       "      <td>1</td>\n",
       "      <td>2</td>\n",
       "      <td>80</td>\n",
       "      <td>windows_ie</td>\n",
       "      <td>54</td>\n",
       "      <td>300</td>\n",
       "      <td>0</td>\n",
       "      <td>1458</td>\n",
       "      <td>1</td>\n",
       "    </tr>\n",
       "    <tr>\n",
       "      <th>1</th>\n",
       "      <td>0</td>\n",
       "      <td>2</td>\n",
       "      <td>3</td>\n",
       "      <td>94</td>\n",
       "      <td>windows_chrome</td>\n",
       "      <td>42</td>\n",
       "      <td>249</td>\n",
       "      <td>0</td>\n",
       "      <td>3476</td>\n",
       "      <td>2</td>\n",
       "    </tr>\n",
       "    <tr>\n",
       "      <th>2</th>\n",
       "      <td>0</td>\n",
       "      <td>5</td>\n",
       "      <td>2</td>\n",
       "      <td>216</td>\n",
       "      <td>windows_ie</td>\n",
       "      <td>76</td>\n",
       "      <td>300</td>\n",
       "      <td>1</td>\n",
       "      <td>1458</td>\n",
       "      <td>3</td>\n",
       "    </tr>\n",
       "    <tr>\n",
       "      <th>3</th>\n",
       "      <td>0</td>\n",
       "      <td>2</td>\n",
       "      <td>3</td>\n",
       "      <td>216</td>\n",
       "      <td>windows_ie</td>\n",
       "      <td>182</td>\n",
       "      <td>238</td>\n",
       "      <td>0</td>\n",
       "      <td>3427</td>\n",
       "      <td>2</td>\n",
       "    </tr>\n",
       "    <tr>\n",
       "      <th>4</th>\n",
       "      <td>0</td>\n",
       "      <td>6</td>\n",
       "      <td>2</td>\n",
       "      <td>40</td>\n",
       "      <td>windows_chrome</td>\n",
       "      <td>34</td>\n",
       "      <td>238</td>\n",
       "      <td>1</td>\n",
       "      <td>3476</td>\n",
       "      <td>3</td>\n",
       "    </tr>\n",
       "  </tbody>\n",
       "</table>\n",
       "</div>"
      ],
      "text/plain": [
       "   click  weekday hour  region       useragent  payprice  bidprice slotformat  \\\n",
       "0      0        1    2      80      windows_ie        54       300          0   \n",
       "1      0        2    3      94  windows_chrome        42       249          0   \n",
       "2      0        5    2     216      windows_ie        76       300          1   \n",
       "3      0        2    3     216      windows_ie       182       238          0   \n",
       "4      0        6    2      40  windows_chrome        34       238          1   \n",
       "\n",
       "   advertiser slotsize  \n",
       "0        1458        1  \n",
       "1        3476        2  \n",
       "2        1458        3  \n",
       "3        3427        2  \n",
       "4        3476        3  "
      ]
     },
     "execution_count": 9,
     "metadata": {},
     "output_type": "execute_result"
    }
   ],
   "source": [
    "df['hour'] = pd.cut(df['hour'], bins = [0,8,16,23.5], right=False, labels=[1,2,3])\n",
    "df['slotsize'] = pd.cut(df['slotsize'], bins = [0,40000,80000,120000], right=True, labels=[1,2,3])\n",
    "df.head()  "
   ]
  },
  {
   "cell_type": "code",
   "execution_count": 10,
   "metadata": {
    "collapsed": false
   },
   "outputs": [
    {
     "name": "stdout",
     "output_type": "stream",
     "text": [
      "<class 'pandas.core.frame.DataFrame'>\n",
      "Int64Index: 2697738 entries, 0 to 2697737\n",
      "Data columns (total 10 columns):\n",
      "click         int64\n",
      "weekday       int64\n",
      "hour          category\n",
      "region        int64\n",
      "useragent     object\n",
      "payprice      int64\n",
      "bidprice      int64\n",
      "slotformat    object\n",
      "advertiser    int64\n",
      "slotsize      category\n",
      "dtypes: category(2), int64(6), object(2)\n",
      "memory usage: 190.4+ MB\n"
     ]
    }
   ],
   "source": [
    "df.info()"
   ]
  },
  {
   "cell_type": "code",
   "execution_count": 11,
   "metadata": {
    "collapsed": false
   },
   "outputs": [
    {
     "data": {
      "text/plain": [
       "False"
      ]
     },
     "execution_count": 11,
     "metadata": {},
     "output_type": "execute_result"
    }
   ],
   "source": [
    "df = df.dropna()\n",
    "df.isnull().any().any()"
   ]
  },
  {
   "cell_type": "code",
   "execution_count": 12,
   "metadata": {
    "collapsed": true
   },
   "outputs": [],
   "source": [
    "from sklearn import preprocessing\n",
    "\n",
    "# Set the random seed\n",
    "np.random.seed(12)\n",
    "\n",
    "# Initialize label encoder\n",
    "label_encoder = preprocessing.LabelEncoder()"
   ]
  },
  {
   "cell_type": "markdown",
   "metadata": {},
   "source": [
    "### Dummy Coding"
   ]
  },
  {
   "cell_type": "code",
   "execution_count": 13,
   "metadata": {
    "collapsed": true
   },
   "outputs": [],
   "source": [
    "df[\"click\"] = label_encoder.fit_transform(df[\"click\"])\n",
    "df[\"weekday\"] = label_encoder.fit_transform(df[\"weekday\"])\n",
    "df[\"region\"] = label_encoder.fit_transform(df[\"region\"])\n",
    "\n",
    "df[\"hour\"] = label_encoder.fit_transform(df[\"hour\"])\n",
    "df[\"slotsize\"] = label_encoder.fit_transform(df[\"slotsize\"])\n",
    "df[\"slotformat\"] = label_encoder.fit_transform(df[\"slotformat\"])\n",
    "df[\"advertiser\"] = label_encoder.fit_transform(df[\"advertiser\"])"
   ]
  },
  {
   "cell_type": "code",
   "execution_count": 14,
   "metadata": {
    "collapsed": false
   },
   "outputs": [
    {
     "data": {
      "text/html": [
       "<div>\n",
       "<table border=\"1\" class=\"dataframe\">\n",
       "  <thead>\n",
       "    <tr style=\"text-align: right;\">\n",
       "      <th></th>\n",
       "      <th>click</th>\n",
       "      <th>weekday</th>\n",
       "      <th>hour</th>\n",
       "      <th>region</th>\n",
       "      <th>useragent</th>\n",
       "      <th>payprice</th>\n",
       "      <th>bidprice</th>\n",
       "      <th>slotformat</th>\n",
       "      <th>advertiser</th>\n",
       "      <th>slotsize</th>\n",
       "    </tr>\n",
       "  </thead>\n",
       "  <tbody>\n",
       "    <tr>\n",
       "      <th>0</th>\n",
       "      <td>0</td>\n",
       "      <td>1</td>\n",
       "      <td>1</td>\n",
       "      <td>10</td>\n",
       "      <td>windows_ie</td>\n",
       "      <td>54</td>\n",
       "      <td>300</td>\n",
       "      <td>0</td>\n",
       "      <td>0</td>\n",
       "      <td>0</td>\n",
       "    </tr>\n",
       "    <tr>\n",
       "      <th>1</th>\n",
       "      <td>0</td>\n",
       "      <td>2</td>\n",
       "      <td>2</td>\n",
       "      <td>11</td>\n",
       "      <td>windows_chrome</td>\n",
       "      <td>42</td>\n",
       "      <td>249</td>\n",
       "      <td>0</td>\n",
       "      <td>8</td>\n",
       "      <td>1</td>\n",
       "    </tr>\n",
       "    <tr>\n",
       "      <th>2</th>\n",
       "      <td>0</td>\n",
       "      <td>5</td>\n",
       "      <td>1</td>\n",
       "      <td>19</td>\n",
       "      <td>windows_ie</td>\n",
       "      <td>76</td>\n",
       "      <td>300</td>\n",
       "      <td>1</td>\n",
       "      <td>0</td>\n",
       "      <td>2</td>\n",
       "    </tr>\n",
       "    <tr>\n",
       "      <th>3</th>\n",
       "      <td>0</td>\n",
       "      <td>2</td>\n",
       "      <td>2</td>\n",
       "      <td>19</td>\n",
       "      <td>windows_ie</td>\n",
       "      <td>182</td>\n",
       "      <td>238</td>\n",
       "      <td>0</td>\n",
       "      <td>7</td>\n",
       "      <td>1</td>\n",
       "    </tr>\n",
       "    <tr>\n",
       "      <th>4</th>\n",
       "      <td>0</td>\n",
       "      <td>6</td>\n",
       "      <td>1</td>\n",
       "      <td>6</td>\n",
       "      <td>windows_chrome</td>\n",
       "      <td>34</td>\n",
       "      <td>238</td>\n",
       "      <td>1</td>\n",
       "      <td>8</td>\n",
       "      <td>2</td>\n",
       "    </tr>\n",
       "  </tbody>\n",
       "</table>\n",
       "</div>"
      ],
      "text/plain": [
       "   click  weekday  hour  region       useragent  payprice  bidprice  \\\n",
       "0      0        1     1      10      windows_ie        54       300   \n",
       "1      0        2     2      11  windows_chrome        42       249   \n",
       "2      0        5     1      19      windows_ie        76       300   \n",
       "3      0        2     2      19      windows_ie       182       238   \n",
       "4      0        6     1       6  windows_chrome        34       238   \n",
       "\n",
       "   slotformat  advertiser  slotsize  \n",
       "0           0           0         0  \n",
       "1           0           8         1  \n",
       "2           1           0         2  \n",
       "3           0           7         1  \n",
       "4           1           8         2  "
      ]
     },
     "execution_count": 14,
     "metadata": {},
     "output_type": "execute_result"
    }
   ],
   "source": [
    "df.head()"
   ]
  },
  {
   "cell_type": "code",
   "execution_count": 15,
   "metadata": {
    "collapsed": false
   },
   "outputs": [
    {
     "data": {
      "text/plain": [
       "windows_ie          1619590\n",
       "windows_chrome       885179\n",
       "android_safari        67728\n",
       "mac_safari            41409\n",
       "windows_firefox       24765\n",
       "windows_theworld      15305\n",
       "windows_other         12461\n",
       "mac_other              8700\n",
       "windows_maxthon        8075\n",
       "windows_opera          2434\n",
       "mac_chrome             2119\n",
       "android_other          1956\n",
       "other_other            1788\n",
       "windows_safari         1727\n",
       "linux_chrome           1060\n",
       "mac_firefox             844\n",
       "android_chrome          510\n",
       "android_opera           504\n",
       "ios_safari              433\n",
       "linux_firefox           413\n",
       "linux_safari            133\n",
       "other_opera             126\n",
       "linux_other              64\n",
       "other_safari             63\n",
       "mac_maxthon              35\n",
       "android_maxthon          35\n",
       "ios_other                31\n",
       "other_ie                 28\n",
       "linux_opera              20\n",
       "linux_ie                 19\n",
       "mac_opera                18\n",
       "android_firefox          18\n",
       "android_sogou            15\n",
       "mac_sogou                14\n",
       "other_chrome             13\n",
       "android_ie                8\n",
       "windows_sogou             4\n",
       "other_firefox             1\n",
       "mac_ie                    1\n",
       "Name: useragent, dtype: int64"
      ]
     },
     "execution_count": 15,
     "metadata": {},
     "output_type": "execute_result"
    }
   ],
   "source": [
    "df.useragent.value_counts()"
   ]
  },
  {
   "cell_type": "code",
   "execution_count": 16,
   "metadata": {
    "collapsed": true
   },
   "outputs": [],
   "source": [
    "from collections import Counter"
   ]
  },
  {
   "cell_type": "code",
   "execution_count": 17,
   "metadata": {
    "collapsed": false
   },
   "outputs": [
    {
     "data": {
      "text/plain": [
       "2697646"
      ]
     },
     "execution_count": 17,
     "metadata": {},
     "output_type": "execute_result"
    }
   ],
   "source": [
    "len(df.copy().useragent.tolist())"
   ]
  },
  {
   "cell_type": "code",
   "execution_count": 18,
   "metadata": {
    "collapsed": false
   },
   "outputs": [],
   "source": [
    "def useragent_processing(df):\n",
    "    df_copy = df.copy()\n",
    "    \n",
    "    current_attributes = df_copy.useragent.tolist()\n",
    "    useragent_processing_platform = [0] * len(current_attributes)\n",
    "        \n",
    "    for i in range(len(current_attributes)):\n",
    "        if (current_attributes[i] == 'windows_ie' or\\\n",
    "            current_attributes[i] == 'windows_chrome' or\\\n",
    "            current_attributes[i] == 'windows_firefox' or\\\n",
    "            current_attributes[i] == 'windows_theworld' or\\\n",
    "            current_attributes[i] == 'windows_other' or\\\n",
    "            current_attributes[i] == 'windows_maxthon' or\\\n",
    "            current_attributes[i] == 'windows_opera' or\\\n",
    "            current_attributes[i] == 'windows_safari' or\\\n",
    "            current_attributes[i] == 'windows_sogou'):\n",
    "            useragent_processing_platform[i] = 0 # windows\n",
    "            \n",
    "        elif (current_attributes[i] == 'android_safari' or\\\n",
    "              current_attributes[i] == 'android_other' or\\\n",
    "              current_attributes[i] == 'android_chrome' or\\\n",
    "              current_attributes[i] == 'android_opera' or\\\n",
    "              current_attributes[i] == 'android_maxthon' or\\\n",
    "              current_attributes[i] == 'android_firefox' or\\\n",
    "              current_attributes[i] == 'android_sogou' or\\\n",
    "              current_attributes[i] == 'android_ie'):\n",
    "            useragent_processing_platform[i] = 1 # android\n",
    "            \n",
    "        elif (current_attributes[i] == 'mac_safari' or\\\n",
    "              current_attributes[i] == 'mac_other' or\\\n",
    "              current_attributes[i] == 'mac_chrome' or\\\n",
    "              current_attributes[i] == 'mac_firefox' or\\\n",
    "              current_attributes[i] == 'mac_maxthon' or\\\n",
    "              current_attributes[i] == 'mac_opera' or\\\n",
    "              current_attributes[i] == 'mac_sogou' or\\\n",
    "              current_attributes[i] == 'mac_ie'):\n",
    "            useragent_processing_platform[i] = 2 # mac\n",
    "            \n",
    "        elif (current_attributes[i] == 'linux_chrome' or\\\n",
    "              current_attributes[i] == 'linux_firefox' or\\\n",
    "              current_attributes[i] == 'linux_safari' or\\\n",
    "              current_attributes[i] == 'linux_other' or\\\n",
    "              current_attributes[i] == 'linux_opera' or\\\n",
    "              current_attributes[i] == 'linux_ie'):\n",
    "            useragent_processing_platform[i] = 3 # linux\n",
    "            \n",
    "        elif (current_attributes[i] == 'ios_safari' or\\\n",
    "              current_attributes[i] == 'ios_other'):\n",
    "            useragent_processing_platform[i] = 4 # ios\n",
    "            \n",
    "        elif (current_attributes[i] == 'other_other' or\\\n",
    "              current_attributes[i] == 'other_opera' or\\\n",
    "              current_attributes[i] == 'other_safari' or\\\n",
    "              current_attributes[i] == 'other_ie' or\\\n",
    "              current_attributes[i] == 'other_chrome' or\\\n",
    "              current_attributes[i] == 'other_firefox'):\n",
    "            useragent_processing_platform[i] = 5 # other\n",
    "            \n",
    "        else:\n",
    "            useragent_processing_platform[i] = 6 # for sanity check\n",
    "        \n",
    "    return useragent_processing_platform"
   ]
  },
  {
   "cell_type": "code",
   "execution_count": 19,
   "metadata": {
    "collapsed": false
   },
   "outputs": [],
   "source": [
    "useragent_processing_platform = useragent_processing(df)"
   ]
  },
  {
   "cell_type": "code",
   "execution_count": 20,
   "metadata": {
    "collapsed": false
   },
   "outputs": [
    {
     "data": {
      "text/plain": [
       "Counter({0: 2569540, 1: 70774, 2: 53140, 3: 1709, 4: 464, 5: 2019})"
      ]
     },
     "execution_count": 20,
     "metadata": {},
     "output_type": "execute_result"
    }
   ],
   "source": [
    "Counter(useragent_processing_platform)"
   ]
  },
  {
   "cell_type": "code",
   "execution_count": 21,
   "metadata": {
    "collapsed": true
   },
   "outputs": [],
   "source": [
    "df_index = df.index.get_values()"
   ]
  },
  {
   "cell_type": "code",
   "execution_count": 22,
   "metadata": {
    "collapsed": false
   },
   "outputs": [],
   "source": [
    "def dummy_coding(df):\n",
    "    df_copy = df.copy()\n",
    "    \n",
    "    windows_true = [0] * len(useragent_processing_platform)\n",
    "    android_true = [0] * len(useragent_processing_platform)\n",
    "    mac_true = [0] * len(useragent_processing_platform)\n",
    "    linux_true = [0] * len(useragent_processing_platform)\n",
    "    ios_true = [0] * len(useragent_processing_platform)\n",
    "    other_true = [0] * len(useragent_processing_platform)\n",
    "    \n",
    "    for i in range(len(useragent_processing_platform)):\n",
    "        if useragent_processing_platform[i] == 0:\n",
    "            windows_true[i] = 1\n",
    "        elif useragent_processing_platform[i] == 1:\n",
    "            android_true[i] = 1\n",
    "        elif useragent_processing_platform[i] == 2:\n",
    "            mac_true[i] = 1\n",
    "        elif useragent_processing_platform[i] == 3:\n",
    "            linux_true[i] = 1\n",
    "        elif useragent_processing_platform[i] == 4:\n",
    "            ios_true[i] = 1\n",
    "        elif useragent_processing_platform[i] == 5:\n",
    "            other_true[i] = 1\n",
    "    \n",
    "    windows_true_array = np.asarray(windows_true)\n",
    "    df['agent_windows'] = pd.Series(windows_true_array, index = df_index)\n",
    "    \n",
    "    android_true_array = np.asarray(android_true)\n",
    "    df['agent_android'] = pd.Series(android_true_array, index = df_index)\n",
    "    \n",
    "    mac_true_array = np.asarray(mac_true)\n",
    "    df['agent_mac'] = pd.Series(mac_true_array, index = df_index)\n",
    "    \n",
    "    linux_true_array = np.asarray(linux_true)\n",
    "    df['agent_linux'] = pd.Series(linux_true_array, index = df_index)\n",
    "    \n",
    "    ios_true_array = np.asarray(ios_true)\n",
    "    df['agent_ios'] = pd.Series(ios_true_array, index = df_index)\n",
    "    \n",
    "    other_true_array = np.asarray(other_true)\n",
    "    df['agent_other'] = pd.Series(other_true_array, index = df_index)\n",
    "    \n",
    "    return df"
   ]
  },
  {
   "cell_type": "code",
   "execution_count": 23,
   "metadata": {
    "collapsed": false
   },
   "outputs": [],
   "source": [
    "df = dummy_coding(df)"
   ]
  },
  {
   "cell_type": "code",
   "execution_count": 24,
   "metadata": {
    "collapsed": false
   },
   "outputs": [
    {
     "data": {
      "text/html": [
       "<div>\n",
       "<table border=\"1\" class=\"dataframe\">\n",
       "  <thead>\n",
       "    <tr style=\"text-align: right;\">\n",
       "      <th></th>\n",
       "      <th>click</th>\n",
       "      <th>weekday</th>\n",
       "      <th>hour</th>\n",
       "      <th>region</th>\n",
       "      <th>useragent</th>\n",
       "      <th>payprice</th>\n",
       "      <th>bidprice</th>\n",
       "      <th>slotformat</th>\n",
       "      <th>advertiser</th>\n",
       "      <th>slotsize</th>\n",
       "      <th>agent_windows</th>\n",
       "      <th>agent_android</th>\n",
       "      <th>agent_mac</th>\n",
       "      <th>agent_linux</th>\n",
       "      <th>agent_ios</th>\n",
       "      <th>agent_other</th>\n",
       "    </tr>\n",
       "  </thead>\n",
       "  <tbody>\n",
       "    <tr>\n",
       "      <th>0</th>\n",
       "      <td>0</td>\n",
       "      <td>1</td>\n",
       "      <td>1</td>\n",
       "      <td>10</td>\n",
       "      <td>windows_ie</td>\n",
       "      <td>54</td>\n",
       "      <td>300</td>\n",
       "      <td>0</td>\n",
       "      <td>0</td>\n",
       "      <td>0</td>\n",
       "      <td>1</td>\n",
       "      <td>0</td>\n",
       "      <td>0</td>\n",
       "      <td>0</td>\n",
       "      <td>0</td>\n",
       "      <td>0</td>\n",
       "    </tr>\n",
       "    <tr>\n",
       "      <th>1</th>\n",
       "      <td>0</td>\n",
       "      <td>2</td>\n",
       "      <td>2</td>\n",
       "      <td>11</td>\n",
       "      <td>windows_chrome</td>\n",
       "      <td>42</td>\n",
       "      <td>249</td>\n",
       "      <td>0</td>\n",
       "      <td>8</td>\n",
       "      <td>1</td>\n",
       "      <td>1</td>\n",
       "      <td>0</td>\n",
       "      <td>0</td>\n",
       "      <td>0</td>\n",
       "      <td>0</td>\n",
       "      <td>0</td>\n",
       "    </tr>\n",
       "    <tr>\n",
       "      <th>2</th>\n",
       "      <td>0</td>\n",
       "      <td>5</td>\n",
       "      <td>1</td>\n",
       "      <td>19</td>\n",
       "      <td>windows_ie</td>\n",
       "      <td>76</td>\n",
       "      <td>300</td>\n",
       "      <td>1</td>\n",
       "      <td>0</td>\n",
       "      <td>2</td>\n",
       "      <td>1</td>\n",
       "      <td>0</td>\n",
       "      <td>0</td>\n",
       "      <td>0</td>\n",
       "      <td>0</td>\n",
       "      <td>0</td>\n",
       "    </tr>\n",
       "    <tr>\n",
       "      <th>3</th>\n",
       "      <td>0</td>\n",
       "      <td>2</td>\n",
       "      <td>2</td>\n",
       "      <td>19</td>\n",
       "      <td>windows_ie</td>\n",
       "      <td>182</td>\n",
       "      <td>238</td>\n",
       "      <td>0</td>\n",
       "      <td>7</td>\n",
       "      <td>1</td>\n",
       "      <td>1</td>\n",
       "      <td>0</td>\n",
       "      <td>0</td>\n",
       "      <td>0</td>\n",
       "      <td>0</td>\n",
       "      <td>0</td>\n",
       "    </tr>\n",
       "    <tr>\n",
       "      <th>4</th>\n",
       "      <td>0</td>\n",
       "      <td>6</td>\n",
       "      <td>1</td>\n",
       "      <td>6</td>\n",
       "      <td>windows_chrome</td>\n",
       "      <td>34</td>\n",
       "      <td>238</td>\n",
       "      <td>1</td>\n",
       "      <td>8</td>\n",
       "      <td>2</td>\n",
       "      <td>1</td>\n",
       "      <td>0</td>\n",
       "      <td>0</td>\n",
       "      <td>0</td>\n",
       "      <td>0</td>\n",
       "      <td>0</td>\n",
       "    </tr>\n",
       "    <tr>\n",
       "      <th>5</th>\n",
       "      <td>0</td>\n",
       "      <td>3</td>\n",
       "      <td>2</td>\n",
       "      <td>3</td>\n",
       "      <td>windows_ie</td>\n",
       "      <td>99</td>\n",
       "      <td>227</td>\n",
       "      <td>1</td>\n",
       "      <td>5</td>\n",
       "      <td>1</td>\n",
       "      <td>1</td>\n",
       "      <td>0</td>\n",
       "      <td>0</td>\n",
       "      <td>0</td>\n",
       "      <td>0</td>\n",
       "      <td>0</td>\n",
       "    </tr>\n",
       "    <tr>\n",
       "      <th>6</th>\n",
       "      <td>0</td>\n",
       "      <td>5</td>\n",
       "      <td>2</td>\n",
       "      <td>19</td>\n",
       "      <td>windows_chrome</td>\n",
       "      <td>61</td>\n",
       "      <td>277</td>\n",
       "      <td>3</td>\n",
       "      <td>1</td>\n",
       "      <td>1</td>\n",
       "      <td>1</td>\n",
       "      <td>0</td>\n",
       "      <td>0</td>\n",
       "      <td>0</td>\n",
       "      <td>0</td>\n",
       "      <td>0</td>\n",
       "    </tr>\n",
       "    <tr>\n",
       "      <th>7</th>\n",
       "      <td>0</td>\n",
       "      <td>0</td>\n",
       "      <td>2</td>\n",
       "      <td>19</td>\n",
       "      <td>windows_chrome</td>\n",
       "      <td>39</td>\n",
       "      <td>294</td>\n",
       "      <td>3</td>\n",
       "      <td>3</td>\n",
       "      <td>2</td>\n",
       "      <td>1</td>\n",
       "      <td>0</td>\n",
       "      <td>0</td>\n",
       "      <td>0</td>\n",
       "      <td>0</td>\n",
       "      <td>0</td>\n",
       "    </tr>\n",
       "    <tr>\n",
       "      <th>8</th>\n",
       "      <td>0</td>\n",
       "      <td>4</td>\n",
       "      <td>2</td>\n",
       "      <td>18</td>\n",
       "      <td>windows_ie</td>\n",
       "      <td>111</td>\n",
       "      <td>300</td>\n",
       "      <td>0</td>\n",
       "      <td>6</td>\n",
       "      <td>2</td>\n",
       "      <td>1</td>\n",
       "      <td>0</td>\n",
       "      <td>0</td>\n",
       "      <td>0</td>\n",
       "      <td>0</td>\n",
       "      <td>0</td>\n",
       "    </tr>\n",
       "    <tr>\n",
       "      <th>9</th>\n",
       "      <td>0</td>\n",
       "      <td>0</td>\n",
       "      <td>2</td>\n",
       "      <td>7</td>\n",
       "      <td>windows_ie</td>\n",
       "      <td>30</td>\n",
       "      <td>300</td>\n",
       "      <td>0</td>\n",
       "      <td>0</td>\n",
       "      <td>2</td>\n",
       "      <td>1</td>\n",
       "      <td>0</td>\n",
       "      <td>0</td>\n",
       "      <td>0</td>\n",
       "      <td>0</td>\n",
       "      <td>0</td>\n",
       "    </tr>\n",
       "    <tr>\n",
       "      <th>10</th>\n",
       "      <td>0</td>\n",
       "      <td>0</td>\n",
       "      <td>0</td>\n",
       "      <td>27</td>\n",
       "      <td>windows_ie</td>\n",
       "      <td>20</td>\n",
       "      <td>300</td>\n",
       "      <td>0</td>\n",
       "      <td>6</td>\n",
       "      <td>1</td>\n",
       "      <td>1</td>\n",
       "      <td>0</td>\n",
       "      <td>0</td>\n",
       "      <td>0</td>\n",
       "      <td>0</td>\n",
       "      <td>0</td>\n",
       "    </tr>\n",
       "    <tr>\n",
       "      <th>11</th>\n",
       "      <td>0</td>\n",
       "      <td>3</td>\n",
       "      <td>2</td>\n",
       "      <td>7</td>\n",
       "      <td>windows_chrome</td>\n",
       "      <td>50</td>\n",
       "      <td>300</td>\n",
       "      <td>0</td>\n",
       "      <td>0</td>\n",
       "      <td>2</td>\n",
       "      <td>1</td>\n",
       "      <td>0</td>\n",
       "      <td>0</td>\n",
       "      <td>0</td>\n",
       "      <td>0</td>\n",
       "      <td>0</td>\n",
       "    </tr>\n",
       "    <tr>\n",
       "      <th>12</th>\n",
       "      <td>0</td>\n",
       "      <td>5</td>\n",
       "      <td>0</td>\n",
       "      <td>19</td>\n",
       "      <td>windows_chrome</td>\n",
       "      <td>70</td>\n",
       "      <td>300</td>\n",
       "      <td>0</td>\n",
       "      <td>0</td>\n",
       "      <td>2</td>\n",
       "      <td>1</td>\n",
       "      <td>0</td>\n",
       "      <td>0</td>\n",
       "      <td>0</td>\n",
       "      <td>0</td>\n",
       "      <td>0</td>\n",
       "    </tr>\n",
       "    <tr>\n",
       "      <th>13</th>\n",
       "      <td>0</td>\n",
       "      <td>1</td>\n",
       "      <td>1</td>\n",
       "      <td>23</td>\n",
       "      <td>windows_ie</td>\n",
       "      <td>73</td>\n",
       "      <td>238</td>\n",
       "      <td>1</td>\n",
       "      <td>8</td>\n",
       "      <td>2</td>\n",
       "      <td>1</td>\n",
       "      <td>0</td>\n",
       "      <td>0</td>\n",
       "      <td>0</td>\n",
       "      <td>0</td>\n",
       "      <td>0</td>\n",
       "    </tr>\n",
       "    <tr>\n",
       "      <th>14</th>\n",
       "      <td>0</td>\n",
       "      <td>0</td>\n",
       "      <td>1</td>\n",
       "      <td>16</td>\n",
       "      <td>windows_chrome</td>\n",
       "      <td>22</td>\n",
       "      <td>241</td>\n",
       "      <td>0</td>\n",
       "      <td>7</td>\n",
       "      <td>2</td>\n",
       "      <td>1</td>\n",
       "      <td>0</td>\n",
       "      <td>0</td>\n",
       "      <td>0</td>\n",
       "      <td>0</td>\n",
       "      <td>0</td>\n",
       "    </tr>\n",
       "    <tr>\n",
       "      <th>15</th>\n",
       "      <td>0</td>\n",
       "      <td>0</td>\n",
       "      <td>2</td>\n",
       "      <td>27</td>\n",
       "      <td>windows_chrome</td>\n",
       "      <td>52</td>\n",
       "      <td>254</td>\n",
       "      <td>0</td>\n",
       "      <td>8</td>\n",
       "      <td>2</td>\n",
       "      <td>1</td>\n",
       "      <td>0</td>\n",
       "      <td>0</td>\n",
       "      <td>0</td>\n",
       "      <td>0</td>\n",
       "      <td>0</td>\n",
       "    </tr>\n",
       "    <tr>\n",
       "      <th>16</th>\n",
       "      <td>0</td>\n",
       "      <td>0</td>\n",
       "      <td>1</td>\n",
       "      <td>18</td>\n",
       "      <td>windows_chrome</td>\n",
       "      <td>59</td>\n",
       "      <td>300</td>\n",
       "      <td>0</td>\n",
       "      <td>0</td>\n",
       "      <td>1</td>\n",
       "      <td>1</td>\n",
       "      <td>0</td>\n",
       "      <td>0</td>\n",
       "      <td>0</td>\n",
       "      <td>0</td>\n",
       "      <td>0</td>\n",
       "    </tr>\n",
       "    <tr>\n",
       "      <th>17</th>\n",
       "      <td>0</td>\n",
       "      <td>4</td>\n",
       "      <td>0</td>\n",
       "      <td>25</td>\n",
       "      <td>windows_ie</td>\n",
       "      <td>56</td>\n",
       "      <td>227</td>\n",
       "      <td>1</td>\n",
       "      <td>5</td>\n",
       "      <td>2</td>\n",
       "      <td>1</td>\n",
       "      <td>0</td>\n",
       "      <td>0</td>\n",
       "      <td>0</td>\n",
       "      <td>0</td>\n",
       "      <td>0</td>\n",
       "    </tr>\n",
       "    <tr>\n",
       "      <th>18</th>\n",
       "      <td>0</td>\n",
       "      <td>0</td>\n",
       "      <td>1</td>\n",
       "      <td>27</td>\n",
       "      <td>windows_ie</td>\n",
       "      <td>20</td>\n",
       "      <td>300</td>\n",
       "      <td>0</td>\n",
       "      <td>6</td>\n",
       "      <td>2</td>\n",
       "      <td>1</td>\n",
       "      <td>0</td>\n",
       "      <td>0</td>\n",
       "      <td>0</td>\n",
       "      <td>0</td>\n",
       "      <td>0</td>\n",
       "    </tr>\n",
       "    <tr>\n",
       "      <th>19</th>\n",
       "      <td>0</td>\n",
       "      <td>0</td>\n",
       "      <td>2</td>\n",
       "      <td>1</td>\n",
       "      <td>windows_ie</td>\n",
       "      <td>243</td>\n",
       "      <td>294</td>\n",
       "      <td>3</td>\n",
       "      <td>3</td>\n",
       "      <td>1</td>\n",
       "      <td>1</td>\n",
       "      <td>0</td>\n",
       "      <td>0</td>\n",
       "      <td>0</td>\n",
       "      <td>0</td>\n",
       "      <td>0</td>\n",
       "    </tr>\n",
       "    <tr>\n",
       "      <th>20</th>\n",
       "      <td>0</td>\n",
       "      <td>1</td>\n",
       "      <td>2</td>\n",
       "      <td>25</td>\n",
       "      <td>windows_chrome</td>\n",
       "      <td>75</td>\n",
       "      <td>300</td>\n",
       "      <td>1</td>\n",
       "      <td>0</td>\n",
       "      <td>2</td>\n",
       "      <td>1</td>\n",
       "      <td>0</td>\n",
       "      <td>0</td>\n",
       "      <td>0</td>\n",
       "      <td>0</td>\n",
       "      <td>0</td>\n",
       "    </tr>\n",
       "    <tr>\n",
       "      <th>21</th>\n",
       "      <td>0</td>\n",
       "      <td>6</td>\n",
       "      <td>2</td>\n",
       "      <td>6</td>\n",
       "      <td>windows_ie</td>\n",
       "      <td>55</td>\n",
       "      <td>241</td>\n",
       "      <td>0</td>\n",
       "      <td>7</td>\n",
       "      <td>1</td>\n",
       "      <td>1</td>\n",
       "      <td>0</td>\n",
       "      <td>0</td>\n",
       "      <td>0</td>\n",
       "      <td>0</td>\n",
       "      <td>0</td>\n",
       "    </tr>\n",
       "    <tr>\n",
       "      <th>22</th>\n",
       "      <td>0</td>\n",
       "      <td>3</td>\n",
       "      <td>1</td>\n",
       "      <td>15</td>\n",
       "      <td>android_safari</td>\n",
       "      <td>117</td>\n",
       "      <td>277</td>\n",
       "      <td>3</td>\n",
       "      <td>4</td>\n",
       "      <td>0</td>\n",
       "      <td>0</td>\n",
       "      <td>1</td>\n",
       "      <td>0</td>\n",
       "      <td>0</td>\n",
       "      <td>0</td>\n",
       "      <td>0</td>\n",
       "    </tr>\n",
       "    <tr>\n",
       "      <th>23</th>\n",
       "      <td>0</td>\n",
       "      <td>6</td>\n",
       "      <td>2</td>\n",
       "      <td>3</td>\n",
       "      <td>windows_ie</td>\n",
       "      <td>129</td>\n",
       "      <td>241</td>\n",
       "      <td>0</td>\n",
       "      <td>7</td>\n",
       "      <td>2</td>\n",
       "      <td>1</td>\n",
       "      <td>0</td>\n",
       "      <td>0</td>\n",
       "      <td>0</td>\n",
       "      <td>0</td>\n",
       "      <td>0</td>\n",
       "    </tr>\n",
       "    <tr>\n",
       "      <th>24</th>\n",
       "      <td>0</td>\n",
       "      <td>3</td>\n",
       "      <td>2</td>\n",
       "      <td>31</td>\n",
       "      <td>windows_ie</td>\n",
       "      <td>77</td>\n",
       "      <td>241</td>\n",
       "      <td>0</td>\n",
       "      <td>5</td>\n",
       "      <td>2</td>\n",
       "      <td>1</td>\n",
       "      <td>0</td>\n",
       "      <td>0</td>\n",
       "      <td>0</td>\n",
       "      <td>0</td>\n",
       "      <td>0</td>\n",
       "    </tr>\n",
       "    <tr>\n",
       "      <th>25</th>\n",
       "      <td>0</td>\n",
       "      <td>6</td>\n",
       "      <td>2</td>\n",
       "      <td>4</td>\n",
       "      <td>windows_ie</td>\n",
       "      <td>53</td>\n",
       "      <td>227</td>\n",
       "      <td>1</td>\n",
       "      <td>7</td>\n",
       "      <td>1</td>\n",
       "      <td>1</td>\n",
       "      <td>0</td>\n",
       "      <td>0</td>\n",
       "      <td>0</td>\n",
       "      <td>0</td>\n",
       "      <td>0</td>\n",
       "    </tr>\n",
       "    <tr>\n",
       "      <th>26</th>\n",
       "      <td>0</td>\n",
       "      <td>3</td>\n",
       "      <td>1</td>\n",
       "      <td>13</td>\n",
       "      <td>windows_ie</td>\n",
       "      <td>86</td>\n",
       "      <td>300</td>\n",
       "      <td>1</td>\n",
       "      <td>0</td>\n",
       "      <td>2</td>\n",
       "      <td>1</td>\n",
       "      <td>0</td>\n",
       "      <td>0</td>\n",
       "      <td>0</td>\n",
       "      <td>0</td>\n",
       "      <td>0</td>\n",
       "    </tr>\n",
       "    <tr>\n",
       "      <th>27</th>\n",
       "      <td>0</td>\n",
       "      <td>3</td>\n",
       "      <td>2</td>\n",
       "      <td>14</td>\n",
       "      <td>windows_ie</td>\n",
       "      <td>37</td>\n",
       "      <td>294</td>\n",
       "      <td>3</td>\n",
       "      <td>2</td>\n",
       "      <td>2</td>\n",
       "      <td>1</td>\n",
       "      <td>0</td>\n",
       "      <td>0</td>\n",
       "      <td>0</td>\n",
       "      <td>0</td>\n",
       "      <td>0</td>\n",
       "    </tr>\n",
       "    <tr>\n",
       "      <th>28</th>\n",
       "      <td>0</td>\n",
       "      <td>0</td>\n",
       "      <td>2</td>\n",
       "      <td>6</td>\n",
       "      <td>windows_chrome</td>\n",
       "      <td>50</td>\n",
       "      <td>300</td>\n",
       "      <td>0</td>\n",
       "      <td>6</td>\n",
       "      <td>1</td>\n",
       "      <td>1</td>\n",
       "      <td>0</td>\n",
       "      <td>0</td>\n",
       "      <td>0</td>\n",
       "      <td>0</td>\n",
       "      <td>0</td>\n",
       "    </tr>\n",
       "    <tr>\n",
       "      <th>29</th>\n",
       "      <td>0</td>\n",
       "      <td>5</td>\n",
       "      <td>2</td>\n",
       "      <td>1</td>\n",
       "      <td>android_safari</td>\n",
       "      <td>30</td>\n",
       "      <td>277</td>\n",
       "      <td>3</td>\n",
       "      <td>4</td>\n",
       "      <td>0</td>\n",
       "      <td>0</td>\n",
       "      <td>1</td>\n",
       "      <td>0</td>\n",
       "      <td>0</td>\n",
       "      <td>0</td>\n",
       "      <td>0</td>\n",
       "    </tr>\n",
       "    <tr>\n",
       "      <th>...</th>\n",
       "      <td>...</td>\n",
       "      <td>...</td>\n",
       "      <td>...</td>\n",
       "      <td>...</td>\n",
       "      <td>...</td>\n",
       "      <td>...</td>\n",
       "      <td>...</td>\n",
       "      <td>...</td>\n",
       "      <td>...</td>\n",
       "      <td>...</td>\n",
       "      <td>...</td>\n",
       "      <td>...</td>\n",
       "      <td>...</td>\n",
       "      <td>...</td>\n",
       "      <td>...</td>\n",
       "      <td>...</td>\n",
       "    </tr>\n",
       "    <tr>\n",
       "      <th>2697708</th>\n",
       "      <td>0</td>\n",
       "      <td>6</td>\n",
       "      <td>2</td>\n",
       "      <td>10</td>\n",
       "      <td>windows_chrome</td>\n",
       "      <td>88</td>\n",
       "      <td>241</td>\n",
       "      <td>0</td>\n",
       "      <td>7</td>\n",
       "      <td>2</td>\n",
       "      <td>1</td>\n",
       "      <td>0</td>\n",
       "      <td>0</td>\n",
       "      <td>0</td>\n",
       "      <td>0</td>\n",
       "      <td>0</td>\n",
       "    </tr>\n",
       "    <tr>\n",
       "      <th>2697709</th>\n",
       "      <td>0</td>\n",
       "      <td>4</td>\n",
       "      <td>1</td>\n",
       "      <td>13</td>\n",
       "      <td>windows_ie</td>\n",
       "      <td>222</td>\n",
       "      <td>300</td>\n",
       "      <td>0</td>\n",
       "      <td>0</td>\n",
       "      <td>2</td>\n",
       "      <td>1</td>\n",
       "      <td>0</td>\n",
       "      <td>0</td>\n",
       "      <td>0</td>\n",
       "      <td>0</td>\n",
       "      <td>0</td>\n",
       "    </tr>\n",
       "    <tr>\n",
       "      <th>2697710</th>\n",
       "      <td>0</td>\n",
       "      <td>2</td>\n",
       "      <td>2</td>\n",
       "      <td>2</td>\n",
       "      <td>windows_chrome</td>\n",
       "      <td>52</td>\n",
       "      <td>300</td>\n",
       "      <td>0</td>\n",
       "      <td>6</td>\n",
       "      <td>1</td>\n",
       "      <td>1</td>\n",
       "      <td>0</td>\n",
       "      <td>0</td>\n",
       "      <td>0</td>\n",
       "      <td>0</td>\n",
       "      <td>0</td>\n",
       "    </tr>\n",
       "    <tr>\n",
       "      <th>2697711</th>\n",
       "      <td>0</td>\n",
       "      <td>1</td>\n",
       "      <td>2</td>\n",
       "      <td>19</td>\n",
       "      <td>windows_ie</td>\n",
       "      <td>20</td>\n",
       "      <td>294</td>\n",
       "      <td>3</td>\n",
       "      <td>1</td>\n",
       "      <td>1</td>\n",
       "      <td>1</td>\n",
       "      <td>0</td>\n",
       "      <td>0</td>\n",
       "      <td>0</td>\n",
       "      <td>0</td>\n",
       "      <td>0</td>\n",
       "    </tr>\n",
       "    <tr>\n",
       "      <th>2697712</th>\n",
       "      <td>0</td>\n",
       "      <td>5</td>\n",
       "      <td>1</td>\n",
       "      <td>19</td>\n",
       "      <td>windows_ie</td>\n",
       "      <td>168</td>\n",
       "      <td>238</td>\n",
       "      <td>0</td>\n",
       "      <td>7</td>\n",
       "      <td>0</td>\n",
       "      <td>1</td>\n",
       "      <td>0</td>\n",
       "      <td>0</td>\n",
       "      <td>0</td>\n",
       "      <td>0</td>\n",
       "      <td>0</td>\n",
       "    </tr>\n",
       "    <tr>\n",
       "      <th>2697713</th>\n",
       "      <td>0</td>\n",
       "      <td>5</td>\n",
       "      <td>1</td>\n",
       "      <td>18</td>\n",
       "      <td>windows_ie</td>\n",
       "      <td>199</td>\n",
       "      <td>300</td>\n",
       "      <td>0</td>\n",
       "      <td>6</td>\n",
       "      <td>1</td>\n",
       "      <td>1</td>\n",
       "      <td>0</td>\n",
       "      <td>0</td>\n",
       "      <td>0</td>\n",
       "      <td>0</td>\n",
       "      <td>0</td>\n",
       "    </tr>\n",
       "    <tr>\n",
       "      <th>2697714</th>\n",
       "      <td>0</td>\n",
       "      <td>0</td>\n",
       "      <td>2</td>\n",
       "      <td>20</td>\n",
       "      <td>windows_theworld</td>\n",
       "      <td>240</td>\n",
       "      <td>238</td>\n",
       "      <td>1</td>\n",
       "      <td>8</td>\n",
       "      <td>1</td>\n",
       "      <td>1</td>\n",
       "      <td>0</td>\n",
       "      <td>0</td>\n",
       "      <td>0</td>\n",
       "      <td>0</td>\n",
       "      <td>0</td>\n",
       "    </tr>\n",
       "    <tr>\n",
       "      <th>2697715</th>\n",
       "      <td>1</td>\n",
       "      <td>1</td>\n",
       "      <td>2</td>\n",
       "      <td>19</td>\n",
       "      <td>windows_chrome</td>\n",
       "      <td>156</td>\n",
       "      <td>277</td>\n",
       "      <td>3</td>\n",
       "      <td>1</td>\n",
       "      <td>0</td>\n",
       "      <td>1</td>\n",
       "      <td>0</td>\n",
       "      <td>0</td>\n",
       "      <td>0</td>\n",
       "      <td>0</td>\n",
       "      <td>0</td>\n",
       "    </tr>\n",
       "    <tr>\n",
       "      <th>2697716</th>\n",
       "      <td>0</td>\n",
       "      <td>4</td>\n",
       "      <td>1</td>\n",
       "      <td>1</td>\n",
       "      <td>windows_chrome</td>\n",
       "      <td>50</td>\n",
       "      <td>300</td>\n",
       "      <td>0</td>\n",
       "      <td>0</td>\n",
       "      <td>2</td>\n",
       "      <td>1</td>\n",
       "      <td>0</td>\n",
       "      <td>0</td>\n",
       "      <td>0</td>\n",
       "      <td>0</td>\n",
       "      <td>0</td>\n",
       "    </tr>\n",
       "    <tr>\n",
       "      <th>2697717</th>\n",
       "      <td>0</td>\n",
       "      <td>4</td>\n",
       "      <td>1</td>\n",
       "      <td>17</td>\n",
       "      <td>windows_ie</td>\n",
       "      <td>50</td>\n",
       "      <td>300</td>\n",
       "      <td>0</td>\n",
       "      <td>0</td>\n",
       "      <td>2</td>\n",
       "      <td>1</td>\n",
       "      <td>0</td>\n",
       "      <td>0</td>\n",
       "      <td>0</td>\n",
       "      <td>0</td>\n",
       "      <td>0</td>\n",
       "    </tr>\n",
       "    <tr>\n",
       "      <th>2697718</th>\n",
       "      <td>0</td>\n",
       "      <td>0</td>\n",
       "      <td>1</td>\n",
       "      <td>13</td>\n",
       "      <td>windows_ie</td>\n",
       "      <td>18</td>\n",
       "      <td>300</td>\n",
       "      <td>1</td>\n",
       "      <td>0</td>\n",
       "      <td>2</td>\n",
       "      <td>1</td>\n",
       "      <td>0</td>\n",
       "      <td>0</td>\n",
       "      <td>0</td>\n",
       "      <td>0</td>\n",
       "      <td>0</td>\n",
       "    </tr>\n",
       "    <tr>\n",
       "      <th>2697719</th>\n",
       "      <td>0</td>\n",
       "      <td>4</td>\n",
       "      <td>0</td>\n",
       "      <td>4</td>\n",
       "      <td>windows_ie</td>\n",
       "      <td>66</td>\n",
       "      <td>238</td>\n",
       "      <td>0</td>\n",
       "      <td>5</td>\n",
       "      <td>1</td>\n",
       "      <td>1</td>\n",
       "      <td>0</td>\n",
       "      <td>0</td>\n",
       "      <td>0</td>\n",
       "      <td>0</td>\n",
       "      <td>0</td>\n",
       "    </tr>\n",
       "    <tr>\n",
       "      <th>2697720</th>\n",
       "      <td>0</td>\n",
       "      <td>4</td>\n",
       "      <td>1</td>\n",
       "      <td>19</td>\n",
       "      <td>windows_chrome</td>\n",
       "      <td>38</td>\n",
       "      <td>300</td>\n",
       "      <td>0</td>\n",
       "      <td>6</td>\n",
       "      <td>0</td>\n",
       "      <td>1</td>\n",
       "      <td>0</td>\n",
       "      <td>0</td>\n",
       "      <td>0</td>\n",
       "      <td>0</td>\n",
       "      <td>0</td>\n",
       "    </tr>\n",
       "    <tr>\n",
       "      <th>2697721</th>\n",
       "      <td>0</td>\n",
       "      <td>2</td>\n",
       "      <td>0</td>\n",
       "      <td>10</td>\n",
       "      <td>windows_ie</td>\n",
       "      <td>123</td>\n",
       "      <td>227</td>\n",
       "      <td>1</td>\n",
       "      <td>5</td>\n",
       "      <td>2</td>\n",
       "      <td>1</td>\n",
       "      <td>0</td>\n",
       "      <td>0</td>\n",
       "      <td>0</td>\n",
       "      <td>0</td>\n",
       "      <td>0</td>\n",
       "    </tr>\n",
       "    <tr>\n",
       "      <th>2697722</th>\n",
       "      <td>0</td>\n",
       "      <td>3</td>\n",
       "      <td>1</td>\n",
       "      <td>18</td>\n",
       "      <td>windows_ie</td>\n",
       "      <td>73</td>\n",
       "      <td>254</td>\n",
       "      <td>0</td>\n",
       "      <td>8</td>\n",
       "      <td>2</td>\n",
       "      <td>1</td>\n",
       "      <td>0</td>\n",
       "      <td>0</td>\n",
       "      <td>0</td>\n",
       "      <td>0</td>\n",
       "      <td>0</td>\n",
       "    </tr>\n",
       "    <tr>\n",
       "      <th>2697723</th>\n",
       "      <td>0</td>\n",
       "      <td>1</td>\n",
       "      <td>0</td>\n",
       "      <td>0</td>\n",
       "      <td>windows_ie</td>\n",
       "      <td>20</td>\n",
       "      <td>300</td>\n",
       "      <td>0</td>\n",
       "      <td>6</td>\n",
       "      <td>1</td>\n",
       "      <td>1</td>\n",
       "      <td>0</td>\n",
       "      <td>0</td>\n",
       "      <td>0</td>\n",
       "      <td>0</td>\n",
       "      <td>0</td>\n",
       "    </tr>\n",
       "    <tr>\n",
       "      <th>2697724</th>\n",
       "      <td>0</td>\n",
       "      <td>6</td>\n",
       "      <td>2</td>\n",
       "      <td>1</td>\n",
       "      <td>windows_chrome</td>\n",
       "      <td>77</td>\n",
       "      <td>241</td>\n",
       "      <td>0</td>\n",
       "      <td>7</td>\n",
       "      <td>2</td>\n",
       "      <td>1</td>\n",
       "      <td>0</td>\n",
       "      <td>0</td>\n",
       "      <td>0</td>\n",
       "      <td>0</td>\n",
       "      <td>0</td>\n",
       "    </tr>\n",
       "    <tr>\n",
       "      <th>2697725</th>\n",
       "      <td>0</td>\n",
       "      <td>4</td>\n",
       "      <td>0</td>\n",
       "      <td>0</td>\n",
       "      <td>windows_ie</td>\n",
       "      <td>20</td>\n",
       "      <td>294</td>\n",
       "      <td>3</td>\n",
       "      <td>2</td>\n",
       "      <td>2</td>\n",
       "      <td>1</td>\n",
       "      <td>0</td>\n",
       "      <td>0</td>\n",
       "      <td>0</td>\n",
       "      <td>0</td>\n",
       "      <td>0</td>\n",
       "    </tr>\n",
       "    <tr>\n",
       "      <th>2697726</th>\n",
       "      <td>0</td>\n",
       "      <td>0</td>\n",
       "      <td>1</td>\n",
       "      <td>16</td>\n",
       "      <td>windows_chrome</td>\n",
       "      <td>231</td>\n",
       "      <td>238</td>\n",
       "      <td>0</td>\n",
       "      <td>7</td>\n",
       "      <td>1</td>\n",
       "      <td>1</td>\n",
       "      <td>0</td>\n",
       "      <td>0</td>\n",
       "      <td>0</td>\n",
       "      <td>0</td>\n",
       "      <td>0</td>\n",
       "    </tr>\n",
       "    <tr>\n",
       "      <th>2697727</th>\n",
       "      <td>0</td>\n",
       "      <td>4</td>\n",
       "      <td>1</td>\n",
       "      <td>7</td>\n",
       "      <td>windows_ie</td>\n",
       "      <td>77</td>\n",
       "      <td>241</td>\n",
       "      <td>0</td>\n",
       "      <td>7</td>\n",
       "      <td>2</td>\n",
       "      <td>1</td>\n",
       "      <td>0</td>\n",
       "      <td>0</td>\n",
       "      <td>0</td>\n",
       "      <td>0</td>\n",
       "      <td>0</td>\n",
       "    </tr>\n",
       "    <tr>\n",
       "      <th>2697728</th>\n",
       "      <td>0</td>\n",
       "      <td>6</td>\n",
       "      <td>2</td>\n",
       "      <td>18</td>\n",
       "      <td>windows_ie</td>\n",
       "      <td>52</td>\n",
       "      <td>300</td>\n",
       "      <td>1</td>\n",
       "      <td>0</td>\n",
       "      <td>2</td>\n",
       "      <td>1</td>\n",
       "      <td>0</td>\n",
       "      <td>0</td>\n",
       "      <td>0</td>\n",
       "      <td>0</td>\n",
       "      <td>0</td>\n",
       "    </tr>\n",
       "    <tr>\n",
       "      <th>2697729</th>\n",
       "      <td>0</td>\n",
       "      <td>4</td>\n",
       "      <td>0</td>\n",
       "      <td>20</td>\n",
       "      <td>windows_firefox</td>\n",
       "      <td>10</td>\n",
       "      <td>254</td>\n",
       "      <td>0</td>\n",
       "      <td>8</td>\n",
       "      <td>2</td>\n",
       "      <td>1</td>\n",
       "      <td>0</td>\n",
       "      <td>0</td>\n",
       "      <td>0</td>\n",
       "      <td>0</td>\n",
       "      <td>0</td>\n",
       "    </tr>\n",
       "    <tr>\n",
       "      <th>2697730</th>\n",
       "      <td>0</td>\n",
       "      <td>3</td>\n",
       "      <td>1</td>\n",
       "      <td>11</td>\n",
       "      <td>windows_chrome</td>\n",
       "      <td>45</td>\n",
       "      <td>227</td>\n",
       "      <td>1</td>\n",
       "      <td>7</td>\n",
       "      <td>2</td>\n",
       "      <td>1</td>\n",
       "      <td>0</td>\n",
       "      <td>0</td>\n",
       "      <td>0</td>\n",
       "      <td>0</td>\n",
       "      <td>0</td>\n",
       "    </tr>\n",
       "    <tr>\n",
       "      <th>2697731</th>\n",
       "      <td>0</td>\n",
       "      <td>1</td>\n",
       "      <td>1</td>\n",
       "      <td>8</td>\n",
       "      <td>windows_chrome</td>\n",
       "      <td>32</td>\n",
       "      <td>294</td>\n",
       "      <td>3</td>\n",
       "      <td>3</td>\n",
       "      <td>1</td>\n",
       "      <td>1</td>\n",
       "      <td>0</td>\n",
       "      <td>0</td>\n",
       "      <td>0</td>\n",
       "      <td>0</td>\n",
       "      <td>0</td>\n",
       "    </tr>\n",
       "    <tr>\n",
       "      <th>2697732</th>\n",
       "      <td>0</td>\n",
       "      <td>2</td>\n",
       "      <td>1</td>\n",
       "      <td>20</td>\n",
       "      <td>windows_chrome</td>\n",
       "      <td>24</td>\n",
       "      <td>238</td>\n",
       "      <td>0</td>\n",
       "      <td>7</td>\n",
       "      <td>1</td>\n",
       "      <td>1</td>\n",
       "      <td>0</td>\n",
       "      <td>0</td>\n",
       "      <td>0</td>\n",
       "      <td>0</td>\n",
       "      <td>0</td>\n",
       "    </tr>\n",
       "    <tr>\n",
       "      <th>2697733</th>\n",
       "      <td>0</td>\n",
       "      <td>2</td>\n",
       "      <td>2</td>\n",
       "      <td>6</td>\n",
       "      <td>windows_ie</td>\n",
       "      <td>77</td>\n",
       "      <td>241</td>\n",
       "      <td>0</td>\n",
       "      <td>7</td>\n",
       "      <td>2</td>\n",
       "      <td>1</td>\n",
       "      <td>0</td>\n",
       "      <td>0</td>\n",
       "      <td>0</td>\n",
       "      <td>0</td>\n",
       "      <td>0</td>\n",
       "    </tr>\n",
       "    <tr>\n",
       "      <th>2697734</th>\n",
       "      <td>0</td>\n",
       "      <td>3</td>\n",
       "      <td>1</td>\n",
       "      <td>19</td>\n",
       "      <td>windows_chrome</td>\n",
       "      <td>149</td>\n",
       "      <td>238</td>\n",
       "      <td>0</td>\n",
       "      <td>7</td>\n",
       "      <td>1</td>\n",
       "      <td>1</td>\n",
       "      <td>0</td>\n",
       "      <td>0</td>\n",
       "      <td>0</td>\n",
       "      <td>0</td>\n",
       "      <td>0</td>\n",
       "    </tr>\n",
       "    <tr>\n",
       "      <th>2697735</th>\n",
       "      <td>0</td>\n",
       "      <td>2</td>\n",
       "      <td>0</td>\n",
       "      <td>19</td>\n",
       "      <td>windows_ie</td>\n",
       "      <td>77</td>\n",
       "      <td>249</td>\n",
       "      <td>0</td>\n",
       "      <td>8</td>\n",
       "      <td>1</td>\n",
       "      <td>1</td>\n",
       "      <td>0</td>\n",
       "      <td>0</td>\n",
       "      <td>0</td>\n",
       "      <td>0</td>\n",
       "      <td>0</td>\n",
       "    </tr>\n",
       "    <tr>\n",
       "      <th>2697736</th>\n",
       "      <td>0</td>\n",
       "      <td>0</td>\n",
       "      <td>2</td>\n",
       "      <td>15</td>\n",
       "      <td>windows_other</td>\n",
       "      <td>95</td>\n",
       "      <td>241</td>\n",
       "      <td>0</td>\n",
       "      <td>7</td>\n",
       "      <td>2</td>\n",
       "      <td>1</td>\n",
       "      <td>0</td>\n",
       "      <td>0</td>\n",
       "      <td>0</td>\n",
       "      <td>0</td>\n",
       "      <td>0</td>\n",
       "    </tr>\n",
       "    <tr>\n",
       "      <th>2697737</th>\n",
       "      <td>0</td>\n",
       "      <td>1</td>\n",
       "      <td>0</td>\n",
       "      <td>8</td>\n",
       "      <td>windows_ie</td>\n",
       "      <td>31</td>\n",
       "      <td>300</td>\n",
       "      <td>0</td>\n",
       "      <td>6</td>\n",
       "      <td>1</td>\n",
       "      <td>1</td>\n",
       "      <td>0</td>\n",
       "      <td>0</td>\n",
       "      <td>0</td>\n",
       "      <td>0</td>\n",
       "      <td>0</td>\n",
       "    </tr>\n",
       "  </tbody>\n",
       "</table>\n",
       "<p>2697646 rows × 16 columns</p>\n",
       "</div>"
      ],
      "text/plain": [
       "         click  weekday  hour  region         useragent  payprice  bidprice  \\\n",
       "0            0        1     1      10        windows_ie        54       300   \n",
       "1            0        2     2      11    windows_chrome        42       249   \n",
       "2            0        5     1      19        windows_ie        76       300   \n",
       "3            0        2     2      19        windows_ie       182       238   \n",
       "4            0        6     1       6    windows_chrome        34       238   \n",
       "5            0        3     2       3        windows_ie        99       227   \n",
       "6            0        5     2      19    windows_chrome        61       277   \n",
       "7            0        0     2      19    windows_chrome        39       294   \n",
       "8            0        4     2      18        windows_ie       111       300   \n",
       "9            0        0     2       7        windows_ie        30       300   \n",
       "10           0        0     0      27        windows_ie        20       300   \n",
       "11           0        3     2       7    windows_chrome        50       300   \n",
       "12           0        5     0      19    windows_chrome        70       300   \n",
       "13           0        1     1      23        windows_ie        73       238   \n",
       "14           0        0     1      16    windows_chrome        22       241   \n",
       "15           0        0     2      27    windows_chrome        52       254   \n",
       "16           0        0     1      18    windows_chrome        59       300   \n",
       "17           0        4     0      25        windows_ie        56       227   \n",
       "18           0        0     1      27        windows_ie        20       300   \n",
       "19           0        0     2       1        windows_ie       243       294   \n",
       "20           0        1     2      25    windows_chrome        75       300   \n",
       "21           0        6     2       6        windows_ie        55       241   \n",
       "22           0        3     1      15    android_safari       117       277   \n",
       "23           0        6     2       3        windows_ie       129       241   \n",
       "24           0        3     2      31        windows_ie        77       241   \n",
       "25           0        6     2       4        windows_ie        53       227   \n",
       "26           0        3     1      13        windows_ie        86       300   \n",
       "27           0        3     2      14        windows_ie        37       294   \n",
       "28           0        0     2       6    windows_chrome        50       300   \n",
       "29           0        5     2       1    android_safari        30       277   \n",
       "...        ...      ...   ...     ...               ...       ...       ...   \n",
       "2697708      0        6     2      10    windows_chrome        88       241   \n",
       "2697709      0        4     1      13        windows_ie       222       300   \n",
       "2697710      0        2     2       2    windows_chrome        52       300   \n",
       "2697711      0        1     2      19        windows_ie        20       294   \n",
       "2697712      0        5     1      19        windows_ie       168       238   \n",
       "2697713      0        5     1      18        windows_ie       199       300   \n",
       "2697714      0        0     2      20  windows_theworld       240       238   \n",
       "2697715      1        1     2      19    windows_chrome       156       277   \n",
       "2697716      0        4     1       1    windows_chrome        50       300   \n",
       "2697717      0        4     1      17        windows_ie        50       300   \n",
       "2697718      0        0     1      13        windows_ie        18       300   \n",
       "2697719      0        4     0       4        windows_ie        66       238   \n",
       "2697720      0        4     1      19    windows_chrome        38       300   \n",
       "2697721      0        2     0      10        windows_ie       123       227   \n",
       "2697722      0        3     1      18        windows_ie        73       254   \n",
       "2697723      0        1     0       0        windows_ie        20       300   \n",
       "2697724      0        6     2       1    windows_chrome        77       241   \n",
       "2697725      0        4     0       0        windows_ie        20       294   \n",
       "2697726      0        0     1      16    windows_chrome       231       238   \n",
       "2697727      0        4     1       7        windows_ie        77       241   \n",
       "2697728      0        6     2      18        windows_ie        52       300   \n",
       "2697729      0        4     0      20   windows_firefox        10       254   \n",
       "2697730      0        3     1      11    windows_chrome        45       227   \n",
       "2697731      0        1     1       8    windows_chrome        32       294   \n",
       "2697732      0        2     1      20    windows_chrome        24       238   \n",
       "2697733      0        2     2       6        windows_ie        77       241   \n",
       "2697734      0        3     1      19    windows_chrome       149       238   \n",
       "2697735      0        2     0      19        windows_ie        77       249   \n",
       "2697736      0        0     2      15     windows_other        95       241   \n",
       "2697737      0        1     0       8        windows_ie        31       300   \n",
       "\n",
       "         slotformat  advertiser  slotsize  agent_windows  agent_android  \\\n",
       "0                 0           0         0              1              0   \n",
       "1                 0           8         1              1              0   \n",
       "2                 1           0         2              1              0   \n",
       "3                 0           7         1              1              0   \n",
       "4                 1           8         2              1              0   \n",
       "5                 1           5         1              1              0   \n",
       "6                 3           1         1              1              0   \n",
       "7                 3           3         2              1              0   \n",
       "8                 0           6         2              1              0   \n",
       "9                 0           0         2              1              0   \n",
       "10                0           6         1              1              0   \n",
       "11                0           0         2              1              0   \n",
       "12                0           0         2              1              0   \n",
       "13                1           8         2              1              0   \n",
       "14                0           7         2              1              0   \n",
       "15                0           8         2              1              0   \n",
       "16                0           0         1              1              0   \n",
       "17                1           5         2              1              0   \n",
       "18                0           6         2              1              0   \n",
       "19                3           3         1              1              0   \n",
       "20                1           0         2              1              0   \n",
       "21                0           7         1              1              0   \n",
       "22                3           4         0              0              1   \n",
       "23                0           7         2              1              0   \n",
       "24                0           5         2              1              0   \n",
       "25                1           7         1              1              0   \n",
       "26                1           0         2              1              0   \n",
       "27                3           2         2              1              0   \n",
       "28                0           6         1              1              0   \n",
       "29                3           4         0              0              1   \n",
       "...             ...         ...       ...            ...            ...   \n",
       "2697708           0           7         2              1              0   \n",
       "2697709           0           0         2              1              0   \n",
       "2697710           0           6         1              1              0   \n",
       "2697711           3           1         1              1              0   \n",
       "2697712           0           7         0              1              0   \n",
       "2697713           0           6         1              1              0   \n",
       "2697714           1           8         1              1              0   \n",
       "2697715           3           1         0              1              0   \n",
       "2697716           0           0         2              1              0   \n",
       "2697717           0           0         2              1              0   \n",
       "2697718           1           0         2              1              0   \n",
       "2697719           0           5         1              1              0   \n",
       "2697720           0           6         0              1              0   \n",
       "2697721           1           5         2              1              0   \n",
       "2697722           0           8         2              1              0   \n",
       "2697723           0           6         1              1              0   \n",
       "2697724           0           7         2              1              0   \n",
       "2697725           3           2         2              1              0   \n",
       "2697726           0           7         1              1              0   \n",
       "2697727           0           7         2              1              0   \n",
       "2697728           1           0         2              1              0   \n",
       "2697729           0           8         2              1              0   \n",
       "2697730           1           7         2              1              0   \n",
       "2697731           3           3         1              1              0   \n",
       "2697732           0           7         1              1              0   \n",
       "2697733           0           7         2              1              0   \n",
       "2697734           0           7         1              1              0   \n",
       "2697735           0           8         1              1              0   \n",
       "2697736           0           7         2              1              0   \n",
       "2697737           0           6         1              1              0   \n",
       "\n",
       "         agent_mac  agent_linux  agent_ios  agent_other  \n",
       "0                0            0          0            0  \n",
       "1                0            0          0            0  \n",
       "2                0            0          0            0  \n",
       "3                0            0          0            0  \n",
       "4                0            0          0            0  \n",
       "5                0            0          0            0  \n",
       "6                0            0          0            0  \n",
       "7                0            0          0            0  \n",
       "8                0            0          0            0  \n",
       "9                0            0          0            0  \n",
       "10               0            0          0            0  \n",
       "11               0            0          0            0  \n",
       "12               0            0          0            0  \n",
       "13               0            0          0            0  \n",
       "14               0            0          0            0  \n",
       "15               0            0          0            0  \n",
       "16               0            0          0            0  \n",
       "17               0            0          0            0  \n",
       "18               0            0          0            0  \n",
       "19               0            0          0            0  \n",
       "20               0            0          0            0  \n",
       "21               0            0          0            0  \n",
       "22               0            0          0            0  \n",
       "23               0            0          0            0  \n",
       "24               0            0          0            0  \n",
       "25               0            0          0            0  \n",
       "26               0            0          0            0  \n",
       "27               0            0          0            0  \n",
       "28               0            0          0            0  \n",
       "29               0            0          0            0  \n",
       "...            ...          ...        ...          ...  \n",
       "2697708          0            0          0            0  \n",
       "2697709          0            0          0            0  \n",
       "2697710          0            0          0            0  \n",
       "2697711          0            0          0            0  \n",
       "2697712          0            0          0            0  \n",
       "2697713          0            0          0            0  \n",
       "2697714          0            0          0            0  \n",
       "2697715          0            0          0            0  \n",
       "2697716          0            0          0            0  \n",
       "2697717          0            0          0            0  \n",
       "2697718          0            0          0            0  \n",
       "2697719          0            0          0            0  \n",
       "2697720          0            0          0            0  \n",
       "2697721          0            0          0            0  \n",
       "2697722          0            0          0            0  \n",
       "2697723          0            0          0            0  \n",
       "2697724          0            0          0            0  \n",
       "2697725          0            0          0            0  \n",
       "2697726          0            0          0            0  \n",
       "2697727          0            0          0            0  \n",
       "2697728          0            0          0            0  \n",
       "2697729          0            0          0            0  \n",
       "2697730          0            0          0            0  \n",
       "2697731          0            0          0            0  \n",
       "2697732          0            0          0            0  \n",
       "2697733          0            0          0            0  \n",
       "2697734          0            0          0            0  \n",
       "2697735          0            0          0            0  \n",
       "2697736          0            0          0            0  \n",
       "2697737          0            0          0            0  \n",
       "\n",
       "[2697646 rows x 16 columns]"
      ]
     },
     "execution_count": 24,
     "metadata": {},
     "output_type": "execute_result"
    }
   ],
   "source": [
    "df"
   ]
  },
  {
   "cell_type": "code",
   "execution_count": 25,
   "metadata": {
    "collapsed": false
   },
   "outputs": [],
   "source": [
    "df = df.drop('useragent', axis =1)"
   ]
  },
  {
   "cell_type": "code",
   "execution_count": 26,
   "metadata": {
    "collapsed": false
   },
   "outputs": [
    {
     "name": "stdout",
     "output_type": "stream",
     "text": [
      "<class 'pandas.core.frame.DataFrame'>\n",
      "Int64Index: 2697646 entries, 0 to 2697737\n",
      "Data columns (total 15 columns):\n",
      "click            int64\n",
      "weekday          int64\n",
      "hour             int64\n",
      "region           int64\n",
      "payprice         int64\n",
      "bidprice         int64\n",
      "slotformat       int64\n",
      "advertiser       int64\n",
      "slotsize         int64\n",
      "agent_windows    int32\n",
      "agent_android    int32\n",
      "agent_mac        int32\n",
      "agent_linux      int32\n",
      "agent_ios        int32\n",
      "agent_other      int32\n",
      "dtypes: int32(6), int64(9)\n",
      "memory usage: 267.6 MB\n"
     ]
    }
   ],
   "source": [
    "df.info()"
   ]
  },
  {
   "cell_type": "code",
   "execution_count": 27,
   "metadata": {
    "collapsed": false
   },
   "outputs": [
    {
     "data": {
      "text/html": [
       "<div>\n",
       "<table border=\"1\" class=\"dataframe\">\n",
       "  <thead>\n",
       "    <tr style=\"text-align: right;\">\n",
       "      <th></th>\n",
       "      <th>click</th>\n",
       "      <th>weekday</th>\n",
       "      <th>hour</th>\n",
       "      <th>region</th>\n",
       "      <th>payprice</th>\n",
       "      <th>bidprice</th>\n",
       "      <th>slotformat</th>\n",
       "      <th>advertiser</th>\n",
       "      <th>slotsize</th>\n",
       "      <th>agent_windows</th>\n",
       "      <th>agent_android</th>\n",
       "      <th>agent_mac</th>\n",
       "      <th>agent_linux</th>\n",
       "      <th>agent_ios</th>\n",
       "      <th>agent_other</th>\n",
       "    </tr>\n",
       "  </thead>\n",
       "  <tbody>\n",
       "    <tr>\n",
       "      <th>0</th>\n",
       "      <td>0</td>\n",
       "      <td>1</td>\n",
       "      <td>1</td>\n",
       "      <td>10</td>\n",
       "      <td>54</td>\n",
       "      <td>300</td>\n",
       "      <td>0</td>\n",
       "      <td>0</td>\n",
       "      <td>0</td>\n",
       "      <td>1</td>\n",
       "      <td>0</td>\n",
       "      <td>0</td>\n",
       "      <td>0</td>\n",
       "      <td>0</td>\n",
       "      <td>0</td>\n",
       "    </tr>\n",
       "    <tr>\n",
       "      <th>1</th>\n",
       "      <td>0</td>\n",
       "      <td>2</td>\n",
       "      <td>2</td>\n",
       "      <td>11</td>\n",
       "      <td>42</td>\n",
       "      <td>249</td>\n",
       "      <td>0</td>\n",
       "      <td>8</td>\n",
       "      <td>1</td>\n",
       "      <td>1</td>\n",
       "      <td>0</td>\n",
       "      <td>0</td>\n",
       "      <td>0</td>\n",
       "      <td>0</td>\n",
       "      <td>0</td>\n",
       "    </tr>\n",
       "    <tr>\n",
       "      <th>2</th>\n",
       "      <td>0</td>\n",
       "      <td>5</td>\n",
       "      <td>1</td>\n",
       "      <td>19</td>\n",
       "      <td>76</td>\n",
       "      <td>300</td>\n",
       "      <td>1</td>\n",
       "      <td>0</td>\n",
       "      <td>2</td>\n",
       "      <td>1</td>\n",
       "      <td>0</td>\n",
       "      <td>0</td>\n",
       "      <td>0</td>\n",
       "      <td>0</td>\n",
       "      <td>0</td>\n",
       "    </tr>\n",
       "    <tr>\n",
       "      <th>3</th>\n",
       "      <td>0</td>\n",
       "      <td>2</td>\n",
       "      <td>2</td>\n",
       "      <td>19</td>\n",
       "      <td>182</td>\n",
       "      <td>238</td>\n",
       "      <td>0</td>\n",
       "      <td>7</td>\n",
       "      <td>1</td>\n",
       "      <td>1</td>\n",
       "      <td>0</td>\n",
       "      <td>0</td>\n",
       "      <td>0</td>\n",
       "      <td>0</td>\n",
       "      <td>0</td>\n",
       "    </tr>\n",
       "    <tr>\n",
       "      <th>4</th>\n",
       "      <td>0</td>\n",
       "      <td>6</td>\n",
       "      <td>1</td>\n",
       "      <td>6</td>\n",
       "      <td>34</td>\n",
       "      <td>238</td>\n",
       "      <td>1</td>\n",
       "      <td>8</td>\n",
       "      <td>2</td>\n",
       "      <td>1</td>\n",
       "      <td>0</td>\n",
       "      <td>0</td>\n",
       "      <td>0</td>\n",
       "      <td>0</td>\n",
       "      <td>0</td>\n",
       "    </tr>\n",
       "  </tbody>\n",
       "</table>\n",
       "</div>"
      ],
      "text/plain": [
       "   click  weekday  hour  region  payprice  bidprice  slotformat  advertiser  \\\n",
       "0      0        1     1      10        54       300           0           0   \n",
       "1      0        2     2      11        42       249           0           8   \n",
       "2      0        5     1      19        76       300           1           0   \n",
       "3      0        2     2      19       182       238           0           7   \n",
       "4      0        6     1       6        34       238           1           8   \n",
       "\n",
       "   slotsize  agent_windows  agent_android  agent_mac  agent_linux  agent_ios  \\\n",
       "0         0              1              0          0            0          0   \n",
       "1         1              1              0          0            0          0   \n",
       "2         2              1              0          0            0          0   \n",
       "3         1              1              0          0            0          0   \n",
       "4         2              1              0          0            0          0   \n",
       "\n",
       "   agent_other  \n",
       "0            0  \n",
       "1            0  \n",
       "2            0  \n",
       "3            0  \n",
       "4            0  "
      ]
     },
     "execution_count": 27,
     "metadata": {},
     "output_type": "execute_result"
    }
   ],
   "source": [
    "df.head()"
   ]
  },
  {
   "cell_type": "code",
   "execution_count": null,
   "metadata": {
    "collapsed": true
   },
   "outputs": [],
   "source": []
  },
  {
   "cell_type": "code",
   "execution_count": null,
   "metadata": {
    "collapsed": true
   },
   "outputs": [],
   "source": []
  },
  {
   "cell_type": "markdown",
   "metadata": {},
   "source": [
    "## Validation set"
   ]
  },
  {
   "cell_type": "code",
   "execution_count": 28,
   "metadata": {
    "collapsed": false
   },
   "outputs": [
    {
     "data": {
      "text/html": [
       "<div>\n",
       "<table border=\"1\" class=\"dataframe\">\n",
       "  <thead>\n",
       "    <tr style=\"text-align: right;\">\n",
       "      <th></th>\n",
       "      <th>click</th>\n",
       "      <th>weekday</th>\n",
       "      <th>hour</th>\n",
       "      <th>bidid</th>\n",
       "      <th>logtype</th>\n",
       "      <th>userid</th>\n",
       "      <th>useragent</th>\n",
       "      <th>IP</th>\n",
       "      <th>region</th>\n",
       "      <th>city</th>\n",
       "      <th>...</th>\n",
       "      <th>slotheight</th>\n",
       "      <th>slotvisibility</th>\n",
       "      <th>slotformat</th>\n",
       "      <th>slotprice</th>\n",
       "      <th>creative</th>\n",
       "      <th>bidprice</th>\n",
       "      <th>payprice</th>\n",
       "      <th>keypage</th>\n",
       "      <th>advertiser</th>\n",
       "      <th>usertag</th>\n",
       "    </tr>\n",
       "  </thead>\n",
       "  <tbody>\n",
       "    <tr>\n",
       "      <th>0</th>\n",
       "      <td>0</td>\n",
       "      <td>5</td>\n",
       "      <td>14</td>\n",
       "      <td>91c6a6b9e90c0f54d3230815a5a3e22e</td>\n",
       "      <td>1</td>\n",
       "      <td>u_Vhk7C5STO8TZ3s8</td>\n",
       "      <td>windows_ie</td>\n",
       "      <td>14.122.240.*</td>\n",
       "      <td>216</td>\n",
       "      <td>232</td>\n",
       "      <td>...</td>\n",
       "      <td>250</td>\n",
       "      <td>0</td>\n",
       "      <td>1</td>\n",
       "      <td>0</td>\n",
       "      <td>449a22cd91d9042eda3d3a1b89a22ea8</td>\n",
       "      <td>227</td>\n",
       "      <td>102</td>\n",
       "      <td>0f951a030abdaedd733ee8d114ce2944</td>\n",
       "      <td>3427</td>\n",
       "      <td>10006,10063,10059,10111</td>\n",
       "    </tr>\n",
       "    <tr>\n",
       "      <th>1</th>\n",
       "      <td>0</td>\n",
       "      <td>3</td>\n",
       "      <td>14</td>\n",
       "      <td>24b3621ad3b063b6c09c541781d534b3</td>\n",
       "      <td>1</td>\n",
       "      <td>u_DANDbCAksMy</td>\n",
       "      <td>android_safari</td>\n",
       "      <td>116.22.55.*</td>\n",
       "      <td>216</td>\n",
       "      <td>217</td>\n",
       "      <td>...</td>\n",
       "      <td>50</td>\n",
       "      <td>FirstView</td>\n",
       "      <td>Na</td>\n",
       "      <td>118</td>\n",
       "      <td>11908</td>\n",
       "      <td>277</td>\n",
       "      <td>118</td>\n",
       "      <td>null</td>\n",
       "      <td>2997</td>\n",
       "      <td>null</td>\n",
       "    </tr>\n",
       "    <tr>\n",
       "      <th>2</th>\n",
       "      <td>0</td>\n",
       "      <td>1</td>\n",
       "      <td>13</td>\n",
       "      <td>6e7bce0a9ad42f479827d37bf9618a9d</td>\n",
       "      <td>1</td>\n",
       "      <td>u_VhkxPnKHPo1H3Vb</td>\n",
       "      <td>windows_ie</td>\n",
       "      <td>60.215.242.*</td>\n",
       "      <td>146</td>\n",
       "      <td>149</td>\n",
       "      <td>...</td>\n",
       "      <td>90</td>\n",
       "      <td>0</td>\n",
       "      <td>0</td>\n",
       "      <td>70</td>\n",
       "      <td>d01411218cc79bc49d2a4078c4093b76</td>\n",
       "      <td>241</td>\n",
       "      <td>77</td>\n",
       "      <td>b2e35064f3549d447edbbdfb1f707c8c</td>\n",
       "      <td>3427</td>\n",
       "      <td>null</td>\n",
       "    </tr>\n",
       "    <tr>\n",
       "      <th>3</th>\n",
       "      <td>0</td>\n",
       "      <td>5</td>\n",
       "      <td>18</td>\n",
       "      <td>6873feca381b8293bf418ba8408a014c</td>\n",
       "      <td>1</td>\n",
       "      <td>u_Vh5zL3B83ln9Xbl</td>\n",
       "      <td>windows_chrome</td>\n",
       "      <td>27.193.87.*</td>\n",
       "      <td>146</td>\n",
       "      <td>148</td>\n",
       "      <td>...</td>\n",
       "      <td>90</td>\n",
       "      <td>0</td>\n",
       "      <td>0</td>\n",
       "      <td>70</td>\n",
       "      <td>c46090c887c257b61ab1fa11baee91d8</td>\n",
       "      <td>241</td>\n",
       "      <td>77</td>\n",
       "      <td>0f951a030abdaedd733ee8d114ce2944</td>\n",
       "      <td>3427</td>\n",
       "      <td>null</td>\n",
       "    </tr>\n",
       "    <tr>\n",
       "      <th>4</th>\n",
       "      <td>0</td>\n",
       "      <td>5</td>\n",
       "      <td>14</td>\n",
       "      <td>7e6430333c552cf0b32bb21dc792d2df</td>\n",
       "      <td>1</td>\n",
       "      <td>u_VhKPOr5wOt9HQsj</td>\n",
       "      <td>windows_ie</td>\n",
       "      <td>183.228.214.*</td>\n",
       "      <td>275</td>\n",
       "      <td>275</td>\n",
       "      <td>...</td>\n",
       "      <td>280</td>\n",
       "      <td>2</td>\n",
       "      <td>0</td>\n",
       "      <td>5</td>\n",
       "      <td>ff5123fb9333ca095034c62fdaaf51aa</td>\n",
       "      <td>300</td>\n",
       "      <td>178</td>\n",
       "      <td>361e128affece850342293213691a043</td>\n",
       "      <td>3386</td>\n",
       "      <td>null</td>\n",
       "    </tr>\n",
       "  </tbody>\n",
       "</table>\n",
       "<p>5 rows × 26 columns</p>\n",
       "</div>"
      ],
      "text/plain": [
       "   click  weekday  hour                             bidid  logtype  \\\n",
       "0      0        5    14  91c6a6b9e90c0f54d3230815a5a3e22e        1   \n",
       "1      0        3    14  24b3621ad3b063b6c09c541781d534b3        1   \n",
       "2      0        1    13  6e7bce0a9ad42f479827d37bf9618a9d        1   \n",
       "3      0        5    18  6873feca381b8293bf418ba8408a014c        1   \n",
       "4      0        5    14  7e6430333c552cf0b32bb21dc792d2df        1   \n",
       "\n",
       "              userid       useragent             IP  region  city  \\\n",
       "0  u_Vhk7C5STO8TZ3s8      windows_ie   14.122.240.*     216   232   \n",
       "1      u_DANDbCAksMy  android_safari    116.22.55.*     216   217   \n",
       "2  u_VhkxPnKHPo1H3Vb      windows_ie   60.215.242.*     146   149   \n",
       "3  u_Vh5zL3B83ln9Xbl  windows_chrome    27.193.87.*     146   148   \n",
       "4  u_VhKPOr5wOt9HQsj      windows_ie  183.228.214.*     275   275   \n",
       "\n",
       "            ...            slotheight slotvisibility slotformat slotprice  \\\n",
       "0           ...                   250              0          1         0   \n",
       "1           ...                    50      FirstView         Na       118   \n",
       "2           ...                    90              0          0        70   \n",
       "3           ...                    90              0          0        70   \n",
       "4           ...                   280              2          0         5   \n",
       "\n",
       "                           creative  bidprice  payprice  \\\n",
       "0  449a22cd91d9042eda3d3a1b89a22ea8       227       102   \n",
       "1                             11908       277       118   \n",
       "2  d01411218cc79bc49d2a4078c4093b76       241        77   \n",
       "3  c46090c887c257b61ab1fa11baee91d8       241        77   \n",
       "4  ff5123fb9333ca095034c62fdaaf51aa       300       178   \n",
       "\n",
       "                            keypage advertiser                  usertag  \n",
       "0  0f951a030abdaedd733ee8d114ce2944       3427  10006,10063,10059,10111  \n",
       "1                              null       2997                     null  \n",
       "2  b2e35064f3549d447edbbdfb1f707c8c       3427                     null  \n",
       "3  0f951a030abdaedd733ee8d114ce2944       3427                     null  \n",
       "4  361e128affece850342293213691a043       3386                     null  \n",
       "\n",
       "[5 rows x 26 columns]"
      ]
     },
     "execution_count": 28,
     "metadata": {},
     "output_type": "execute_result"
    }
   ],
   "source": [
    "# Reading Data\n",
    "va_df = pd.read_csv('validation.csv')\n",
    "va_df.head()"
   ]
  },
  {
   "cell_type": "code",
   "execution_count": 29,
   "metadata": {
    "collapsed": true
   },
   "outputs": [],
   "source": [
    "va_df = va_df[features]\n",
    "va_df = va_df.dropna()\n",
    "va_df['slotsize'] = va_df['slotwidth'] * va_df['slotheight'] \n",
    "va_df.drop(['slotwidth', 'slotheight'], axis=1, inplace=True)"
   ]
  },
  {
   "cell_type": "code",
   "execution_count": 30,
   "metadata": {
    "collapsed": false
   },
   "outputs": [
    {
     "data": {
      "text/html": [
       "<div>\n",
       "<table border=\"1\" class=\"dataframe\">\n",
       "  <thead>\n",
       "    <tr style=\"text-align: right;\">\n",
       "      <th></th>\n",
       "      <th>click</th>\n",
       "      <th>weekday</th>\n",
       "      <th>hour</th>\n",
       "      <th>region</th>\n",
       "      <th>useragent</th>\n",
       "      <th>payprice</th>\n",
       "      <th>bidprice</th>\n",
       "      <th>slotformat</th>\n",
       "      <th>advertiser</th>\n",
       "      <th>slotsize</th>\n",
       "    </tr>\n",
       "  </thead>\n",
       "  <tbody>\n",
       "    <tr>\n",
       "      <th>0</th>\n",
       "      <td>0</td>\n",
       "      <td>5</td>\n",
       "      <td>14</td>\n",
       "      <td>216</td>\n",
       "      <td>windows_ie</td>\n",
       "      <td>102</td>\n",
       "      <td>227</td>\n",
       "      <td>1</td>\n",
       "      <td>3427</td>\n",
       "      <td>75000</td>\n",
       "    </tr>\n",
       "    <tr>\n",
       "      <th>1</th>\n",
       "      <td>0</td>\n",
       "      <td>3</td>\n",
       "      <td>14</td>\n",
       "      <td>216</td>\n",
       "      <td>android_safari</td>\n",
       "      <td>118</td>\n",
       "      <td>277</td>\n",
       "      <td>Na</td>\n",
       "      <td>2997</td>\n",
       "      <td>16000</td>\n",
       "    </tr>\n",
       "    <tr>\n",
       "      <th>2</th>\n",
       "      <td>0</td>\n",
       "      <td>1</td>\n",
       "      <td>13</td>\n",
       "      <td>146</td>\n",
       "      <td>windows_ie</td>\n",
       "      <td>77</td>\n",
       "      <td>241</td>\n",
       "      <td>0</td>\n",
       "      <td>3427</td>\n",
       "      <td>90000</td>\n",
       "    </tr>\n",
       "    <tr>\n",
       "      <th>3</th>\n",
       "      <td>0</td>\n",
       "      <td>5</td>\n",
       "      <td>18</td>\n",
       "      <td>146</td>\n",
       "      <td>windows_chrome</td>\n",
       "      <td>77</td>\n",
       "      <td>241</td>\n",
       "      <td>0</td>\n",
       "      <td>3427</td>\n",
       "      <td>90000</td>\n",
       "    </tr>\n",
       "    <tr>\n",
       "      <th>4</th>\n",
       "      <td>0</td>\n",
       "      <td>5</td>\n",
       "      <td>14</td>\n",
       "      <td>275</td>\n",
       "      <td>windows_ie</td>\n",
       "      <td>178</td>\n",
       "      <td>300</td>\n",
       "      <td>0</td>\n",
       "      <td>3386</td>\n",
       "      <td>94080</td>\n",
       "    </tr>\n",
       "  </tbody>\n",
       "</table>\n",
       "</div>"
      ],
      "text/plain": [
       "   click  weekday  hour  region       useragent  payprice  bidprice  \\\n",
       "0      0        5    14     216      windows_ie       102       227   \n",
       "1      0        3    14     216  android_safari       118       277   \n",
       "2      0        1    13     146      windows_ie        77       241   \n",
       "3      0        5    18     146  windows_chrome        77       241   \n",
       "4      0        5    14     275      windows_ie       178       300   \n",
       "\n",
       "  slotformat  advertiser  slotsize  \n",
       "0          1        3427     75000  \n",
       "1         Na        2997     16000  \n",
       "2          0        3427     90000  \n",
       "3          0        3427     90000  \n",
       "4          0        3386     94080  "
      ]
     },
     "execution_count": 30,
     "metadata": {},
     "output_type": "execute_result"
    }
   ],
   "source": [
    "va_df.head()"
   ]
  },
  {
   "cell_type": "code",
   "execution_count": 31,
   "metadata": {
    "collapsed": false
   },
   "outputs": [
    {
     "data": {
      "text/html": [
       "<div>\n",
       "<table border=\"1\" class=\"dataframe\">\n",
       "  <thead>\n",
       "    <tr style=\"text-align: right;\">\n",
       "      <th></th>\n",
       "      <th>click</th>\n",
       "      <th>weekday</th>\n",
       "      <th>hour</th>\n",
       "      <th>region</th>\n",
       "      <th>useragent</th>\n",
       "      <th>payprice</th>\n",
       "      <th>bidprice</th>\n",
       "      <th>slotformat</th>\n",
       "      <th>advertiser</th>\n",
       "      <th>slotsize</th>\n",
       "    </tr>\n",
       "  </thead>\n",
       "  <tbody>\n",
       "    <tr>\n",
       "      <th>0</th>\n",
       "      <td>0</td>\n",
       "      <td>5</td>\n",
       "      <td>2</td>\n",
       "      <td>216</td>\n",
       "      <td>windows_ie</td>\n",
       "      <td>102</td>\n",
       "      <td>227</td>\n",
       "      <td>1</td>\n",
       "      <td>3427</td>\n",
       "      <td>2</td>\n",
       "    </tr>\n",
       "    <tr>\n",
       "      <th>1</th>\n",
       "      <td>0</td>\n",
       "      <td>3</td>\n",
       "      <td>2</td>\n",
       "      <td>216</td>\n",
       "      <td>android_safari</td>\n",
       "      <td>118</td>\n",
       "      <td>277</td>\n",
       "      <td>Na</td>\n",
       "      <td>2997</td>\n",
       "      <td>1</td>\n",
       "    </tr>\n",
       "    <tr>\n",
       "      <th>2</th>\n",
       "      <td>0</td>\n",
       "      <td>1</td>\n",
       "      <td>2</td>\n",
       "      <td>146</td>\n",
       "      <td>windows_ie</td>\n",
       "      <td>77</td>\n",
       "      <td>241</td>\n",
       "      <td>0</td>\n",
       "      <td>3427</td>\n",
       "      <td>3</td>\n",
       "    </tr>\n",
       "    <tr>\n",
       "      <th>3</th>\n",
       "      <td>0</td>\n",
       "      <td>5</td>\n",
       "      <td>3</td>\n",
       "      <td>146</td>\n",
       "      <td>windows_chrome</td>\n",
       "      <td>77</td>\n",
       "      <td>241</td>\n",
       "      <td>0</td>\n",
       "      <td>3427</td>\n",
       "      <td>3</td>\n",
       "    </tr>\n",
       "    <tr>\n",
       "      <th>4</th>\n",
       "      <td>0</td>\n",
       "      <td>5</td>\n",
       "      <td>2</td>\n",
       "      <td>275</td>\n",
       "      <td>windows_ie</td>\n",
       "      <td>178</td>\n",
       "      <td>300</td>\n",
       "      <td>0</td>\n",
       "      <td>3386</td>\n",
       "      <td>3</td>\n",
       "    </tr>\n",
       "  </tbody>\n",
       "</table>\n",
       "</div>"
      ],
      "text/plain": [
       "   click  weekday hour  region       useragent  payprice  bidprice slotformat  \\\n",
       "0      0        5    2     216      windows_ie       102       227          1   \n",
       "1      0        3    2     216  android_safari       118       277         Na   \n",
       "2      0        1    2     146      windows_ie        77       241          0   \n",
       "3      0        5    3     146  windows_chrome        77       241          0   \n",
       "4      0        5    2     275      windows_ie       178       300          0   \n",
       "\n",
       "   advertiser slotsize  \n",
       "0        3427        2  \n",
       "1        2997        1  \n",
       "2        3427        3  \n",
       "3        3427        3  \n",
       "4        3386        3  "
      ]
     },
     "execution_count": 31,
     "metadata": {},
     "output_type": "execute_result"
    }
   ],
   "source": [
    "va_df['hour'] = pd.cut(va_df['hour'], bins = [0,8,16,23.5], right=False, labels=[1,2,3])\n",
    "va_df['slotsize'] = pd.cut(va_df['slotsize'], bins = [0,40000,80000,120000], right=True, labels=[1,2,3])\n",
    "va_df.head()  "
   ]
  },
  {
   "cell_type": "code",
   "execution_count": 32,
   "metadata": {
    "collapsed": false
   },
   "outputs": [
    {
     "name": "stdout",
     "output_type": "stream",
     "text": [
      "<class 'pandas.core.frame.DataFrame'>\n",
      "Int64Index: 299749 entries, 0 to 299748\n",
      "Data columns (total 10 columns):\n",
      "click         299749 non-null int64\n",
      "weekday       299749 non-null int64\n",
      "hour          299749 non-null category\n",
      "region        299749 non-null int64\n",
      "useragent     299749 non-null object\n",
      "payprice      299749 non-null int64\n",
      "bidprice      299749 non-null int64\n",
      "slotformat    299749 non-null object\n",
      "advertiser    299749 non-null int64\n",
      "slotsize      299745 non-null category\n",
      "dtypes: category(2), int64(6), object(2)\n",
      "memory usage: 21.2+ MB\n"
     ]
    }
   ],
   "source": [
    "va_df.info()"
   ]
  },
  {
   "cell_type": "code",
   "execution_count": 33,
   "metadata": {
    "collapsed": false
   },
   "outputs": [
    {
     "data": {
      "text/plain": [
       "False"
      ]
     },
     "execution_count": 33,
     "metadata": {},
     "output_type": "execute_result"
    }
   ],
   "source": [
    "va_df = va_df.dropna()\n",
    "va_df.isnull().any().any()"
   ]
  },
  {
   "cell_type": "markdown",
   "metadata": {},
   "source": [
    "### Dummy "
   ]
  },
  {
   "cell_type": "code",
   "execution_count": 34,
   "metadata": {
    "collapsed": true
   },
   "outputs": [],
   "source": [
    "va_df[\"click\"] = label_encoder.fit_transform(va_df[\"click\"])\n",
    "va_df[\"weekday\"] = label_encoder.fit_transform(va_df[\"weekday\"])\n",
    "va_df[\"region\"] = label_encoder.fit_transform(va_df[\"region\"])\n",
    "\n",
    "va_df[\"hour\"] = label_encoder.fit_transform(va_df[\"hour\"])\n",
    "va_df[\"slotsize\"] = label_encoder.fit_transform(va_df[\"slotsize\"])\n",
    "va_df['slotformat'] = label_encoder.fit_transform(va_df[\"slotformat\"])\n",
    "va_df['advertiser'] = label_encoder.fit_transform(va_df[\"advertiser\"])"
   ]
  },
  {
   "cell_type": "code",
   "execution_count": 35,
   "metadata": {
    "collapsed": false
   },
   "outputs": [
    {
     "data": {
      "text/plain": [
       "windows_ie          180465\n",
       "windows_chrome       97859\n",
       "android_safari        7479\n",
       "mac_safari            4621\n",
       "windows_firefox       2743\n",
       "windows_theworld      1662\n",
       "windows_other         1425\n",
       "mac_other              956\n",
       "windows_maxthon        912\n",
       "windows_opera          300\n",
       "android_other          239\n",
       "other_other            214\n",
       "mac_chrome             210\n",
       "windows_safari         183\n",
       "linux_chrome           132\n",
       "mac_firefox             80\n",
       "android_chrome          57\n",
       "ios_safari              52\n",
       "android_opera           46\n",
       "linux_firefox           40\n",
       "linux_safari            24\n",
       "other_opera              7\n",
       "linux_other              6\n",
       "linux_opera              5\n",
       "linux_ie                 4\n",
       "mac_maxthon              4\n",
       "ios_other                3\n",
       "other_safari             3\n",
       "mac_opera                3\n",
       "android_maxthon          3\n",
       "other_ie                 2\n",
       "android_firefox          2\n",
       "windows_sogou            1\n",
       "android_ie               1\n",
       "other_firefox            1\n",
       "android_sogou            1\n",
       "Name: useragent, dtype: int64"
      ]
     },
     "execution_count": 35,
     "metadata": {},
     "output_type": "execute_result"
    }
   ],
   "source": [
    "va_df.useragent.value_counts()"
   ]
  },
  {
   "cell_type": "code",
   "execution_count": 36,
   "metadata": {
    "collapsed": true
   },
   "outputs": [],
   "source": [
    "def va_useragent_processing(df):\n",
    "    df_copy = df.copy()\n",
    "    \n",
    "    current_attributes = df_copy.useragent.tolist()\n",
    "    va_useragent_processing_platform = [0] * len(current_attributes)\n",
    "        \n",
    "    for i in range(len(current_attributes)):\n",
    "        if (current_attributes[i] == 'windows_ie' or\\\n",
    "            current_attributes[i] == 'windows_chrome' or\\\n",
    "            current_attributes[i] == 'windows_firefox' or\\\n",
    "            current_attributes[i] == 'windows_theworld' or\\\n",
    "            current_attributes[i] == 'windows_other' or\\\n",
    "            current_attributes[i] == 'windows_maxthon' or\\\n",
    "            current_attributes[i] == 'windows_opera' or\\\n",
    "            current_attributes[i] == 'windows_safari' or\\\n",
    "            current_attributes[i] == 'windows_sogou'):\n",
    "            va_useragent_processing_platform[i] = 0 # windows\n",
    "            \n",
    "        elif (current_attributes[i] == 'android_safari' or\\\n",
    "              current_attributes[i] == 'android_other' or\\\n",
    "              current_attributes[i] == 'android_chrome' or\\\n",
    "              current_attributes[i] == 'android_opera' or\\\n",
    "              current_attributes[i] == 'android_maxthon' or\\\n",
    "              current_attributes[i] == 'android_firefox' or\\\n",
    "              current_attributes[i] == 'android_sogou' or\\\n",
    "              current_attributes[i] == 'android_ie'):\n",
    "            va_useragent_processing_platform[i] = 1 # android\n",
    "            \n",
    "        elif (current_attributes[i] == 'mac_safari' or\\\n",
    "              current_attributes[i] == 'mac_other' or\\\n",
    "              current_attributes[i] == 'mac_chrome' or\\\n",
    "              current_attributes[i] == 'mac_firefox' or\\\n",
    "              current_attributes[i] == 'mac_maxthon' or\\\n",
    "              current_attributes[i] == 'mac_opera' or\\\n",
    "              current_attributes[i] == 'mac_sogou' or\\\n",
    "              current_attributes[i] == 'mac_ie'):\n",
    "            va_useragent_processing_platform[i] = 2 # mac\n",
    "            \n",
    "        elif (current_attributes[i] == 'linux_chrome' or\\\n",
    "              current_attributes[i] == 'linux_firefox' or\\\n",
    "              current_attributes[i] == 'linux_safari' or\\\n",
    "              current_attributes[i] == 'linux_other' or\\\n",
    "              current_attributes[i] == 'linux_opera' or\\\n",
    "              current_attributes[i] == 'linux_ie'):\n",
    "            va_useragent_processing_platform[i] = 3 # linux\n",
    "            \n",
    "        elif (current_attributes[i] == 'ios_safari' or\\\n",
    "              current_attributes[i] == 'ios_other'):\n",
    "            va_useragent_processing_platform[i] = 4 # ios\n",
    "            \n",
    "        elif (current_attributes[i] == 'other_other' or\\\n",
    "              current_attributes[i] == 'other_opera' or\\\n",
    "              current_attributes[i] == 'other_safari' or\\\n",
    "              current_attributes[i] == 'other_ie' or\\\n",
    "              current_attributes[i] == 'other_chrome' or\\\n",
    "              current_attributes[i] == 'other_firefox'):\n",
    "            va_useragent_processing_platform[i] = 5 # other\n",
    "            \n",
    "        else:\n",
    "            va_useragent_processing_platform[i] = 6 # for sanity check\n",
    "        \n",
    "    return va_useragent_processing_platform"
   ]
  },
  {
   "cell_type": "code",
   "execution_count": 37,
   "metadata": {
    "collapsed": true
   },
   "outputs": [],
   "source": [
    "def va_dummy_coding(df):\n",
    "    df_copy = df.copy()\n",
    "    \n",
    "    windows_true = [0] * len(va_useragent_processing_platform)\n",
    "    android_true = [0] * len(va_useragent_processing_platform)\n",
    "    mac_true = [0] * len(va_useragent_processing_platform)\n",
    "    linux_true = [0] * len(va_useragent_processing_platform)\n",
    "    ios_true = [0] * len(va_useragent_processing_platform)\n",
    "    other_true = [0] * len(va_useragent_processing_platform)\n",
    "    \n",
    "    for i in range(len(va_useragent_processing_platform)):\n",
    "        if va_useragent_processing_platform[i] == 0:\n",
    "            windows_true[i] = 1\n",
    "        elif va_useragent_processing_platform[i] == 1:\n",
    "            android_true[i] = 1\n",
    "        elif va_useragent_processing_platform[i] == 2:\n",
    "            mac_true[i] = 1\n",
    "        elif va_useragent_processing_platform[i] == 3:\n",
    "            linux_true[i] = 1\n",
    "        elif va_useragent_processing_platform[i] == 4:\n",
    "            ios_true[i] = 1\n",
    "        elif va_useragent_processing_platform[i] == 5:\n",
    "            other_true[i] = 1\n",
    "    \n",
    "    windows_true_array = np.asarray(windows_true)\n",
    "    df['agent_windows'] = pd.Series(windows_true_array, index = va_df_index)\n",
    "    \n",
    "    android_true_array = np.asarray(android_true)\n",
    "    df['agent_android'] = pd.Series(android_true_array, index = va_df_index)\n",
    "    \n",
    "    mac_true_array = np.asarray(mac_true)\n",
    "    df['agent_mac'] = pd.Series(mac_true_array, index = va_df_index)\n",
    "    \n",
    "    linux_true_array = np.asarray(linux_true)\n",
    "    df['agent_linux'] = pd.Series(linux_true_array, index = va_df_index)\n",
    "    \n",
    "    ios_true_array = np.asarray(ios_true)\n",
    "    df['agent_ios'] = pd.Series(ios_true_array, index = va_df_index)\n",
    "    \n",
    "    other_true_array = np.asarray(other_true)\n",
    "    df['agent_other'] = pd.Series(other_true_array, index = va_df_index)\n",
    "    \n",
    "    return df"
   ]
  },
  {
   "cell_type": "code",
   "execution_count": 38,
   "metadata": {
    "collapsed": false
   },
   "outputs": [
    {
     "data": {
      "text/plain": [
       "299745"
      ]
     },
     "execution_count": 38,
     "metadata": {},
     "output_type": "execute_result"
    }
   ],
   "source": [
    "len(va_df.copy().useragent.tolist())"
   ]
  },
  {
   "cell_type": "code",
   "execution_count": 39,
   "metadata": {
    "collapsed": false
   },
   "outputs": [],
   "source": [
    "va_useragent_processing_platform = va_useragent_processing(va_df)"
   ]
  },
  {
   "cell_type": "code",
   "execution_count": 40,
   "metadata": {
    "collapsed": false
   },
   "outputs": [
    {
     "data": {
      "text/plain": [
       "Counter({0: 285550, 1: 7828, 2: 5874, 3: 211, 4: 55, 5: 227})"
      ]
     },
     "execution_count": 40,
     "metadata": {},
     "output_type": "execute_result"
    }
   ],
   "source": [
    "Counter(va_useragent_processing_platform)"
   ]
  },
  {
   "cell_type": "code",
   "execution_count": 41,
   "metadata": {
    "collapsed": true
   },
   "outputs": [],
   "source": [
    "va_df_index = va_df.index.get_values()"
   ]
  },
  {
   "cell_type": "code",
   "execution_count": 42,
   "metadata": {
    "collapsed": false
   },
   "outputs": [],
   "source": [
    "va_df = va_dummy_coding(va_df)"
   ]
  },
  {
   "cell_type": "code",
   "execution_count": 43,
   "metadata": {
    "collapsed": false
   },
   "outputs": [
    {
     "data": {
      "text/html": [
       "<div>\n",
       "<table border=\"1\" class=\"dataframe\">\n",
       "  <thead>\n",
       "    <tr style=\"text-align: right;\">\n",
       "      <th></th>\n",
       "      <th>click</th>\n",
       "      <th>weekday</th>\n",
       "      <th>hour</th>\n",
       "      <th>region</th>\n",
       "      <th>useragent</th>\n",
       "      <th>payprice</th>\n",
       "      <th>bidprice</th>\n",
       "      <th>slotformat</th>\n",
       "      <th>advertiser</th>\n",
       "      <th>slotsize</th>\n",
       "      <th>agent_windows</th>\n",
       "      <th>agent_android</th>\n",
       "      <th>agent_mac</th>\n",
       "      <th>agent_linux</th>\n",
       "      <th>agent_ios</th>\n",
       "      <th>agent_other</th>\n",
       "    </tr>\n",
       "  </thead>\n",
       "  <tbody>\n",
       "    <tr>\n",
       "      <th>0</th>\n",
       "      <td>0</td>\n",
       "      <td>5</td>\n",
       "      <td>1</td>\n",
       "      <td>19</td>\n",
       "      <td>windows_ie</td>\n",
       "      <td>102</td>\n",
       "      <td>227</td>\n",
       "      <td>1</td>\n",
       "      <td>7</td>\n",
       "      <td>1</td>\n",
       "      <td>1</td>\n",
       "      <td>0</td>\n",
       "      <td>0</td>\n",
       "      <td>0</td>\n",
       "      <td>0</td>\n",
       "      <td>0</td>\n",
       "    </tr>\n",
       "    <tr>\n",
       "      <th>1</th>\n",
       "      <td>0</td>\n",
       "      <td>3</td>\n",
       "      <td>1</td>\n",
       "      <td>19</td>\n",
       "      <td>android_safari</td>\n",
       "      <td>118</td>\n",
       "      <td>277</td>\n",
       "      <td>3</td>\n",
       "      <td>4</td>\n",
       "      <td>0</td>\n",
       "      <td>0</td>\n",
       "      <td>1</td>\n",
       "      <td>0</td>\n",
       "      <td>0</td>\n",
       "      <td>0</td>\n",
       "      <td>0</td>\n",
       "    </tr>\n",
       "    <tr>\n",
       "      <th>2</th>\n",
       "      <td>0</td>\n",
       "      <td>1</td>\n",
       "      <td>1</td>\n",
       "      <td>15</td>\n",
       "      <td>windows_ie</td>\n",
       "      <td>77</td>\n",
       "      <td>241</td>\n",
       "      <td>0</td>\n",
       "      <td>7</td>\n",
       "      <td>2</td>\n",
       "      <td>1</td>\n",
       "      <td>0</td>\n",
       "      <td>0</td>\n",
       "      <td>0</td>\n",
       "      <td>0</td>\n",
       "      <td>0</td>\n",
       "    </tr>\n",
       "    <tr>\n",
       "      <th>3</th>\n",
       "      <td>0</td>\n",
       "      <td>5</td>\n",
       "      <td>2</td>\n",
       "      <td>15</td>\n",
       "      <td>windows_chrome</td>\n",
       "      <td>77</td>\n",
       "      <td>241</td>\n",
       "      <td>0</td>\n",
       "      <td>7</td>\n",
       "      <td>2</td>\n",
       "      <td>1</td>\n",
       "      <td>0</td>\n",
       "      <td>0</td>\n",
       "      <td>0</td>\n",
       "      <td>0</td>\n",
       "      <td>0</td>\n",
       "    </tr>\n",
       "    <tr>\n",
       "      <th>4</th>\n",
       "      <td>0</td>\n",
       "      <td>5</td>\n",
       "      <td>1</td>\n",
       "      <td>22</td>\n",
       "      <td>windows_ie</td>\n",
       "      <td>178</td>\n",
       "      <td>300</td>\n",
       "      <td>0</td>\n",
       "      <td>6</td>\n",
       "      <td>2</td>\n",
       "      <td>1</td>\n",
       "      <td>0</td>\n",
       "      <td>0</td>\n",
       "      <td>0</td>\n",
       "      <td>0</td>\n",
       "      <td>0</td>\n",
       "    </tr>\n",
       "    <tr>\n",
       "      <th>5</th>\n",
       "      <td>0</td>\n",
       "      <td>1</td>\n",
       "      <td>2</td>\n",
       "      <td>25</td>\n",
       "      <td>windows_chrome</td>\n",
       "      <td>49</td>\n",
       "      <td>238</td>\n",
       "      <td>1</td>\n",
       "      <td>8</td>\n",
       "      <td>1</td>\n",
       "      <td>1</td>\n",
       "      <td>0</td>\n",
       "      <td>0</td>\n",
       "      <td>0</td>\n",
       "      <td>0</td>\n",
       "      <td>0</td>\n",
       "    </tr>\n",
       "    <tr>\n",
       "      <th>6</th>\n",
       "      <td>0</td>\n",
       "      <td>3</td>\n",
       "      <td>2</td>\n",
       "      <td>9</td>\n",
       "      <td>windows_ie</td>\n",
       "      <td>52</td>\n",
       "      <td>300</td>\n",
       "      <td>0</td>\n",
       "      <td>6</td>\n",
       "      <td>1</td>\n",
       "      <td>1</td>\n",
       "      <td>0</td>\n",
       "      <td>0</td>\n",
       "      <td>0</td>\n",
       "      <td>0</td>\n",
       "      <td>0</td>\n",
       "    </tr>\n",
       "    <tr>\n",
       "      <th>7</th>\n",
       "      <td>0</td>\n",
       "      <td>2</td>\n",
       "      <td>0</td>\n",
       "      <td>31</td>\n",
       "      <td>windows_ie</td>\n",
       "      <td>86</td>\n",
       "      <td>294</td>\n",
       "      <td>3</td>\n",
       "      <td>3</td>\n",
       "      <td>2</td>\n",
       "      <td>1</td>\n",
       "      <td>0</td>\n",
       "      <td>0</td>\n",
       "      <td>0</td>\n",
       "      <td>0</td>\n",
       "      <td>0</td>\n",
       "    </tr>\n",
       "    <tr>\n",
       "      <th>8</th>\n",
       "      <td>0</td>\n",
       "      <td>0</td>\n",
       "      <td>0</td>\n",
       "      <td>22</td>\n",
       "      <td>windows_ie</td>\n",
       "      <td>212</td>\n",
       "      <td>254</td>\n",
       "      <td>0</td>\n",
       "      <td>8</td>\n",
       "      <td>1</td>\n",
       "      <td>1</td>\n",
       "      <td>0</td>\n",
       "      <td>0</td>\n",
       "      <td>0</td>\n",
       "      <td>0</td>\n",
       "      <td>0</td>\n",
       "    </tr>\n",
       "    <tr>\n",
       "      <th>9</th>\n",
       "      <td>0</td>\n",
       "      <td>0</td>\n",
       "      <td>0</td>\n",
       "      <td>12</td>\n",
       "      <td>windows_chrome</td>\n",
       "      <td>40</td>\n",
       "      <td>300</td>\n",
       "      <td>0</td>\n",
       "      <td>0</td>\n",
       "      <td>1</td>\n",
       "      <td>1</td>\n",
       "      <td>0</td>\n",
       "      <td>0</td>\n",
       "      <td>0</td>\n",
       "      <td>0</td>\n",
       "      <td>0</td>\n",
       "    </tr>\n",
       "    <tr>\n",
       "      <th>10</th>\n",
       "      <td>0</td>\n",
       "      <td>6</td>\n",
       "      <td>2</td>\n",
       "      <td>15</td>\n",
       "      <td>windows_ie</td>\n",
       "      <td>70</td>\n",
       "      <td>300</td>\n",
       "      <td>0</td>\n",
       "      <td>6</td>\n",
       "      <td>2</td>\n",
       "      <td>1</td>\n",
       "      <td>0</td>\n",
       "      <td>0</td>\n",
       "      <td>0</td>\n",
       "      <td>0</td>\n",
       "      <td>0</td>\n",
       "    </tr>\n",
       "    <tr>\n",
       "      <th>11</th>\n",
       "      <td>0</td>\n",
       "      <td>0</td>\n",
       "      <td>2</td>\n",
       "      <td>11</td>\n",
       "      <td>windows_ie</td>\n",
       "      <td>213</td>\n",
       "      <td>254</td>\n",
       "      <td>0</td>\n",
       "      <td>8</td>\n",
       "      <td>1</td>\n",
       "      <td>1</td>\n",
       "      <td>0</td>\n",
       "      <td>0</td>\n",
       "      <td>0</td>\n",
       "      <td>0</td>\n",
       "      <td>0</td>\n",
       "    </tr>\n",
       "    <tr>\n",
       "      <th>12</th>\n",
       "      <td>0</td>\n",
       "      <td>5</td>\n",
       "      <td>2</td>\n",
       "      <td>15</td>\n",
       "      <td>windows_ie</td>\n",
       "      <td>17</td>\n",
       "      <td>300</td>\n",
       "      <td>1</td>\n",
       "      <td>0</td>\n",
       "      <td>2</td>\n",
       "      <td>1</td>\n",
       "      <td>0</td>\n",
       "      <td>0</td>\n",
       "      <td>0</td>\n",
       "      <td>0</td>\n",
       "      <td>0</td>\n",
       "    </tr>\n",
       "    <tr>\n",
       "      <th>13</th>\n",
       "      <td>0</td>\n",
       "      <td>1</td>\n",
       "      <td>0</td>\n",
       "      <td>11</td>\n",
       "      <td>mac_safari</td>\n",
       "      <td>201</td>\n",
       "      <td>300</td>\n",
       "      <td>1</td>\n",
       "      <td>6</td>\n",
       "      <td>1</td>\n",
       "      <td>0</td>\n",
       "      <td>0</td>\n",
       "      <td>1</td>\n",
       "      <td>0</td>\n",
       "      <td>0</td>\n",
       "      <td>0</td>\n",
       "    </tr>\n",
       "    <tr>\n",
       "      <th>14</th>\n",
       "      <td>0</td>\n",
       "      <td>0</td>\n",
       "      <td>0</td>\n",
       "      <td>16</td>\n",
       "      <td>windows_ie</td>\n",
       "      <td>89</td>\n",
       "      <td>227</td>\n",
       "      <td>1</td>\n",
       "      <td>5</td>\n",
       "      <td>2</td>\n",
       "      <td>1</td>\n",
       "      <td>0</td>\n",
       "      <td>0</td>\n",
       "      <td>0</td>\n",
       "      <td>0</td>\n",
       "      <td>0</td>\n",
       "    </tr>\n",
       "    <tr>\n",
       "      <th>15</th>\n",
       "      <td>0</td>\n",
       "      <td>1</td>\n",
       "      <td>2</td>\n",
       "      <td>23</td>\n",
       "      <td>windows_ie</td>\n",
       "      <td>14</td>\n",
       "      <td>300</td>\n",
       "      <td>0</td>\n",
       "      <td>6</td>\n",
       "      <td>1</td>\n",
       "      <td>1</td>\n",
       "      <td>0</td>\n",
       "      <td>0</td>\n",
       "      <td>0</td>\n",
       "      <td>0</td>\n",
       "      <td>0</td>\n",
       "    </tr>\n",
       "    <tr>\n",
       "      <th>16</th>\n",
       "      <td>0</td>\n",
       "      <td>3</td>\n",
       "      <td>2</td>\n",
       "      <td>14</td>\n",
       "      <td>windows_ie</td>\n",
       "      <td>101</td>\n",
       "      <td>300</td>\n",
       "      <td>1</td>\n",
       "      <td>6</td>\n",
       "      <td>2</td>\n",
       "      <td>1</td>\n",
       "      <td>0</td>\n",
       "      <td>0</td>\n",
       "      <td>0</td>\n",
       "      <td>0</td>\n",
       "      <td>0</td>\n",
       "    </tr>\n",
       "    <tr>\n",
       "      <th>17</th>\n",
       "      <td>0</td>\n",
       "      <td>3</td>\n",
       "      <td>1</td>\n",
       "      <td>19</td>\n",
       "      <td>windows_ie</td>\n",
       "      <td>32</td>\n",
       "      <td>300</td>\n",
       "      <td>1</td>\n",
       "      <td>0</td>\n",
       "      <td>2</td>\n",
       "      <td>1</td>\n",
       "      <td>0</td>\n",
       "      <td>0</td>\n",
       "      <td>0</td>\n",
       "      <td>0</td>\n",
       "      <td>0</td>\n",
       "    </tr>\n",
       "    <tr>\n",
       "      <th>18</th>\n",
       "      <td>0</td>\n",
       "      <td>3</td>\n",
       "      <td>1</td>\n",
       "      <td>19</td>\n",
       "      <td>windows_ie</td>\n",
       "      <td>76</td>\n",
       "      <td>300</td>\n",
       "      <td>1</td>\n",
       "      <td>0</td>\n",
       "      <td>1</td>\n",
       "      <td>1</td>\n",
       "      <td>0</td>\n",
       "      <td>0</td>\n",
       "      <td>0</td>\n",
       "      <td>0</td>\n",
       "      <td>0</td>\n",
       "    </tr>\n",
       "    <tr>\n",
       "      <th>19</th>\n",
       "      <td>0</td>\n",
       "      <td>4</td>\n",
       "      <td>2</td>\n",
       "      <td>23</td>\n",
       "      <td>windows_ie</td>\n",
       "      <td>208</td>\n",
       "      <td>300</td>\n",
       "      <td>0</td>\n",
       "      <td>0</td>\n",
       "      <td>1</td>\n",
       "      <td>1</td>\n",
       "      <td>0</td>\n",
       "      <td>0</td>\n",
       "      <td>0</td>\n",
       "      <td>0</td>\n",
       "      <td>0</td>\n",
       "    </tr>\n",
       "    <tr>\n",
       "      <th>20</th>\n",
       "      <td>0</td>\n",
       "      <td>5</td>\n",
       "      <td>1</td>\n",
       "      <td>11</td>\n",
       "      <td>windows_ie</td>\n",
       "      <td>20</td>\n",
       "      <td>294</td>\n",
       "      <td>3</td>\n",
       "      <td>2</td>\n",
       "      <td>0</td>\n",
       "      <td>1</td>\n",
       "      <td>0</td>\n",
       "      <td>0</td>\n",
       "      <td>0</td>\n",
       "      <td>0</td>\n",
       "      <td>0</td>\n",
       "    </tr>\n",
       "    <tr>\n",
       "      <th>21</th>\n",
       "      <td>0</td>\n",
       "      <td>3</td>\n",
       "      <td>1</td>\n",
       "      <td>25</td>\n",
       "      <td>windows_ie</td>\n",
       "      <td>84</td>\n",
       "      <td>300</td>\n",
       "      <td>0</td>\n",
       "      <td>6</td>\n",
       "      <td>1</td>\n",
       "      <td>1</td>\n",
       "      <td>0</td>\n",
       "      <td>0</td>\n",
       "      <td>0</td>\n",
       "      <td>0</td>\n",
       "      <td>0</td>\n",
       "    </tr>\n",
       "    <tr>\n",
       "      <th>22</th>\n",
       "      <td>0</td>\n",
       "      <td>5</td>\n",
       "      <td>0</td>\n",
       "      <td>1</td>\n",
       "      <td>windows_ie</td>\n",
       "      <td>110</td>\n",
       "      <td>227</td>\n",
       "      <td>1</td>\n",
       "      <td>5</td>\n",
       "      <td>1</td>\n",
       "      <td>1</td>\n",
       "      <td>0</td>\n",
       "      <td>0</td>\n",
       "      <td>0</td>\n",
       "      <td>0</td>\n",
       "      <td>0</td>\n",
       "    </tr>\n",
       "    <tr>\n",
       "      <th>23</th>\n",
       "      <td>0</td>\n",
       "      <td>4</td>\n",
       "      <td>2</td>\n",
       "      <td>1</td>\n",
       "      <td>windows_chrome</td>\n",
       "      <td>43</td>\n",
       "      <td>241</td>\n",
       "      <td>0</td>\n",
       "      <td>7</td>\n",
       "      <td>2</td>\n",
       "      <td>1</td>\n",
       "      <td>0</td>\n",
       "      <td>0</td>\n",
       "      <td>0</td>\n",
       "      <td>0</td>\n",
       "      <td>0</td>\n",
       "    </tr>\n",
       "    <tr>\n",
       "      <th>24</th>\n",
       "      <td>0</td>\n",
       "      <td>6</td>\n",
       "      <td>2</td>\n",
       "      <td>14</td>\n",
       "      <td>windows_ie</td>\n",
       "      <td>68</td>\n",
       "      <td>300</td>\n",
       "      <td>0</td>\n",
       "      <td>0</td>\n",
       "      <td>1</td>\n",
       "      <td>1</td>\n",
       "      <td>0</td>\n",
       "      <td>0</td>\n",
       "      <td>0</td>\n",
       "      <td>0</td>\n",
       "      <td>0</td>\n",
       "    </tr>\n",
       "    <tr>\n",
       "      <th>25</th>\n",
       "      <td>0</td>\n",
       "      <td>4</td>\n",
       "      <td>0</td>\n",
       "      <td>7</td>\n",
       "      <td>windows_chrome</td>\n",
       "      <td>50</td>\n",
       "      <td>300</td>\n",
       "      <td>0</td>\n",
       "      <td>6</td>\n",
       "      <td>2</td>\n",
       "      <td>1</td>\n",
       "      <td>0</td>\n",
       "      <td>0</td>\n",
       "      <td>0</td>\n",
       "      <td>0</td>\n",
       "      <td>0</td>\n",
       "    </tr>\n",
       "    <tr>\n",
       "      <th>26</th>\n",
       "      <td>0</td>\n",
       "      <td>6</td>\n",
       "      <td>0</td>\n",
       "      <td>10</td>\n",
       "      <td>windows_ie</td>\n",
       "      <td>87</td>\n",
       "      <td>300</td>\n",
       "      <td>0</td>\n",
       "      <td>6</td>\n",
       "      <td>1</td>\n",
       "      <td>1</td>\n",
       "      <td>0</td>\n",
       "      <td>0</td>\n",
       "      <td>0</td>\n",
       "      <td>0</td>\n",
       "      <td>0</td>\n",
       "    </tr>\n",
       "    <tr>\n",
       "      <th>27</th>\n",
       "      <td>0</td>\n",
       "      <td>6</td>\n",
       "      <td>2</td>\n",
       "      <td>19</td>\n",
       "      <td>windows_chrome</td>\n",
       "      <td>50</td>\n",
       "      <td>300</td>\n",
       "      <td>0</td>\n",
       "      <td>0</td>\n",
       "      <td>1</td>\n",
       "      <td>1</td>\n",
       "      <td>0</td>\n",
       "      <td>0</td>\n",
       "      <td>0</td>\n",
       "      <td>0</td>\n",
       "      <td>0</td>\n",
       "    </tr>\n",
       "    <tr>\n",
       "      <th>28</th>\n",
       "      <td>0</td>\n",
       "      <td>2</td>\n",
       "      <td>0</td>\n",
       "      <td>12</td>\n",
       "      <td>windows_ie</td>\n",
       "      <td>99</td>\n",
       "      <td>238</td>\n",
       "      <td>0</td>\n",
       "      <td>5</td>\n",
       "      <td>0</td>\n",
       "      <td>1</td>\n",
       "      <td>0</td>\n",
       "      <td>0</td>\n",
       "      <td>0</td>\n",
       "      <td>0</td>\n",
       "      <td>0</td>\n",
       "    </tr>\n",
       "    <tr>\n",
       "      <th>29</th>\n",
       "      <td>0</td>\n",
       "      <td>1</td>\n",
       "      <td>2</td>\n",
       "      <td>17</td>\n",
       "      <td>windows_ie</td>\n",
       "      <td>30</td>\n",
       "      <td>227</td>\n",
       "      <td>1</td>\n",
       "      <td>7</td>\n",
       "      <td>1</td>\n",
       "      <td>1</td>\n",
       "      <td>0</td>\n",
       "      <td>0</td>\n",
       "      <td>0</td>\n",
       "      <td>0</td>\n",
       "      <td>0</td>\n",
       "    </tr>\n",
       "    <tr>\n",
       "      <th>...</th>\n",
       "      <td>...</td>\n",
       "      <td>...</td>\n",
       "      <td>...</td>\n",
       "      <td>...</td>\n",
       "      <td>...</td>\n",
       "      <td>...</td>\n",
       "      <td>...</td>\n",
       "      <td>...</td>\n",
       "      <td>...</td>\n",
       "      <td>...</td>\n",
       "      <td>...</td>\n",
       "      <td>...</td>\n",
       "      <td>...</td>\n",
       "      <td>...</td>\n",
       "      <td>...</td>\n",
       "      <td>...</td>\n",
       "    </tr>\n",
       "    <tr>\n",
       "      <th>299719</th>\n",
       "      <td>0</td>\n",
       "      <td>6</td>\n",
       "      <td>2</td>\n",
       "      <td>9</td>\n",
       "      <td>windows_firefox</td>\n",
       "      <td>5</td>\n",
       "      <td>254</td>\n",
       "      <td>0</td>\n",
       "      <td>8</td>\n",
       "      <td>2</td>\n",
       "      <td>1</td>\n",
       "      <td>0</td>\n",
       "      <td>0</td>\n",
       "      <td>0</td>\n",
       "      <td>0</td>\n",
       "      <td>0</td>\n",
       "    </tr>\n",
       "    <tr>\n",
       "      <th>299720</th>\n",
       "      <td>0</td>\n",
       "      <td>4</td>\n",
       "      <td>2</td>\n",
       "      <td>15</td>\n",
       "      <td>windows_ie</td>\n",
       "      <td>55</td>\n",
       "      <td>241</td>\n",
       "      <td>0</td>\n",
       "      <td>7</td>\n",
       "      <td>2</td>\n",
       "      <td>1</td>\n",
       "      <td>0</td>\n",
       "      <td>0</td>\n",
       "      <td>0</td>\n",
       "      <td>0</td>\n",
       "      <td>0</td>\n",
       "    </tr>\n",
       "    <tr>\n",
       "      <th>299721</th>\n",
       "      <td>0</td>\n",
       "      <td>6</td>\n",
       "      <td>2</td>\n",
       "      <td>15</td>\n",
       "      <td>windows_ie</td>\n",
       "      <td>30</td>\n",
       "      <td>227</td>\n",
       "      <td>1</td>\n",
       "      <td>7</td>\n",
       "      <td>2</td>\n",
       "      <td>1</td>\n",
       "      <td>0</td>\n",
       "      <td>0</td>\n",
       "      <td>0</td>\n",
       "      <td>0</td>\n",
       "      <td>0</td>\n",
       "    </tr>\n",
       "    <tr>\n",
       "      <th>299722</th>\n",
       "      <td>0</td>\n",
       "      <td>4</td>\n",
       "      <td>1</td>\n",
       "      <td>19</td>\n",
       "      <td>windows_chrome</td>\n",
       "      <td>51</td>\n",
       "      <td>300</td>\n",
       "      <td>1</td>\n",
       "      <td>0</td>\n",
       "      <td>2</td>\n",
       "      <td>1</td>\n",
       "      <td>0</td>\n",
       "      <td>0</td>\n",
       "      <td>0</td>\n",
       "      <td>0</td>\n",
       "      <td>0</td>\n",
       "    </tr>\n",
       "    <tr>\n",
       "      <th>299723</th>\n",
       "      <td>0</td>\n",
       "      <td>5</td>\n",
       "      <td>1</td>\n",
       "      <td>14</td>\n",
       "      <td>windows_chrome</td>\n",
       "      <td>23</td>\n",
       "      <td>300</td>\n",
       "      <td>1</td>\n",
       "      <td>0</td>\n",
       "      <td>2</td>\n",
       "      <td>1</td>\n",
       "      <td>0</td>\n",
       "      <td>0</td>\n",
       "      <td>0</td>\n",
       "      <td>0</td>\n",
       "      <td>0</td>\n",
       "    </tr>\n",
       "    <tr>\n",
       "      <th>299724</th>\n",
       "      <td>0</td>\n",
       "      <td>6</td>\n",
       "      <td>0</td>\n",
       "      <td>19</td>\n",
       "      <td>windows_chrome</td>\n",
       "      <td>90</td>\n",
       "      <td>227</td>\n",
       "      <td>1</td>\n",
       "      <td>7</td>\n",
       "      <td>2</td>\n",
       "      <td>1</td>\n",
       "      <td>0</td>\n",
       "      <td>0</td>\n",
       "      <td>0</td>\n",
       "      <td>0</td>\n",
       "      <td>0</td>\n",
       "    </tr>\n",
       "    <tr>\n",
       "      <th>299725</th>\n",
       "      <td>0</td>\n",
       "      <td>1</td>\n",
       "      <td>1</td>\n",
       "      <td>3</td>\n",
       "      <td>windows_chrome</td>\n",
       "      <td>70</td>\n",
       "      <td>294</td>\n",
       "      <td>3</td>\n",
       "      <td>3</td>\n",
       "      <td>2</td>\n",
       "      <td>1</td>\n",
       "      <td>0</td>\n",
       "      <td>0</td>\n",
       "      <td>0</td>\n",
       "      <td>0</td>\n",
       "      <td>0</td>\n",
       "    </tr>\n",
       "    <tr>\n",
       "      <th>299726</th>\n",
       "      <td>0</td>\n",
       "      <td>0</td>\n",
       "      <td>1</td>\n",
       "      <td>17</td>\n",
       "      <td>windows_chrome</td>\n",
       "      <td>34</td>\n",
       "      <td>238</td>\n",
       "      <td>0</td>\n",
       "      <td>5</td>\n",
       "      <td>0</td>\n",
       "      <td>1</td>\n",
       "      <td>0</td>\n",
       "      <td>0</td>\n",
       "      <td>0</td>\n",
       "      <td>0</td>\n",
       "      <td>0</td>\n",
       "    </tr>\n",
       "    <tr>\n",
       "      <th>299727</th>\n",
       "      <td>0</td>\n",
       "      <td>6</td>\n",
       "      <td>0</td>\n",
       "      <td>0</td>\n",
       "      <td>windows_chrome</td>\n",
       "      <td>69</td>\n",
       "      <td>277</td>\n",
       "      <td>3</td>\n",
       "      <td>2</td>\n",
       "      <td>1</td>\n",
       "      <td>1</td>\n",
       "      <td>0</td>\n",
       "      <td>0</td>\n",
       "      <td>0</td>\n",
       "      <td>0</td>\n",
       "      <td>0</td>\n",
       "    </tr>\n",
       "    <tr>\n",
       "      <th>299728</th>\n",
       "      <td>0</td>\n",
       "      <td>2</td>\n",
       "      <td>1</td>\n",
       "      <td>28</td>\n",
       "      <td>windows_ie</td>\n",
       "      <td>182</td>\n",
       "      <td>238</td>\n",
       "      <td>0</td>\n",
       "      <td>5</td>\n",
       "      <td>1</td>\n",
       "      <td>1</td>\n",
       "      <td>0</td>\n",
       "      <td>0</td>\n",
       "      <td>0</td>\n",
       "      <td>0</td>\n",
       "      <td>0</td>\n",
       "    </tr>\n",
       "    <tr>\n",
       "      <th>299729</th>\n",
       "      <td>0</td>\n",
       "      <td>2</td>\n",
       "      <td>1</td>\n",
       "      <td>15</td>\n",
       "      <td>windows_ie</td>\n",
       "      <td>51</td>\n",
       "      <td>300</td>\n",
       "      <td>1</td>\n",
       "      <td>0</td>\n",
       "      <td>2</td>\n",
       "      <td>1</td>\n",
       "      <td>0</td>\n",
       "      <td>0</td>\n",
       "      <td>0</td>\n",
       "      <td>0</td>\n",
       "      <td>0</td>\n",
       "    </tr>\n",
       "    <tr>\n",
       "      <th>299730</th>\n",
       "      <td>0</td>\n",
       "      <td>2</td>\n",
       "      <td>1</td>\n",
       "      <td>5</td>\n",
       "      <td>windows_chrome</td>\n",
       "      <td>80</td>\n",
       "      <td>300</td>\n",
       "      <td>0</td>\n",
       "      <td>0</td>\n",
       "      <td>2</td>\n",
       "      <td>1</td>\n",
       "      <td>0</td>\n",
       "      <td>0</td>\n",
       "      <td>0</td>\n",
       "      <td>0</td>\n",
       "      <td>0</td>\n",
       "    </tr>\n",
       "    <tr>\n",
       "      <th>299731</th>\n",
       "      <td>0</td>\n",
       "      <td>2</td>\n",
       "      <td>1</td>\n",
       "      <td>27</td>\n",
       "      <td>windows_chrome</td>\n",
       "      <td>75</td>\n",
       "      <td>238</td>\n",
       "      <td>0</td>\n",
       "      <td>5</td>\n",
       "      <td>1</td>\n",
       "      <td>1</td>\n",
       "      <td>0</td>\n",
       "      <td>0</td>\n",
       "      <td>0</td>\n",
       "      <td>0</td>\n",
       "      <td>0</td>\n",
       "    </tr>\n",
       "    <tr>\n",
       "      <th>299732</th>\n",
       "      <td>0</td>\n",
       "      <td>1</td>\n",
       "      <td>1</td>\n",
       "      <td>19</td>\n",
       "      <td>windows_chrome</td>\n",
       "      <td>73</td>\n",
       "      <td>254</td>\n",
       "      <td>0</td>\n",
       "      <td>8</td>\n",
       "      <td>2</td>\n",
       "      <td>1</td>\n",
       "      <td>0</td>\n",
       "      <td>0</td>\n",
       "      <td>0</td>\n",
       "      <td>0</td>\n",
       "      <td>0</td>\n",
       "    </tr>\n",
       "    <tr>\n",
       "      <th>299733</th>\n",
       "      <td>0</td>\n",
       "      <td>0</td>\n",
       "      <td>1</td>\n",
       "      <td>11</td>\n",
       "      <td>windows_chrome</td>\n",
       "      <td>40</td>\n",
       "      <td>300</td>\n",
       "      <td>0</td>\n",
       "      <td>0</td>\n",
       "      <td>1</td>\n",
       "      <td>1</td>\n",
       "      <td>0</td>\n",
       "      <td>0</td>\n",
       "      <td>0</td>\n",
       "      <td>0</td>\n",
       "      <td>0</td>\n",
       "    </tr>\n",
       "    <tr>\n",
       "      <th>299734</th>\n",
       "      <td>0</td>\n",
       "      <td>6</td>\n",
       "      <td>1</td>\n",
       "      <td>3</td>\n",
       "      <td>windows_chrome</td>\n",
       "      <td>6</td>\n",
       "      <td>300</td>\n",
       "      <td>1</td>\n",
       "      <td>0</td>\n",
       "      <td>1</td>\n",
       "      <td>1</td>\n",
       "      <td>0</td>\n",
       "      <td>0</td>\n",
       "      <td>0</td>\n",
       "      <td>0</td>\n",
       "      <td>0</td>\n",
       "    </tr>\n",
       "    <tr>\n",
       "      <th>299735</th>\n",
       "      <td>0</td>\n",
       "      <td>0</td>\n",
       "      <td>2</td>\n",
       "      <td>6</td>\n",
       "      <td>windows_chrome</td>\n",
       "      <td>213</td>\n",
       "      <td>254</td>\n",
       "      <td>0</td>\n",
       "      <td>8</td>\n",
       "      <td>1</td>\n",
       "      <td>1</td>\n",
       "      <td>0</td>\n",
       "      <td>0</td>\n",
       "      <td>0</td>\n",
       "      <td>0</td>\n",
       "      <td>0</td>\n",
       "    </tr>\n",
       "    <tr>\n",
       "      <th>299736</th>\n",
       "      <td>0</td>\n",
       "      <td>0</td>\n",
       "      <td>1</td>\n",
       "      <td>5</td>\n",
       "      <td>windows_chrome</td>\n",
       "      <td>60</td>\n",
       "      <td>249</td>\n",
       "      <td>0</td>\n",
       "      <td>8</td>\n",
       "      <td>1</td>\n",
       "      <td>1</td>\n",
       "      <td>0</td>\n",
       "      <td>0</td>\n",
       "      <td>0</td>\n",
       "      <td>0</td>\n",
       "      <td>0</td>\n",
       "    </tr>\n",
       "    <tr>\n",
       "      <th>299737</th>\n",
       "      <td>0</td>\n",
       "      <td>2</td>\n",
       "      <td>2</td>\n",
       "      <td>19</td>\n",
       "      <td>windows_ie</td>\n",
       "      <td>8</td>\n",
       "      <td>300</td>\n",
       "      <td>0</td>\n",
       "      <td>6</td>\n",
       "      <td>2</td>\n",
       "      <td>1</td>\n",
       "      <td>0</td>\n",
       "      <td>0</td>\n",
       "      <td>0</td>\n",
       "      <td>0</td>\n",
       "      <td>0</td>\n",
       "    </tr>\n",
       "    <tr>\n",
       "      <th>299738</th>\n",
       "      <td>0</td>\n",
       "      <td>5</td>\n",
       "      <td>2</td>\n",
       "      <td>19</td>\n",
       "      <td>windows_chrome</td>\n",
       "      <td>21</td>\n",
       "      <td>300</td>\n",
       "      <td>0</td>\n",
       "      <td>6</td>\n",
       "      <td>2</td>\n",
       "      <td>1</td>\n",
       "      <td>0</td>\n",
       "      <td>0</td>\n",
       "      <td>0</td>\n",
       "      <td>0</td>\n",
       "      <td>0</td>\n",
       "    </tr>\n",
       "    <tr>\n",
       "      <th>299739</th>\n",
       "      <td>0</td>\n",
       "      <td>3</td>\n",
       "      <td>2</td>\n",
       "      <td>23</td>\n",
       "      <td>windows_ie</td>\n",
       "      <td>30</td>\n",
       "      <td>300</td>\n",
       "      <td>0</td>\n",
       "      <td>6</td>\n",
       "      <td>1</td>\n",
       "      <td>1</td>\n",
       "      <td>0</td>\n",
       "      <td>0</td>\n",
       "      <td>0</td>\n",
       "      <td>0</td>\n",
       "      <td>0</td>\n",
       "    </tr>\n",
       "    <tr>\n",
       "      <th>299740</th>\n",
       "      <td>0</td>\n",
       "      <td>5</td>\n",
       "      <td>0</td>\n",
       "      <td>19</td>\n",
       "      <td>mac_safari</td>\n",
       "      <td>158</td>\n",
       "      <td>294</td>\n",
       "      <td>3</td>\n",
       "      <td>1</td>\n",
       "      <td>2</td>\n",
       "      <td>0</td>\n",
       "      <td>0</td>\n",
       "      <td>1</td>\n",
       "      <td>0</td>\n",
       "      <td>0</td>\n",
       "      <td>0</td>\n",
       "    </tr>\n",
       "    <tr>\n",
       "      <th>299741</th>\n",
       "      <td>0</td>\n",
       "      <td>6</td>\n",
       "      <td>1</td>\n",
       "      <td>10</td>\n",
       "      <td>windows_chrome</td>\n",
       "      <td>89</td>\n",
       "      <td>227</td>\n",
       "      <td>1</td>\n",
       "      <td>7</td>\n",
       "      <td>2</td>\n",
       "      <td>1</td>\n",
       "      <td>0</td>\n",
       "      <td>0</td>\n",
       "      <td>0</td>\n",
       "      <td>0</td>\n",
       "      <td>0</td>\n",
       "    </tr>\n",
       "    <tr>\n",
       "      <th>299742</th>\n",
       "      <td>0</td>\n",
       "      <td>1</td>\n",
       "      <td>1</td>\n",
       "      <td>13</td>\n",
       "      <td>windows_ie</td>\n",
       "      <td>4</td>\n",
       "      <td>238</td>\n",
       "      <td>0</td>\n",
       "      <td>5</td>\n",
       "      <td>1</td>\n",
       "      <td>1</td>\n",
       "      <td>0</td>\n",
       "      <td>0</td>\n",
       "      <td>0</td>\n",
       "      <td>0</td>\n",
       "      <td>0</td>\n",
       "    </tr>\n",
       "    <tr>\n",
       "      <th>299743</th>\n",
       "      <td>0</td>\n",
       "      <td>6</td>\n",
       "      <td>1</td>\n",
       "      <td>8</td>\n",
       "      <td>windows_ie</td>\n",
       "      <td>124</td>\n",
       "      <td>238</td>\n",
       "      <td>0</td>\n",
       "      <td>5</td>\n",
       "      <td>2</td>\n",
       "      <td>1</td>\n",
       "      <td>0</td>\n",
       "      <td>0</td>\n",
       "      <td>0</td>\n",
       "      <td>0</td>\n",
       "      <td>0</td>\n",
       "    </tr>\n",
       "    <tr>\n",
       "      <th>299744</th>\n",
       "      <td>0</td>\n",
       "      <td>1</td>\n",
       "      <td>1</td>\n",
       "      <td>4</td>\n",
       "      <td>windows_chrome</td>\n",
       "      <td>25</td>\n",
       "      <td>294</td>\n",
       "      <td>3</td>\n",
       "      <td>3</td>\n",
       "      <td>1</td>\n",
       "      <td>1</td>\n",
       "      <td>0</td>\n",
       "      <td>0</td>\n",
       "      <td>0</td>\n",
       "      <td>0</td>\n",
       "      <td>0</td>\n",
       "    </tr>\n",
       "    <tr>\n",
       "      <th>299745</th>\n",
       "      <td>0</td>\n",
       "      <td>6</td>\n",
       "      <td>1</td>\n",
       "      <td>18</td>\n",
       "      <td>windows_ie</td>\n",
       "      <td>2</td>\n",
       "      <td>294</td>\n",
       "      <td>3</td>\n",
       "      <td>2</td>\n",
       "      <td>1</td>\n",
       "      <td>1</td>\n",
       "      <td>0</td>\n",
       "      <td>0</td>\n",
       "      <td>0</td>\n",
       "      <td>0</td>\n",
       "      <td>0</td>\n",
       "    </tr>\n",
       "    <tr>\n",
       "      <th>299746</th>\n",
       "      <td>0</td>\n",
       "      <td>0</td>\n",
       "      <td>2</td>\n",
       "      <td>6</td>\n",
       "      <td>windows_ie</td>\n",
       "      <td>22</td>\n",
       "      <td>238</td>\n",
       "      <td>0</td>\n",
       "      <td>5</td>\n",
       "      <td>1</td>\n",
       "      <td>1</td>\n",
       "      <td>0</td>\n",
       "      <td>0</td>\n",
       "      <td>0</td>\n",
       "      <td>0</td>\n",
       "      <td>0</td>\n",
       "    </tr>\n",
       "    <tr>\n",
       "      <th>299747</th>\n",
       "      <td>0</td>\n",
       "      <td>6</td>\n",
       "      <td>1</td>\n",
       "      <td>23</td>\n",
       "      <td>windows_chrome</td>\n",
       "      <td>72</td>\n",
       "      <td>238</td>\n",
       "      <td>0</td>\n",
       "      <td>5</td>\n",
       "      <td>1</td>\n",
       "      <td>1</td>\n",
       "      <td>0</td>\n",
       "      <td>0</td>\n",
       "      <td>0</td>\n",
       "      <td>0</td>\n",
       "      <td>0</td>\n",
       "    </tr>\n",
       "    <tr>\n",
       "      <th>299748</th>\n",
       "      <td>0</td>\n",
       "      <td>5</td>\n",
       "      <td>2</td>\n",
       "      <td>13</td>\n",
       "      <td>windows_chrome</td>\n",
       "      <td>12</td>\n",
       "      <td>300</td>\n",
       "      <td>0</td>\n",
       "      <td>0</td>\n",
       "      <td>1</td>\n",
       "      <td>1</td>\n",
       "      <td>0</td>\n",
       "      <td>0</td>\n",
       "      <td>0</td>\n",
       "      <td>0</td>\n",
       "      <td>0</td>\n",
       "    </tr>\n",
       "  </tbody>\n",
       "</table>\n",
       "<p>299745 rows × 16 columns</p>\n",
       "</div>"
      ],
      "text/plain": [
       "        click  weekday  hour  region        useragent  payprice  bidprice  \\\n",
       "0           0        5     1      19       windows_ie       102       227   \n",
       "1           0        3     1      19   android_safari       118       277   \n",
       "2           0        1     1      15       windows_ie        77       241   \n",
       "3           0        5     2      15   windows_chrome        77       241   \n",
       "4           0        5     1      22       windows_ie       178       300   \n",
       "5           0        1     2      25   windows_chrome        49       238   \n",
       "6           0        3     2       9       windows_ie        52       300   \n",
       "7           0        2     0      31       windows_ie        86       294   \n",
       "8           0        0     0      22       windows_ie       212       254   \n",
       "9           0        0     0      12   windows_chrome        40       300   \n",
       "10          0        6     2      15       windows_ie        70       300   \n",
       "11          0        0     2      11       windows_ie       213       254   \n",
       "12          0        5     2      15       windows_ie        17       300   \n",
       "13          0        1     0      11       mac_safari       201       300   \n",
       "14          0        0     0      16       windows_ie        89       227   \n",
       "15          0        1     2      23       windows_ie        14       300   \n",
       "16          0        3     2      14       windows_ie       101       300   \n",
       "17          0        3     1      19       windows_ie        32       300   \n",
       "18          0        3     1      19       windows_ie        76       300   \n",
       "19          0        4     2      23       windows_ie       208       300   \n",
       "20          0        5     1      11       windows_ie        20       294   \n",
       "21          0        3     1      25       windows_ie        84       300   \n",
       "22          0        5     0       1       windows_ie       110       227   \n",
       "23          0        4     2       1   windows_chrome        43       241   \n",
       "24          0        6     2      14       windows_ie        68       300   \n",
       "25          0        4     0       7   windows_chrome        50       300   \n",
       "26          0        6     0      10       windows_ie        87       300   \n",
       "27          0        6     2      19   windows_chrome        50       300   \n",
       "28          0        2     0      12       windows_ie        99       238   \n",
       "29          0        1     2      17       windows_ie        30       227   \n",
       "...       ...      ...   ...     ...              ...       ...       ...   \n",
       "299719      0        6     2       9  windows_firefox         5       254   \n",
       "299720      0        4     2      15       windows_ie        55       241   \n",
       "299721      0        6     2      15       windows_ie        30       227   \n",
       "299722      0        4     1      19   windows_chrome        51       300   \n",
       "299723      0        5     1      14   windows_chrome        23       300   \n",
       "299724      0        6     0      19   windows_chrome        90       227   \n",
       "299725      0        1     1       3   windows_chrome        70       294   \n",
       "299726      0        0     1      17   windows_chrome        34       238   \n",
       "299727      0        6     0       0   windows_chrome        69       277   \n",
       "299728      0        2     1      28       windows_ie       182       238   \n",
       "299729      0        2     1      15       windows_ie        51       300   \n",
       "299730      0        2     1       5   windows_chrome        80       300   \n",
       "299731      0        2     1      27   windows_chrome        75       238   \n",
       "299732      0        1     1      19   windows_chrome        73       254   \n",
       "299733      0        0     1      11   windows_chrome        40       300   \n",
       "299734      0        6     1       3   windows_chrome         6       300   \n",
       "299735      0        0     2       6   windows_chrome       213       254   \n",
       "299736      0        0     1       5   windows_chrome        60       249   \n",
       "299737      0        2     2      19       windows_ie         8       300   \n",
       "299738      0        5     2      19   windows_chrome        21       300   \n",
       "299739      0        3     2      23       windows_ie        30       300   \n",
       "299740      0        5     0      19       mac_safari       158       294   \n",
       "299741      0        6     1      10   windows_chrome        89       227   \n",
       "299742      0        1     1      13       windows_ie         4       238   \n",
       "299743      0        6     1       8       windows_ie       124       238   \n",
       "299744      0        1     1       4   windows_chrome        25       294   \n",
       "299745      0        6     1      18       windows_ie         2       294   \n",
       "299746      0        0     2       6       windows_ie        22       238   \n",
       "299747      0        6     1      23   windows_chrome        72       238   \n",
       "299748      0        5     2      13   windows_chrome        12       300   \n",
       "\n",
       "        slotformat  advertiser  slotsize  agent_windows  agent_android  \\\n",
       "0                1           7         1              1              0   \n",
       "1                3           4         0              0              1   \n",
       "2                0           7         2              1              0   \n",
       "3                0           7         2              1              0   \n",
       "4                0           6         2              1              0   \n",
       "5                1           8         1              1              0   \n",
       "6                0           6         1              1              0   \n",
       "7                3           3         2              1              0   \n",
       "8                0           8         1              1              0   \n",
       "9                0           0         1              1              0   \n",
       "10               0           6         2              1              0   \n",
       "11               0           8         1              1              0   \n",
       "12               1           0         2              1              0   \n",
       "13               1           6         1              0              0   \n",
       "14               1           5         2              1              0   \n",
       "15               0           6         1              1              0   \n",
       "16               1           6         2              1              0   \n",
       "17               1           0         2              1              0   \n",
       "18               1           0         1              1              0   \n",
       "19               0           0         1              1              0   \n",
       "20               3           2         0              1              0   \n",
       "21               0           6         1              1              0   \n",
       "22               1           5         1              1              0   \n",
       "23               0           7         2              1              0   \n",
       "24               0           0         1              1              0   \n",
       "25               0           6         2              1              0   \n",
       "26               0           6         1              1              0   \n",
       "27               0           0         1              1              0   \n",
       "28               0           5         0              1              0   \n",
       "29               1           7         1              1              0   \n",
       "...            ...         ...       ...            ...            ...   \n",
       "299719           0           8         2              1              0   \n",
       "299720           0           7         2              1              0   \n",
       "299721           1           7         2              1              0   \n",
       "299722           1           0         2              1              0   \n",
       "299723           1           0         2              1              0   \n",
       "299724           1           7         2              1              0   \n",
       "299725           3           3         2              1              0   \n",
       "299726           0           5         0              1              0   \n",
       "299727           3           2         1              1              0   \n",
       "299728           0           5         1              1              0   \n",
       "299729           1           0         2              1              0   \n",
       "299730           0           0         2              1              0   \n",
       "299731           0           5         1              1              0   \n",
       "299732           0           8         2              1              0   \n",
       "299733           0           0         1              1              0   \n",
       "299734           1           0         1              1              0   \n",
       "299735           0           8         1              1              0   \n",
       "299736           0           8         1              1              0   \n",
       "299737           0           6         2              1              0   \n",
       "299738           0           6         2              1              0   \n",
       "299739           0           6         1              1              0   \n",
       "299740           3           1         2              0              0   \n",
       "299741           1           7         2              1              0   \n",
       "299742           0           5         1              1              0   \n",
       "299743           0           5         2              1              0   \n",
       "299744           3           3         1              1              0   \n",
       "299745           3           2         1              1              0   \n",
       "299746           0           5         1              1              0   \n",
       "299747           0           5         1              1              0   \n",
       "299748           0           0         1              1              0   \n",
       "\n",
       "        agent_mac  agent_linux  agent_ios  agent_other  \n",
       "0               0            0          0            0  \n",
       "1               0            0          0            0  \n",
       "2               0            0          0            0  \n",
       "3               0            0          0            0  \n",
       "4               0            0          0            0  \n",
       "5               0            0          0            0  \n",
       "6               0            0          0            0  \n",
       "7               0            0          0            0  \n",
       "8               0            0          0            0  \n",
       "9               0            0          0            0  \n",
       "10              0            0          0            0  \n",
       "11              0            0          0            0  \n",
       "12              0            0          0            0  \n",
       "13              1            0          0            0  \n",
       "14              0            0          0            0  \n",
       "15              0            0          0            0  \n",
       "16              0            0          0            0  \n",
       "17              0            0          0            0  \n",
       "18              0            0          0            0  \n",
       "19              0            0          0            0  \n",
       "20              0            0          0            0  \n",
       "21              0            0          0            0  \n",
       "22              0            0          0            0  \n",
       "23              0            0          0            0  \n",
       "24              0            0          0            0  \n",
       "25              0            0          0            0  \n",
       "26              0            0          0            0  \n",
       "27              0            0          0            0  \n",
       "28              0            0          0            0  \n",
       "29              0            0          0            0  \n",
       "...           ...          ...        ...          ...  \n",
       "299719          0            0          0            0  \n",
       "299720          0            0          0            0  \n",
       "299721          0            0          0            0  \n",
       "299722          0            0          0            0  \n",
       "299723          0            0          0            0  \n",
       "299724          0            0          0            0  \n",
       "299725          0            0          0            0  \n",
       "299726          0            0          0            0  \n",
       "299727          0            0          0            0  \n",
       "299728          0            0          0            0  \n",
       "299729          0            0          0            0  \n",
       "299730          0            0          0            0  \n",
       "299731          0            0          0            0  \n",
       "299732          0            0          0            0  \n",
       "299733          0            0          0            0  \n",
       "299734          0            0          0            0  \n",
       "299735          0            0          0            0  \n",
       "299736          0            0          0            0  \n",
       "299737          0            0          0            0  \n",
       "299738          0            0          0            0  \n",
       "299739          0            0          0            0  \n",
       "299740          1            0          0            0  \n",
       "299741          0            0          0            0  \n",
       "299742          0            0          0            0  \n",
       "299743          0            0          0            0  \n",
       "299744          0            0          0            0  \n",
       "299745          0            0          0            0  \n",
       "299746          0            0          0            0  \n",
       "299747          0            0          0            0  \n",
       "299748          0            0          0            0  \n",
       "\n",
       "[299745 rows x 16 columns]"
      ]
     },
     "execution_count": 43,
     "metadata": {},
     "output_type": "execute_result"
    }
   ],
   "source": [
    "va_df"
   ]
  },
  {
   "cell_type": "code",
   "execution_count": 44,
   "metadata": {
    "collapsed": true
   },
   "outputs": [],
   "source": [
    "va_df = va_df.drop('useragent', axis =1)"
   ]
  },
  {
   "cell_type": "code",
   "execution_count": 45,
   "metadata": {
    "collapsed": false
   },
   "outputs": [
    {
     "name": "stdout",
     "output_type": "stream",
     "text": [
      "<class 'pandas.core.frame.DataFrame'>\n",
      "Int64Index: 299745 entries, 0 to 299748\n",
      "Data columns (total 15 columns):\n",
      "click            299745 non-null int64\n",
      "weekday          299745 non-null int64\n",
      "hour             299745 non-null int64\n",
      "region           299745 non-null int64\n",
      "payprice         299745 non-null int64\n",
      "bidprice         299745 non-null int64\n",
      "slotformat       299745 non-null int64\n",
      "advertiser       299745 non-null int64\n",
      "slotsize         299745 non-null int64\n",
      "agent_windows    299745 non-null int32\n",
      "agent_android    299745 non-null int32\n",
      "agent_mac        299745 non-null int32\n",
      "agent_linux      299745 non-null int32\n",
      "agent_ios        299745 non-null int32\n",
      "agent_other      299745 non-null int32\n",
      "dtypes: int32(6), int64(9)\n",
      "memory usage: 29.7 MB\n"
     ]
    }
   ],
   "source": [
    "va_df.info()"
   ]
  },
  {
   "cell_type": "code",
   "execution_count": 46,
   "metadata": {
    "collapsed": false
   },
   "outputs": [
    {
     "data": {
      "text/html": [
       "<div>\n",
       "<table border=\"1\" class=\"dataframe\">\n",
       "  <thead>\n",
       "    <tr style=\"text-align: right;\">\n",
       "      <th></th>\n",
       "      <th>click</th>\n",
       "      <th>weekday</th>\n",
       "      <th>hour</th>\n",
       "      <th>region</th>\n",
       "      <th>payprice</th>\n",
       "      <th>bidprice</th>\n",
       "      <th>slotformat</th>\n",
       "      <th>advertiser</th>\n",
       "      <th>slotsize</th>\n",
       "      <th>agent_windows</th>\n",
       "      <th>agent_android</th>\n",
       "      <th>agent_mac</th>\n",
       "      <th>agent_linux</th>\n",
       "      <th>agent_ios</th>\n",
       "      <th>agent_other</th>\n",
       "    </tr>\n",
       "  </thead>\n",
       "  <tbody>\n",
       "    <tr>\n",
       "      <th>0</th>\n",
       "      <td>0</td>\n",
       "      <td>5</td>\n",
       "      <td>1</td>\n",
       "      <td>19</td>\n",
       "      <td>102</td>\n",
       "      <td>227</td>\n",
       "      <td>1</td>\n",
       "      <td>7</td>\n",
       "      <td>1</td>\n",
       "      <td>1</td>\n",
       "      <td>0</td>\n",
       "      <td>0</td>\n",
       "      <td>0</td>\n",
       "      <td>0</td>\n",
       "      <td>0</td>\n",
       "    </tr>\n",
       "    <tr>\n",
       "      <th>1</th>\n",
       "      <td>0</td>\n",
       "      <td>3</td>\n",
       "      <td>1</td>\n",
       "      <td>19</td>\n",
       "      <td>118</td>\n",
       "      <td>277</td>\n",
       "      <td>3</td>\n",
       "      <td>4</td>\n",
       "      <td>0</td>\n",
       "      <td>0</td>\n",
       "      <td>1</td>\n",
       "      <td>0</td>\n",
       "      <td>0</td>\n",
       "      <td>0</td>\n",
       "      <td>0</td>\n",
       "    </tr>\n",
       "    <tr>\n",
       "      <th>2</th>\n",
       "      <td>0</td>\n",
       "      <td>1</td>\n",
       "      <td>1</td>\n",
       "      <td>15</td>\n",
       "      <td>77</td>\n",
       "      <td>241</td>\n",
       "      <td>0</td>\n",
       "      <td>7</td>\n",
       "      <td>2</td>\n",
       "      <td>1</td>\n",
       "      <td>0</td>\n",
       "      <td>0</td>\n",
       "      <td>0</td>\n",
       "      <td>0</td>\n",
       "      <td>0</td>\n",
       "    </tr>\n",
       "    <tr>\n",
       "      <th>3</th>\n",
       "      <td>0</td>\n",
       "      <td>5</td>\n",
       "      <td>2</td>\n",
       "      <td>15</td>\n",
       "      <td>77</td>\n",
       "      <td>241</td>\n",
       "      <td>0</td>\n",
       "      <td>7</td>\n",
       "      <td>2</td>\n",
       "      <td>1</td>\n",
       "      <td>0</td>\n",
       "      <td>0</td>\n",
       "      <td>0</td>\n",
       "      <td>0</td>\n",
       "      <td>0</td>\n",
       "    </tr>\n",
       "    <tr>\n",
       "      <th>4</th>\n",
       "      <td>0</td>\n",
       "      <td>5</td>\n",
       "      <td>1</td>\n",
       "      <td>22</td>\n",
       "      <td>178</td>\n",
       "      <td>300</td>\n",
       "      <td>0</td>\n",
       "      <td>6</td>\n",
       "      <td>2</td>\n",
       "      <td>1</td>\n",
       "      <td>0</td>\n",
       "      <td>0</td>\n",
       "      <td>0</td>\n",
       "      <td>0</td>\n",
       "      <td>0</td>\n",
       "    </tr>\n",
       "  </tbody>\n",
       "</table>\n",
       "</div>"
      ],
      "text/plain": [
       "   click  weekday  hour  region  payprice  bidprice  slotformat  advertiser  \\\n",
       "0      0        5     1      19       102       227           1           7   \n",
       "1      0        3     1      19       118       277           3           4   \n",
       "2      0        1     1      15        77       241           0           7   \n",
       "3      0        5     2      15        77       241           0           7   \n",
       "4      0        5     1      22       178       300           0           6   \n",
       "\n",
       "   slotsize  agent_windows  agent_android  agent_mac  agent_linux  agent_ios  \\\n",
       "0         1              1              0          0            0          0   \n",
       "1         0              0              1          0            0          0   \n",
       "2         2              1              0          0            0          0   \n",
       "3         2              1              0          0            0          0   \n",
       "4         2              1              0          0            0          0   \n",
       "\n",
       "   agent_other  \n",
       "0            0  \n",
       "1            0  \n",
       "2            0  \n",
       "3            0  \n",
       "4            0  "
      ]
     },
     "execution_count": 46,
     "metadata": {},
     "output_type": "execute_result"
    }
   ],
   "source": [
    "va_df.head()"
   ]
  },
  {
   "cell_type": "markdown",
   "metadata": {
    "collapsed": true
   },
   "source": [
    "## Training Logistic Regression (linear_model.LogisticRegression)"
   ]
  },
  {
   "cell_type": "code",
   "execution_count": 47,
   "metadata": {
    "collapsed": false
   },
   "outputs": [],
   "source": [
    "try:\n",
    "    from sklearn.model_selection import train_test_split, cross_val_score\n",
    "except ImportError:\n",
    "    from sklearn.cross_validation import train_test_split, cross_val_score"
   ]
  },
  {
   "cell_type": "code",
   "execution_count": 48,
   "metadata": {
    "collapsed": true
   },
   "outputs": [],
   "source": [
    "# Defining X and Y in Train\n",
    "X = df[[col for col in df.columns if col not in ['click', 'payprice', 'bidprice']]]\n",
    "Y = df['click']"
   ]
  },
  {
   "cell_type": "code",
   "execution_count": 49,
   "metadata": {
    "collapsed": true
   },
   "outputs": [],
   "source": [
    "X_validation = va_df[[col for col in va_df.columns if col not in ['click', 'payprice', 'bidprice']]]\n",
    "Y_validation = va_df['click']"
   ]
  },
  {
   "cell_type": "markdown",
   "metadata": {},
   "source": [
    "### Choose the Estimator\n",
    "We will use **``linear_model.LogisticRegression()``** from **`sklearn`** module."
   ]
  },
  {
   "cell_type": "code",
   "execution_count": 51,
   "metadata": {
    "collapsed": true
   },
   "outputs": [],
   "source": [
    "# Training the model\n",
    "logreg = linear_model.LogisticRegression()"
   ]
  },
  {
   "cell_type": "code",
   "execution_count": 52,
   "metadata": {
    "collapsed": false
   },
   "outputs": [
    {
     "data": {
      "text/plain": [
       "LogisticRegression(C=1.0, class_weight=None, dual=False, fit_intercept=True,\n",
       "          intercept_scaling=1, max_iter=100, multi_class='ovr', n_jobs=1,\n",
       "          penalty='l2', random_state=None, solver='liblinear', tol=0.0001,\n",
       "          verbose=0, warm_start=False)"
      ]
     },
     "execution_count": 52,
     "metadata": {},
     "output_type": "execute_result"
    }
   ],
   "source": [
    "logreg.fit(X, Y)"
   ]
  },
  {
   "cell_type": "code",
   "execution_count": 53,
   "metadata": {
    "collapsed": false
   },
   "outputs": [
    {
     "name": "stdout",
     "output_type": "stream",
     "text": [
      "[[ -1.97025744e-02   1.01351096e-01  -2.77545414e-04  -9.20194385e-02\n",
      "   -1.56471269e-02   4.66104285e-02  -2.28757561e+00   1.26341510e-02\n",
      "   -5.48027566e-01  -9.17166213e-01  -1.83087522e-01  -1.22191954e+00]]\n",
      "[-5.1451423]\n"
     ]
    }
   ],
   "source": [
    "print(logreg.coef_)\n",
    "print(logreg.intercept_)"
   ]
  },
  {
   "cell_type": "markdown",
   "metadata": {},
   "source": [
    "### Inspecting Scores of Test Data and Predicting Probability of Test Data"
   ]
  },
  {
   "cell_type": "code",
   "execution_count": 54,
   "metadata": {
    "collapsed": false
   },
   "outputs": [
    {
     "data": {
      "text/plain": [
       "0.99924602578858701"
      ]
     },
     "execution_count": 54,
     "metadata": {},
     "output_type": "execute_result"
    }
   ],
   "source": [
    "logreg.score(X_validation, Y_validation)"
   ]
  },
  {
   "cell_type": "code",
   "execution_count": 55,
   "metadata": {
    "collapsed": false
   },
   "outputs": [
    {
     "data": {
      "text/plain": [
       "array([0, 0, 0, ..., 0, 0, 0], dtype=int64)"
      ]
     },
     "execution_count": 55,
     "metadata": {},
     "output_type": "execute_result"
    }
   ],
   "source": [
    "logreg.predict(X_validation)"
   ]
  },
  {
   "cell_type": "code",
   "execution_count": 56,
   "metadata": {
    "collapsed": false
   },
   "outputs": [
    {
     "name": "stdout",
     "output_type": "stream",
     "text": [
      "0\n"
     ]
    }
   ],
   "source": [
    "narray = logreg.predict(X_validation)\n",
    "print(narray.sum())"
   ]
  },
  {
   "cell_type": "code",
   "execution_count": 57,
   "metadata": {
    "collapsed": false
   },
   "outputs": [
    {
     "data": {
      "text/plain": [
       "array([[  9.99494821e-01,   5.05179247e-04],\n",
       "       [  9.95654178e-01,   4.34582244e-03],\n",
       "       [  9.99371497e-01,   6.28502662e-04],\n",
       "       ..., \n",
       "       [  9.99299703e-01,   7.00296506e-04],\n",
       "       [  9.99440323e-01,   5.59676937e-04],\n",
       "       [  9.99315082e-01,   6.84918025e-04]])"
      ]
     },
     "execution_count": 57,
     "metadata": {},
     "output_type": "execute_result"
    }
   ],
   "source": [
    "logreg.predict_proba(X_validation)"
   ]
  },
  {
   "cell_type": "code",
   "execution_count": 58,
   "metadata": {
    "collapsed": false
   },
   "outputs": [
    {
     "data": {
      "text/plain": [
       "299745"
      ]
     },
     "execution_count": 58,
     "metadata": {},
     "output_type": "execute_result"
    }
   ],
   "source": [
    "len(logreg.predict_proba(X_validation))"
   ]
  },
  {
   "cell_type": "code",
   "execution_count": 59,
   "metadata": {
    "collapsed": false
   },
   "outputs": [
    {
     "data": {
      "text/plain": [
       "array([[  9.99494821e-01,   5.05179247e-04],\n",
       "       [  9.95654178e-01,   4.34582244e-03],\n",
       "       [  9.99371497e-01,   6.28502662e-04],\n",
       "       ..., \n",
       "       [  9.99299703e-01,   7.00296506e-04],\n",
       "       [  9.99440323e-01,   5.59676937e-04],\n",
       "       [  9.99315082e-01,   6.84918025e-04]])"
      ]
     },
     "execution_count": 59,
     "metadata": {},
     "output_type": "execute_result"
    }
   ],
   "source": [
    "probarray = logreg.predict_proba(va_df[[col for col in va_df.columns if col not in ['click', 'payprice', 'bidprice']]])\n",
    "va_df['log_prob'] =probarray[:,1]\n",
    "probarray"
   ]
  },
  {
   "cell_type": "code",
   "execution_count": 60,
   "metadata": {
    "collapsed": false
   },
   "outputs": [
    {
     "name": "stderr",
     "output_type": "stream",
     "text": [
      "E:\\Anaconda3\\lib\\site-packages\\matplotlib\\axes\\_axes.py:531: UserWarning: No labelled objects found. Use label='...' kwarg on individual plots.\n",
      "  warnings.warn(\"No labelled objects found. \"\n"
     ]
    },
    {
     "data": {
      "image/png": "[encoded data removed]",
      "text/plain": [
       "<matplotlib.figure.Figure at 0xb9b2f60>"
      ]
     },
     "metadata": {},
     "output_type": "display_data"
    }
   ],
   "source": [
    "plt.xlabel('Estimated Probability')\n",
    "plt.ylabel('Numbers')\n",
    "va_df['log_prob'].hist()\n",
    "#plt.yscale('log')\n",
    "plt.title(\"Distribution of Estimated Probability(5 Attributes)_Validation\")\n",
    "plt.legend()\n",
    "plt.show()"
   ]
  },
  {
   "cell_type": "code",
   "execution_count": 61,
   "metadata": {
    "collapsed": false
   },
   "outputs": [
    {
     "data": {
      "image/png": "[encoded data removed]",
      "text/plain": [
       "<matplotlib.figure.Figure at 0x6aef8908>"
      ]
     },
     "metadata": {},
     "output_type": "display_data"
    }
   ],
   "source": [
    "va_df_small = va_df[va_df['log_prob'] < 0.001]\n",
    "va_df_small['log_prob'].hist()\n",
    "plt.show()"
   ]
  },
  {
   "cell_type": "code",
   "execution_count": 62,
   "metadata": {
    "collapsed": false
   },
   "outputs": [
    {
     "name": "stdout",
     "output_type": "stream",
     "text": [
      "count    299745.000000\n",
      "mean          0.000755\n",
      "std           0.000774\n",
      "min           0.000383\n",
      "25%           0.000540\n",
      "50%           0.000597\n",
      "75%           0.000655\n",
      "max           0.007259\n",
      "Name: log_prob, dtype: float64\n"
     ]
    }
   ],
   "source": [
    "print(va_df['log_prob'].describe())"
   ]
  },
  {
   "cell_type": "code",
   "execution_count": 63,
   "metadata": {
    "collapsed": false
   },
   "outputs": [],
   "source": [
    "f = interpolate.interp1d( [min(va_df['log_prob']) , max(va_df['log_prob'])], [min(va_df['payprice']), max(va_df['payprice']) ])\n",
    "va_df['estimatedBidPrice'] = va_df['log_prob'].apply(  lambda x: f(x) )"
   ]
  },
  {
   "cell_type": "code",
   "execution_count": 64,
   "metadata": {
    "collapsed": false
   },
   "outputs": [
    {
     "name": "stderr",
     "output_type": "stream",
     "text": [
      "E:\\Anaconda3\\lib\\site-packages\\matplotlib\\axes\\_axes.py:531: UserWarning: No labelled objects found. Use label='...' kwarg on individual plots.\n",
      "  warnings.warn(\"No labelled objects found. \"\n"
     ]
    },
    {
     "data": {
      "image/png": "[encoded data removed]",
      "text/plain": [
       "<matplotlib.figure.Figure at 0x6b0fd898>"
      ]
     },
     "metadata": {},
     "output_type": "display_data"
    }
   ],
   "source": [
    "plt.xlabel('Estimated Bid Price')\n",
    "plt.ylabel('Numbers')\n",
    "va_df['estimatedBidPrice'].hist()\n",
    "#plt.yscale('log')\n",
    "plt.title(\"Distribution of Estimated Bid Price(5 Attributes)_Validation\")\n",
    "plt.legend()\n",
    "plt.show()"
   ]
  },
  {
   "cell_type": "code",
   "execution_count": 65,
   "metadata": {
    "collapsed": false
   },
   "outputs": [
    {
     "name": "stdout",
     "output_type": "stream",
     "text": [
      "count    299745.000000\n",
      "mean         16.227627\n",
      "std          33.773297\n",
      "min           0.000000\n",
      "25%           6.852756\n",
      "50%           9.358019\n",
      "75%          11.867642\n",
      "max         300.000000\n",
      "Name: estimatedBidPrice, dtype: float64\n",
      "variance: 1140.6355694172748\n",
      "skewness: 4.695377162660896\n",
      "kurtosis: 21.65371414737185\n"
     ]
    }
   ],
   "source": [
    "# Information about bid price\n",
    "print(va_df['estimatedBidPrice'].describe())\n",
    "print(\"variance:\", va_df['estimatedBidPrice'].var())\n",
    "print(\"skewness:\", st.skew(va_df['estimatedBidPrice'],bias=False)) \n",
    "print(\"kurtosis:\", st.kurtosis(va_df['estimatedBidPrice'],bias=False)) "
   ]
  },
  {
   "cell_type": "code",
   "execution_count": 66,
   "metadata": {
    "collapsed": false
   },
   "outputs": [
    {
     "name": "stdout",
     "output_type": "stream",
     "text": [
      "count    299745.000000\n",
      "mean         80.217765\n",
      "std          62.365778\n",
      "min           0.000000\n",
      "25%          33.000000\n",
      "50%          70.000000\n",
      "75%         101.000000\n",
      "max         300.000000\n",
      "Name: payprice, dtype: float64\n",
      "variance: 3889.490303729888\n",
      "skewness: 1.2558899702835147\n",
      "kurtosis: 1.0928950971859432\n"
     ]
    }
   ],
   "source": [
    "# Information about pay price\n",
    "print(va_df['payprice'].describe())\n",
    "print(\"variance:\", va_df['payprice'].var())\n",
    "print(\"skewness:\", st.skew(va_df['payprice'],bias=False))\n",
    "print(\"kurtosis:\", st.kurtosis(va_df['payprice'],bias=False))"
   ]
  },
  {
   "cell_type": "code",
   "execution_count": 67,
   "metadata": {
    "collapsed": false
   },
   "outputs": [
    {
     "name": "stderr",
     "output_type": "stream",
     "text": [
      "E:\\Anaconda3\\lib\\site-packages\\matplotlib\\axes\\_axes.py:531: UserWarning: No labelled objects found. Use label='...' kwarg on individual plots.\n",
      "  warnings.warn(\"No labelled objects found. \"\n"
     ]
    },
    {
     "data": {
      "image/png": "[encoded data removed]",
      "text/plain": [
       "<matplotlib.figure.Figure at 0xb6a9a390>"
      ]
     },
     "metadata": {},
     "output_type": "display_data"
    }
   ],
   "source": [
    "plt.xlabel('Probability of Click')\n",
    "plt.ylabel('Numbers')\n",
    "va_df['payprice'].hist()\n",
    "#plt.yscale('log')\n",
    "plt.title(\"Distribution of Probability of Click(5 Attributes)_Validation\")\n",
    "plt.legend()\n",
    "plt.show()"
   ]
  },
  {
   "cell_type": "code",
   "execution_count": 68,
   "metadata": {
    "collapsed": true
   },
   "outputs": [],
   "source": [
    "f = interpolate.interp1d( [min(va_df['log_prob']) , max(va_df['log_prob'])], [min(va_df['payprice']), max(va_df['payprice']) ])\n",
    "va_df['estimatedBidPrice_x2.5'] = va_df['log_prob'].apply(  lambda x: f(x)*2.5 )"
   ]
  },
  {
   "cell_type": "code",
   "execution_count": 69,
   "metadata": {
    "collapsed": false
   },
   "outputs": [
    {
     "name": "stderr",
     "output_type": "stream",
     "text": [
      "E:\\Anaconda3\\lib\\site-packages\\matplotlib\\axes\\_axes.py:531: UserWarning: No labelled objects found. Use label='...' kwarg on individual plots.\n",
      "  warnings.warn(\"No labelled objects found. \"\n"
     ]
    },
    {
     "data": {
      "image/png": "[encoded data removed]",
      "text/plain": [
       "<matplotlib.figure.Figure at 0x6afe8860>"
      ]
     },
     "metadata": {},
     "output_type": "display_data"
    }
   ],
   "source": [
    "plt.xlabel('Estimated Bid Price_x2.5')\n",
    "plt.ylabel('Numbers')\n",
    "va_df['estimatedBidPrice_x2.5'].hist()\n",
    "#plt.yscale('log')\n",
    "plt.title(\"Distribution of Estimated Bid Price(5 Attributes)_Validation\")\n",
    "plt.legend()\n",
    "plt.show()"
   ]
  },
  {
   "cell_type": "markdown",
   "metadata": {},
   "source": [
    "#### Tables"
   ]
  },
  {
   "cell_type": "code",
   "execution_count": 70,
   "metadata": {
    "collapsed": false
   },
   "outputs": [],
   "source": [
    "impression = va_df[va_df['estimatedBidPrice'] > va_df['payprice']]\n",
    "click = impression[impression['click'] == 1 ]\n",
    "\n",
    "impression_x2 = va_df[va_df['estimatedBidPrice_x2.5'] > va_df['payprice']]\n",
    "click_x2 = impression_x2[impression_x2['click'] == 1 ]"
   ]
  },
  {
   "cell_type": "code",
   "execution_count": 71,
   "metadata": {
    "collapsed": true
   },
   "outputs": [],
   "source": [
    "## Deleting 25% from df['estimatedBidPrice_x2.5']\n",
    "impression_d25 = va_df[(va_df['estimatedBidPrice_x2.5'] > va_df['payprice']) & (va_df['log_prob'] > va_df['log_prob'].quantile(0.25) )]\n",
    "click_d25 = impression_d25[impression_d25['click'] == 1 ]"
   ]
  },
  {
   "cell_type": "code",
   "execution_count": 72,
   "metadata": {
    "collapsed": true
   },
   "outputs": [],
   "source": [
    "## Deleting 50% from df['estimatedBidPrice_x2.5']\n",
    "impression_d50 = va_df[(va_df['estimatedBidPrice_x2.5'] > va_df['payprice']) & (va_df['log_prob'] > va_df['log_prob'].quantile(0.5) )]\n",
    "click_d50 = impression_d50[impression_d50['click'] == 1 ]"
   ]
  },
  {
   "cell_type": "code",
   "execution_count": 73,
   "metadata": {
    "collapsed": true
   },
   "outputs": [],
   "source": [
    "f = interpolate.interp1d( [min(va_df['log_prob']) , max(va_df['log_prob'])], [min(va_df['payprice']), max(va_df['payprice']) ])\n",
    "va_df['estimatedBidPrice_x4'] = va_df['log_prob'].apply(  lambda x: f(x)*4 )"
   ]
  },
  {
   "cell_type": "code",
   "execution_count": 74,
   "metadata": {
    "collapsed": false
   },
   "outputs": [],
   "source": [
    "impression_x4 = va_df[va_df['estimatedBidPrice_x4'] > va_df['payprice']]\n",
    "click_x4 = impression_x4[impression_x4['click'] == 1 ]"
   ]
  },
  {
   "cell_type": "code",
   "execution_count": 75,
   "metadata": {
    "collapsed": false
   },
   "outputs": [
    {
     "data": {
      "text/plain": [
       "70.0"
      ]
     },
     "execution_count": 75,
     "metadata": {},
     "output_type": "execute_result"
    }
   ],
   "source": [
    "va_df.click.value_counts()\n",
    "df.payprice.median()"
   ]
  },
  {
   "cell_type": "code",
   "execution_count": 76,
   "metadata": {
    "collapsed": false
   },
   "outputs": [
    {
     "data": {
      "text/plain": [
       "0    2695612\n",
       "1       2034\n",
       "Name: click, dtype: int64"
      ]
     },
     "execution_count": 76,
     "metadata": {},
     "output_type": "execute_result"
    }
   ],
   "source": [
    "df_click1 = df[df['click'] ==1]\n",
    "df.click.value_counts()"
   ]
  },
  {
   "cell_type": "code",
   "execution_count": 77,
   "metadata": {
    "collapsed": false
   },
   "outputs": [
    {
     "data": {
      "text/plain": [
       "84.0"
      ]
     },
     "execution_count": 77,
     "metadata": {},
     "output_type": "execute_result"
    }
   ],
   "source": [
    "df_click1.payprice.median()"
   ]
  },
  {
   "cell_type": "code",
   "execution_count": 78,
   "metadata": {
    "collapsed": false
   },
   "outputs": [],
   "source": [
    "va_df['estimatedBidPrice_linear'] = va_df['log_prob'] * 84 / 2034 * 2697738"
   ]
  },
  {
   "cell_type": "code",
   "execution_count": 79,
   "metadata": {
    "collapsed": false
   },
   "outputs": [],
   "source": [
    "impression_linear = va_df[va_df['estimatedBidPrice_linear'] > va_df['payprice']]\n",
    "click_linear = impression_linear[impression_linear['click'] == 1 ]"
   ]
  },
  {
   "cell_type": "code",
   "execution_count": 80,
   "metadata": {
    "collapsed": true
   },
   "outputs": [],
   "source": [
    "va_df['estimatedBidPrice_linear_70'] = va_df['log_prob'] * 70 / 2034 * 2697738\n",
    "impression_linear_70 = va_df[va_df['estimatedBidPrice_linear_70'] > va_df['payprice']]\n",
    "click_linear_70 = impression_linear_70[impression_linear_70['click'] == 1 ]"
   ]
  },
  {
   "cell_type": "code",
   "execution_count": 81,
   "metadata": {
    "collapsed": false
   },
   "outputs": [
    {
     "name": "stdout",
     "output_type": "stream",
     "text": [
      "+---------------------------+----------+-----+---------------------+\n",
      "|          Variable         |Impression|Click|         CTR         |\n",
      "+---------------------------+----------+-----+---------------------+\n",
      "|     estimatedBidPrice     |  23667   |  41 |0.0017323699666201885|\n",
      "|   estimatedBidPrice_x2.5  |  56362   |  63 |0.0011177743869983322|\n",
      "| estimatedBidPrice_x2.5_d25|  51964   |  63 |0.0012123778000153952|\n",
      "| estimatedBidPrice_x2.5_d50|  42112   |  62 |0.0014722644376899696|\n",
      "|    estimatedBidPrice_x4   |  87890   |  76 |0.0008647172602116282|\n",
      "|  estimatedBidPrice_linear |  161846  | 114 |0.0007043732931305067|\n",
      "|estimatedBidPrice_linear_70|  132991  |  93 |0.0006992954410448827|\n",
      "+---------------------------+----------+-----+---------------------+\n"
     ]
    }
   ],
   "source": [
    "x = PrettyTable([\"Variable\", \"Impression\", 'Click', 'CTR'])\n",
    "x.align[\"Impression\"] = \"1\" # Left align city names \n",
    "x.padding_width = 0 # One space between column edges and contents (default)\n",
    "\n",
    "x.add_row([\"estimatedBidPrice\", impression.shape[0], \\\n",
    "           click.shape[0], \\\n",
    "           click.shape[0]/impression.shape[0]])\n",
    "\n",
    "x.add_row([\"estimatedBidPrice_x2.5\", impression_x2.shape[0], \\\n",
    "           click_x2.shape[0], \\\n",
    "           click_x2.shape[0]/impression_x2.shape[0]])\n",
    "\n",
    "x.add_row([\"estimatedBidPrice_x2.5_d25\", impression_d25.shape[0], \\\n",
    "           click_d25.shape[0], \\\n",
    "           click_d25.shape[0]/impression_d25.shape[0]])\n",
    "\n",
    "x.add_row([\"estimatedBidPrice_x2.5_d50\", impression_d50.shape[0], \\\n",
    "           click_d50.shape[0], \\\n",
    "           click_d50.shape[0]/impression_d50.shape[0]])\n",
    "\n",
    "x.add_row([\"estimatedBidPrice_x4\", impression_x4.shape[0], \\\n",
    "           click_x4.shape[0], \\\n",
    "           click_x4.shape[0]/impression_x4.shape[0]])\n",
    "\n",
    "x.add_row([\"estimatedBidPrice_linear\", impression_linear.shape[0], \\\n",
    "           click_linear.shape[0], \\\n",
    "           click_linear.shape[0]/impression_linear.shape[0]])\n",
    "\n",
    "x.add_row([\"estimatedBidPrice_linear_70\", impression_linear_70.shape[0], \\\n",
    "           click_linear_70.shape[0], \\\n",
    "           click_linear_70.shape[0]/impression_linear_70.shape[0]])\n",
    "\n",
    "print(x)"
   ]
  },
  {
   "cell_type": "code",
   "execution_count": 83,
   "metadata": {
    "collapsed": false
   },
   "outputs": [
    {
     "name": "stdout",
     "output_type": "stream",
     "text": [
      "+----------------------------+----------+-----+---------------------+\n",
      "|          Variable          |Impression|Click|         CTR         |\n",
      "+----------------------------+----------+-----+---------------------+\n",
      "| estimatedBidPrice_x2.5_d65 |  34439   |  61 |0.0017712477133482389|\n",
      "| estimatedBidPrice_x2.5_d70 |  30642   |  61 |0.0019907316754781018|\n",
      "|estimatedBidPrice_x2.5_d71_5|  29578   |  61 | 0.002062343633781865|\n",
      "| estimatedBidPrice_x2.5_d75 |  27238   |  61 | 0.002239518319994126|\n",
      "+----------------------------+----------+-----+---------------------+\n"
     ]
    }
   ],
   "source": [
    "impression_d65 = va_df[(va_df['estimatedBidPrice_x2.5'] > va_df['payprice']) & (va_df['log_prob'] > va_df['log_prob'].quantile(0.65) )]\n",
    "click_d65 = impression_d65[impression_d65['click'] == 1 ]\n",
    "\n",
    "impression_d70 = va_df[(va_df['estimatedBidPrice_x2.5'] > va_df['payprice']) & (va_df['log_prob'] > va_df['log_prob'].quantile(0.7) )]\n",
    "click_d70 = impression_d70[impression_d70['click'] == 1 ]\n",
    "\n",
    "impression_d71_5 = va_df[(va_df['estimatedBidPrice_x2.5'] > va_df['payprice']) & (va_df['log_prob'] > va_df['log_prob'].quantile(0.715) )]\n",
    "click_d71_5 = impression_d71_5[impression_d71_5['click'] == 1 ]\n",
    "\n",
    "impression_d75 = va_df[(va_df['estimatedBidPrice_x2.5'] > va_df['payprice']) & (va_df['log_prob'] > va_df['log_prob'].quantile(0.75) )]\n",
    "click_d75 = impression_d75[impression_d75['click'] == 1 ]\n",
    "\n",
    "y = PrettyTable([\"Variable\", \"Impression\", 'Click', 'CTR'])\n",
    "y.align[\"Impression\"] = \"1\" # Left align city names \n",
    "y.padding_width = 0 # One space between column edges and contents (default)\n",
    "\n",
    "y.add_row([\"estimatedBidPrice_x2.5_d65\", impression_d65.shape[0], \\\n",
    "           click_d65.shape[0], \\\n",
    "           click_d65.shape[0]/impression_d65.shape[0]])\n",
    "\n",
    "y.add_row([\"estimatedBidPrice_x2.5_d70\", impression_d70.shape[0], \\\n",
    "           click_d70.shape[0], \\\n",
    "           click_d70.shape[0]/impression_d70.shape[0]])\n",
    "\n",
    "y.add_row([\"estimatedBidPrice_x2.5_d71_5\", impression_d71_5.shape[0], \\\n",
    "           click_d71_5.shape[0], \\\n",
    "           click_d71_5.shape[0]/impression_d71_5.shape[0]])\n",
    "\n",
    "y.add_row([\"estimatedBidPrice_x2.5_d75\", impression_d75.shape[0], \\\n",
    "           click_d75.shape[0], \\\n",
    "           click_d75.shape[0]/impression_d75.shape[0]])\n",
    "\n",
    "print(y)"
   ]
  },
  {
   "cell_type": "code",
   "execution_count": 84,
   "metadata": {
    "collapsed": false
   },
   "outputs": [
    {
     "name": "stdout",
     "output_type": "stream",
     "text": [
      "+-------------------------+----------+-----+---------------------+\n",
      "|         Variable        |Impression|Click|         CTR         |\n",
      "+-------------------------+----------+-----+---------------------+\n",
      "|estimatedBidPrice_linear2|  134349  | 107 |0.0007964331703250489|\n",
      "+-------------------------+----------+-----+---------------------+\n"
     ]
    }
   ],
   "source": [
    "log_prob_list = va_df['log_prob'].tolist()\n",
    "va_df.log_prob.describe()\n",
    "for i in range(len(log_prob_list)):\n",
    "    if log_prob_list[i] > 0.000637:\n",
    "    # if log_prob_list[i] > va_df.log_prob.quantile(0.75): \n",
    "        log_prob_list[i] *= 5\n",
    "    elif 0.000637> log_prob_list[i] > 0.000593  :\n",
    "    # elif log_prob_list[i] > va_df.log_prob.quantile(0.5):\n",
    "        log_prob_list[i] *=4.1\n",
    "        \n",
    "    elif 0.000593> log_prob_list[i] > 0.000551  :\n",
    "    # elif log_prob_list[i] > va_df.log_prob.quantile(0.25):\n",
    "        log_prob_list[i] *=0.1\n",
    "        \n",
    "    elif 0.000551> log_prob_list[i] > 0.000437  :\n",
    "    # elif log_prob_list[i] > va_df.log_prob.quantile(0):\n",
    "        log_prob_list[i] *=0.01 \n",
    "        \n",
    "va_df['estimatedBidPrice_linear2'] = pd.DataFrame(log_prob_list) * 84 / 2034 * 2697738\n",
    "impression_linear2 = va_df[(va_df['estimatedBidPrice_linear2'] > va_df['payprice']) & (va_df['log_prob'] > va_df['log_prob'].quantile(0.15) )]\n",
    "click_linear2 = impression_linear2[impression_linear2['click'] == 1 ]        \n",
    "               \n",
    "z = PrettyTable([\"Variable\", \"Impression\", 'Click', 'CTR'])\n",
    "z.align[\"Impression\"] = \"1\" # Left align city names \n",
    "z.padding_width = 0 # One space between column edges and contents (default)\n",
    "\n",
    "z.add_row([\"estimatedBidPrice_linear2\", impression_linear2.shape[0], \\\n",
    "           click_linear2.shape[0], \\\n",
    "           click_linear2.shape[0]/impression_linear2.shape[0]])\n",
    "\n",
    "print(z)"
   ]
  },
  {
   "cell_type": "code",
   "execution_count": 86,
   "metadata": {
    "collapsed": false
   },
   "outputs": [],
   "source": [
    "pd.DataFrame(narray).to_csv('narray.csv', encoding='utf-8')\n",
    "pd.DataFrame(probarray).to_csv('probarray.csv', encoding='utf-8')"
   ]
  },
  {
   "cell_type": "code",
   "execution_count": null,
   "metadata": {
    "collapsed": true
   },
   "outputs": [],
   "source": []
  },
  {
   "cell_type": "markdown",
   "metadata": {},
   "source": [
    "## Training Logistic Regression (linear_model.LogisticRegressionCV)"
   ]
  },
  {
   "cell_type": "code",
   "execution_count": 104,
   "metadata": {
    "collapsed": true
   },
   "outputs": [],
   "source": [
    "# Defining X and Y\n",
    "X = df[[col for col in df.columns if col not in ['click', 'payprice', 'bidprice']]]\n",
    "Y = df['click']"
   ]
  },
  {
   "cell_type": "code",
   "execution_count": 105,
   "metadata": {
    "collapsed": true
   },
   "outputs": [],
   "source": [
    "# Training the model\n",
    "logregCV = linear_model.LogisticRegressionCV()"
   ]
  },
  {
   "cell_type": "code",
   "execution_count": 106,
   "metadata": {
    "collapsed": false
   },
   "outputs": [
    {
     "data": {
      "text/plain": [
       "LogisticRegressionCV(Cs=10, class_weight=None, cv=None, dual=False,\n",
       "           fit_intercept=True, intercept_scaling=1.0, max_iter=100,\n",
       "           multi_class='ovr', n_jobs=1, penalty='l2', random_state=None,\n",
       "           refit=True, scoring=None, solver='lbfgs', tol=0.0001, verbose=0)"
      ]
     },
     "execution_count": 106,
     "metadata": {},
     "output_type": "execute_result"
    }
   ],
   "source": [
    "logregCV.fit(X, Y)"
   ]
  },
  {
   "cell_type": "code",
   "execution_count": 107,
   "metadata": {
    "collapsed": false
   },
   "outputs": [
    {
     "data": {
      "text/plain": [
       "0.99924602578858701"
      ]
     },
     "execution_count": 107,
     "metadata": {},
     "output_type": "execute_result"
    }
   ],
   "source": [
    "logregCV.score(X_validation, Y_validation)"
   ]
  },
  {
   "cell_type": "code",
   "execution_count": 108,
   "metadata": {
    "collapsed": false
   },
   "outputs": [
    {
     "data": {
      "text/plain": [
       "array([[  9.99259036e-01,   7.40963648e-04],\n",
       "       [  9.99129739e-01,   8.70261119e-04],\n",
       "       [  9.99296971e-01,   7.03029271e-04],\n",
       "       ..., \n",
       "       [  9.99248217e-01,   7.51782597e-04],\n",
       "       [  9.99275947e-01,   7.24053228e-04],\n",
       "       [  9.99226786e-01,   7.73213858e-04]])"
      ]
     },
     "execution_count": 108,
     "metadata": {},
     "output_type": "execute_result"
    }
   ],
   "source": [
    "logregCV.predict_proba(X_validation)"
   ]
  },
  {
   "cell_type": "code",
   "execution_count": null,
   "metadata": {
    "collapsed": true
   },
   "outputs": [],
   "source": [
    "va_df.drop(['log_prob', 'estimatedBidPrice', 'estimatedBidPrice_x2.5', 'estimatedBidPrice_x4', \\\n",
    "            'estimatedBidPrice_linear', 'estimatedBidPrice_linear_70', 'estimatedBidPrice_linear2'], axis=1, inplace=True)"
   ]
  },
  {
   "cell_type": "code",
   "execution_count": 115,
   "metadata": {
    "collapsed": false
   },
   "outputs": [
    {
     "data": {
      "text/html": [
       "<div>\n",
       "<table border=\"1\" class=\"dataframe\">\n",
       "  <thead>\n",
       "    <tr style=\"text-align: right;\">\n",
       "      <th></th>\n",
       "      <th>click</th>\n",
       "      <th>weekday</th>\n",
       "      <th>hour</th>\n",
       "      <th>region</th>\n",
       "      <th>payprice</th>\n",
       "      <th>bidprice</th>\n",
       "      <th>slotformat</th>\n",
       "      <th>advertiser</th>\n",
       "      <th>slotsize</th>\n",
       "      <th>agent_windows</th>\n",
       "      <th>agent_android</th>\n",
       "      <th>agent_mac</th>\n",
       "      <th>agent_linux</th>\n",
       "      <th>agent_ios</th>\n",
       "      <th>agent_other</th>\n",
       "    </tr>\n",
       "  </thead>\n",
       "  <tbody>\n",
       "    <tr>\n",
       "      <th>0</th>\n",
       "      <td>0</td>\n",
       "      <td>5</td>\n",
       "      <td>1</td>\n",
       "      <td>19</td>\n",
       "      <td>102</td>\n",
       "      <td>227</td>\n",
       "      <td>1</td>\n",
       "      <td>7</td>\n",
       "      <td>1</td>\n",
       "      <td>1</td>\n",
       "      <td>0</td>\n",
       "      <td>0</td>\n",
       "      <td>0</td>\n",
       "      <td>0</td>\n",
       "      <td>0</td>\n",
       "    </tr>\n",
       "    <tr>\n",
       "      <th>1</th>\n",
       "      <td>0</td>\n",
       "      <td>3</td>\n",
       "      <td>1</td>\n",
       "      <td>19</td>\n",
       "      <td>118</td>\n",
       "      <td>277</td>\n",
       "      <td>3</td>\n",
       "      <td>4</td>\n",
       "      <td>0</td>\n",
       "      <td>0</td>\n",
       "      <td>1</td>\n",
       "      <td>0</td>\n",
       "      <td>0</td>\n",
       "      <td>0</td>\n",
       "      <td>0</td>\n",
       "    </tr>\n",
       "    <tr>\n",
       "      <th>2</th>\n",
       "      <td>0</td>\n",
       "      <td>1</td>\n",
       "      <td>1</td>\n",
       "      <td>15</td>\n",
       "      <td>77</td>\n",
       "      <td>241</td>\n",
       "      <td>0</td>\n",
       "      <td>7</td>\n",
       "      <td>2</td>\n",
       "      <td>1</td>\n",
       "      <td>0</td>\n",
       "      <td>0</td>\n",
       "      <td>0</td>\n",
       "      <td>0</td>\n",
       "      <td>0</td>\n",
       "    </tr>\n",
       "    <tr>\n",
       "      <th>3</th>\n",
       "      <td>0</td>\n",
       "      <td>5</td>\n",
       "      <td>2</td>\n",
       "      <td>15</td>\n",
       "      <td>77</td>\n",
       "      <td>241</td>\n",
       "      <td>0</td>\n",
       "      <td>7</td>\n",
       "      <td>2</td>\n",
       "      <td>1</td>\n",
       "      <td>0</td>\n",
       "      <td>0</td>\n",
       "      <td>0</td>\n",
       "      <td>0</td>\n",
       "      <td>0</td>\n",
       "    </tr>\n",
       "    <tr>\n",
       "      <th>4</th>\n",
       "      <td>0</td>\n",
       "      <td>5</td>\n",
       "      <td>1</td>\n",
       "      <td>22</td>\n",
       "      <td>178</td>\n",
       "      <td>300</td>\n",
       "      <td>0</td>\n",
       "      <td>6</td>\n",
       "      <td>2</td>\n",
       "      <td>1</td>\n",
       "      <td>0</td>\n",
       "      <td>0</td>\n",
       "      <td>0</td>\n",
       "      <td>0</td>\n",
       "      <td>0</td>\n",
       "    </tr>\n",
       "  </tbody>\n",
       "</table>\n",
       "</div>"
      ],
      "text/plain": [
       "   click  weekday  hour  region  payprice  bidprice  slotformat  advertiser  \\\n",
       "0      0        5     1      19       102       227           1           7   \n",
       "1      0        3     1      19       118       277           3           4   \n",
       "2      0        1     1      15        77       241           0           7   \n",
       "3      0        5     2      15        77       241           0           7   \n",
       "4      0        5     1      22       178       300           0           6   \n",
       "\n",
       "   slotsize  agent_windows  agent_android  agent_mac  agent_linux  agent_ios  \\\n",
       "0         1              1              0          0            0          0   \n",
       "1         0              0              1          0            0          0   \n",
       "2         2              1              0          0            0          0   \n",
       "3         2              1              0          0            0          0   \n",
       "4         2              1              0          0            0          0   \n",
       "\n",
       "   agent_other  \n",
       "0            0  \n",
       "1            0  \n",
       "2            0  \n",
       "3            0  \n",
       "4            0  "
      ]
     },
     "execution_count": 115,
     "metadata": {},
     "output_type": "execute_result"
    }
   ],
   "source": [
    "va_df.head()"
   ]
  },
  {
   "cell_type": "code",
   "execution_count": 116,
   "metadata": {
    "collapsed": false
   },
   "outputs": [
    {
     "data": {
      "text/plain": [
       "array([[  9.99259036e-01,   7.40963648e-04],\n",
       "       [  9.99129739e-01,   8.70261119e-04],\n",
       "       [  9.99296971e-01,   7.03029271e-04],\n",
       "       ..., \n",
       "       [  9.99248217e-01,   7.51782597e-04],\n",
       "       [  9.99275947e-01,   7.24053228e-04],\n",
       "       [  9.99226786e-01,   7.73213858e-04]])"
      ]
     },
     "execution_count": 116,
     "metadata": {},
     "output_type": "execute_result"
    }
   ],
   "source": [
    "probarray = logregCV.predict_proba(va_df[[col for col in va_df.columns if col not in ['click', 'payprice', 'bidprice']]])\n",
    "va_df['log_prob'] =probarray[:,1]\n",
    "probarray"
   ]
  },
  {
   "cell_type": "code",
   "execution_count": 117,
   "metadata": {
    "collapsed": false
   },
   "outputs": [
    {
     "name": "stderr",
     "output_type": "stream",
     "text": [
      "E:\\Anaconda3\\lib\\site-packages\\matplotlib\\axes\\_axes.py:531: UserWarning: No labelled objects found. Use label='...' kwarg on individual plots.\n",
      "  warnings.warn(\"No labelled objects found. \"\n"
     ]
    },
    {
     "data": {
      "image/png": "[encoded data removed]",
      "text/plain": [
       "<matplotlib.figure.Figure at 0xe8bfd470>"
      ]
     },
     "metadata": {},
     "output_type": "display_data"
    }
   ],
   "source": [
    "plt.xlabel('Estimated Probability')\n",
    "plt.ylabel('Numbers')\n",
    "va_df['log_prob'].hist()\n",
    "#plt.yscale('log')\n",
    "plt.title(\"Distribution of Estimated Probability(5 Attributes)_Validation_LogRegCV\")\n",
    "plt.legend()\n",
    "plt.show()"
   ]
  },
  {
   "cell_type": "code",
   "execution_count": 118,
   "metadata": {
    "collapsed": false
   },
   "outputs": [
    {
     "name": "stdout",
     "output_type": "stream",
     "text": [
      "count    299745.000000\n",
      "mean          0.000754\n",
      "std           0.000042\n",
      "min           0.000660\n",
      "25%           0.000724\n",
      "50%           0.000745\n",
      "75%           0.000777\n",
      "max           0.000934\n",
      "Name: log_prob, dtype: float64\n"
     ]
    },
    {
     "name": "stderr",
     "output_type": "stream",
     "text": [
      "E:\\Anaconda3\\lib\\site-packages\\matplotlib\\axes\\_axes.py:531: UserWarning: No labelled objects found. Use label='...' kwarg on individual plots.\n",
      "  warnings.warn(\"No labelled objects found. \"\n"
     ]
    },
    {
     "data": {
      "image/png": "[encoded data removed]",
      "text/plain": [
       "<matplotlib.figure.Figure at 0xe9c74940>"
      ]
     },
     "metadata": {},
     "output_type": "display_data"
    }
   ],
   "source": [
    "print(va_df['log_prob'].describe())\n",
    "f = interpolate.interp1d( [min(va_df['log_prob']) , max(va_df['log_prob'])], [min(va_df['payprice']), max(va_df['payprice']) ])\n",
    "va_df['estimatedBidPrice'] = va_df['log_prob'].apply(  lambda x: f(x) )\n",
    "plt.xlabel('Estimated Bid Price')\n",
    "plt.ylabel('Numbers')\n",
    "va_df['estimatedBidPrice'].hist()\n",
    "#plt.yscale('log')\n",
    "plt.title(\"Distribution of Estimated Bid Price(5 Attributes)_Validation_LogRegCV\")\n",
    "plt.legend()\n",
    "plt.show()"
   ]
  },
  {
   "cell_type": "code",
   "execution_count": 119,
   "metadata": {
    "collapsed": false
   },
   "outputs": [
    {
     "name": "stdout",
     "output_type": "stream",
     "text": [
      "count    299745.000000\n",
      "mean        102.502388\n",
      "std          45.924101\n",
      "min           0.000000\n",
      "25%          69.667670\n",
      "50%          92.574490\n",
      "75%         127.800943\n",
      "max         300.000000\n",
      "Name: estimatedBidPrice, dtype: float64\n",
      "variance: 2109.023060832879\n",
      "skewness: 1.0100074307342612\n",
      "kurtosis: 1.13449542803051\n"
     ]
    }
   ],
   "source": [
    "# Information about bid price\n",
    "print(va_df['estimatedBidPrice'].describe())\n",
    "print(\"variance:\", va_df['estimatedBidPrice'].var())\n",
    "print(\"skewness:\", st.skew(va_df['estimatedBidPrice'],bias=False)) \n",
    "print(\"kurtosis:\", st.kurtosis(va_df['estimatedBidPrice'],bias=False)) "
   ]
  },
  {
   "cell_type": "code",
   "execution_count": 120,
   "metadata": {
    "collapsed": false
   },
   "outputs": [
    {
     "name": "stdout",
     "output_type": "stream",
     "text": [
      "count    299745.000000\n",
      "mean         80.217765\n",
      "std          62.365778\n",
      "min           0.000000\n",
      "25%          33.000000\n",
      "50%          70.000000\n",
      "75%         101.000000\n",
      "max         300.000000\n",
      "Name: payprice, dtype: float64\n",
      "variance: 3889.490303729888\n",
      "skewness: 1.2558899702835147\n",
      "kurtosis: 1.0928950971859432\n"
     ]
    }
   ],
   "source": [
    "# Information about pay price\n",
    "print(va_df['payprice'].describe())\n",
    "print(\"variance:\", va_df['payprice'].var())\n",
    "print(\"skewness:\", st.skew(va_df['payprice'],bias=False))\n",
    "print(\"kurtosis:\", st.kurtosis(va_df['payprice'],bias=False))"
   ]
  },
  {
   "cell_type": "code",
   "execution_count": 121,
   "metadata": {
    "collapsed": false
   },
   "outputs": [
    {
     "name": "stderr",
     "output_type": "stream",
     "text": [
      "E:\\Anaconda3\\lib\\site-packages\\matplotlib\\axes\\_axes.py:531: UserWarning: No labelled objects found. Use label='...' kwarg on individual plots.\n",
      "  warnings.warn(\"No labelled objects found. \"\n"
     ]
    },
    {
     "data": {
      "image/png": "[encoded data removed]",
      "text/plain": [
       "<matplotlib.figure.Figure at 0xe9c74f98>"
      ]
     },
     "metadata": {},
     "output_type": "display_data"
    }
   ],
   "source": [
    "plt.xlabel('Probability of Click')\n",
    "plt.ylabel('Numbers')\n",
    "va_df['payprice'].hist()\n",
    "#plt.yscale('log')\n",
    "plt.title(\"Distribution of Probability of Click(5 Attributes)_Validation_LogRegCV\")\n",
    "plt.legend()\n",
    "plt.show()"
   ]
  },
  {
   "cell_type": "code",
   "execution_count": 122,
   "metadata": {
    "collapsed": false
   },
   "outputs": [],
   "source": [
    "f = interpolate.interp1d( [min(va_df['log_prob']) , max(va_df['log_prob'])], [min(va_df['payprice']), max(va_df['payprice']) ])\n",
    "va_df['estimatedBidPrice_x2.5'] = va_df['log_prob'].apply(  lambda x: f(x)*2.5 )"
   ]
  },
  {
   "cell_type": "code",
   "execution_count": 123,
   "metadata": {
    "collapsed": false
   },
   "outputs": [
    {
     "name": "stderr",
     "output_type": "stream",
     "text": [
      "E:\\Anaconda3\\lib\\site-packages\\matplotlib\\axes\\_axes.py:531: UserWarning: No labelled objects found. Use label='...' kwarg on individual plots.\n",
      "  warnings.warn(\"No labelled objects found. \"\n"
     ]
    },
    {
     "data": {
      "image/png": "[encoded data removed]",
      "text/plain": [
       "<matplotlib.figure.Figure at 0x6b5f41d0>"
      ]
     },
     "metadata": {},
     "output_type": "display_data"
    }
   ],
   "source": [
    "plt.xlabel('Estimated Bid Price_x2.5')\n",
    "plt.ylabel('Numbers')\n",
    "va_df['estimatedBidPrice_x2.5'].hist()\n",
    "#plt.yscale('log')\n",
    "plt.title(\"Distribution of Estimated Bid Price(5 Attributes)_Validation_LogRegCV\")\n",
    "plt.legend()\n",
    "plt.show()"
   ]
  },
  {
   "cell_type": "markdown",
   "metadata": {},
   "source": [
    "### Tables"
   ]
  },
  {
   "cell_type": "code",
   "execution_count": 124,
   "metadata": {
    "collapsed": false
   },
   "outputs": [],
   "source": [
    "impression = va_df[va_df['estimatedBidPrice'] > va_df['payprice']]\n",
    "click = impression[impression['click'] == 1 ]\n",
    "\n",
    "impression_x2 = va_df[va_df['estimatedBidPrice_x2.5'] > va_df['payprice']]\n",
    "click_x2 = impression_x2[impression_x2['click'] == 1 ]\n",
    "\n",
    "## Deleting 25% from df['estimatedBidPrice_x2.5']\n",
    "impression_d25 = va_df[(va_df['estimatedBidPrice_x2.5'] > va_df['payprice']) & (va_df['log_prob'] > va_df['log_prob'].quantile(0.25) )]\n",
    "click_d25 = impression_d25[impression_d25['click'] == 1 ]\n",
    "\n",
    "## Deleting 50% from df['estimatedBidPrice_x2.5']\n",
    "impression_d50 = va_df[(va_df['estimatedBidPrice_x2.5'] > va_df['payprice']) & (va_df['log_prob'] > va_df['log_prob'].quantile(0.5) )]\n",
    "click_d50 = impression_d50[impression_d50['click'] == 1 ]\n",
    "\n",
    "f = interpolate.interp1d( [min(va_df['log_prob']) , max(va_df['log_prob'])], [min(va_df['payprice']), max(va_df['payprice']) ])\n",
    "va_df['estimatedBidPrice_x4'] = va_df['log_prob'].apply(  lambda x: f(x)*4 )\n",
    "\n",
    "impression_x4 = va_df[va_df['estimatedBidPrice_x4'] > va_df['payprice']]\n",
    "click_x4 = impression_x4[impression_x4['click'] == 1 ]\n",
    "\n",
    "va_df['estimatedBidPrice_linear'] = va_df['log_prob'] * 84 / 2034 * 2697738\n",
    "\n",
    "impression_linear = va_df[va_df['estimatedBidPrice_linear'] > va_df['payprice']]\n",
    "click_linear = impression_linear[impression_linear['click'] == 1 ]\n",
    "\n",
    "va_df['estimatedBidPrice_linear_70'] = va_df['log_prob'] * 70 / 2034 * 2697738\n",
    "impression_linear_70 = va_df[va_df['estimatedBidPrice_linear_70'] > va_df['payprice']]\n",
    "click_linear_70 = impression_linear_70[impression_linear_70['click'] == 1 ]"
   ]
  },
  {
   "cell_type": "code",
   "execution_count": 125,
   "metadata": {
    "collapsed": false,
    "scrolled": true
   },
   "outputs": [
    {
     "name": "stdout",
     "output_type": "stream",
     "text": [
      "+---------------------------+----------+-----+---------------------+\n",
      "|          Variable         |Impression|Click|         CTR         |\n",
      "+---------------------------+----------+-----+---------------------+\n",
      "|     estimatedBidPrice     |  194600  | 130 |0.0006680369989722507|\n",
      "|   estimatedBidPrice_x2.5  |  284933  | 212 |0.0007440345625111868|\n",
      "| estimatedBidPrice_x2.5_d25|  219263  | 170 |0.0007753246101713467|\n",
      "| estimatedBidPrice_x2.5_d50|  148842  | 142 |0.0009540317921016917|\n",
      "|    estimatedBidPrice_x4   |  297458  | 225 |0.0007564093082048558|\n",
      "|  estimatedBidPrice_linear |  198901  | 105 |0.0005279008149783057|\n",
      "|estimatedBidPrice_linear_70|  154900  |  63 |0.0004067140090380891|\n",
      "+---------------------------+----------+-----+---------------------+\n"
     ]
    }
   ],
   "source": [
    "x = PrettyTable([\"Variable\", \"Impression\", 'Click', 'CTR'])\n",
    "x.align[\"Impression\"] = \"1\" # Left align city names \n",
    "x.padding_width = 0 # One space between column edges and contents (default)\n",
    "\n",
    "x.add_row([\"estimatedBidPrice\", impression.shape[0], \\\n",
    "           click.shape[0], \\\n",
    "           click.shape[0]/impression.shape[0]])\n",
    "\n",
    "x.add_row([\"estimatedBidPrice_x2.5\", impression_x2.shape[0], \\\n",
    "           click_x2.shape[0], \\\n",
    "           click_x2.shape[0]/impression_x2.shape[0]])\n",
    "\n",
    "x.add_row([\"estimatedBidPrice_x2.5_d25\", impression_d25.shape[0], \\\n",
    "           click_d25.shape[0], \\\n",
    "           click_d25.shape[0]/impression_d25.shape[0]])\n",
    "\n",
    "x.add_row([\"estimatedBidPrice_x2.5_d50\", impression_d50.shape[0], \\\n",
    "           click_d50.shape[0], \\\n",
    "           click_d50.shape[0]/impression_d50.shape[0]])\n",
    "\n",
    "x.add_row([\"estimatedBidPrice_x4\", impression_x4.shape[0], \\\n",
    "           click_x4.shape[0], \\\n",
    "           click_x4.shape[0]/impression_x4.shape[0]])\n",
    "\n",
    "x.add_row([\"estimatedBidPrice_linear\", impression_linear.shape[0], \\\n",
    "           click_linear.shape[0], \\\n",
    "           click_linear.shape[0]/impression_linear.shape[0]])\n",
    "\n",
    "x.add_row([\"estimatedBidPrice_linear_70\", impression_linear_70.shape[0], \\\n",
    "           click_linear_70.shape[0], \\\n",
    "           click_linear_70.shape[0]/impression_linear_70.shape[0]])\n",
    "\n",
    "print(x)"
   ]
  },
  {
   "cell_type": "code",
   "execution_count": 126,
   "metadata": {
    "collapsed": false
   },
   "outputs": [
    {
     "name": "stdout",
     "output_type": "stream",
     "text": [
      "+----------------------------+----------+-----+---------------------+\n",
      "|          Variable          |Impression|Click|         CTR         |\n",
      "+----------------------------+----------+-----+---------------------+\n",
      "| estimatedBidPrice_x2.5_d65 |  104712  | 117 |0.0011173504469401787|\n",
      "| estimatedBidPrice_x2.5_d70 |  89918   | 109 |0.0012122155741898174|\n",
      "|estimatedBidPrice_x2.5_d71_5|  85413   | 105 |0.0012293210635383372|\n",
      "| estimatedBidPrice_x2.5_d75 |  74935   |  93 |0.0012410755988523387|\n",
      "+----------------------------+----------+-----+---------------------+\n"
     ]
    }
   ],
   "source": [
    "impression_d65 = va_df[(va_df['estimatedBidPrice_x2.5'] > va_df['payprice']) & (va_df['log_prob'] > va_df['log_prob'].quantile(0.65) )]\n",
    "click_d65 = impression_d65[impression_d65['click'] == 1 ]\n",
    "\n",
    "impression_d70 = va_df[(va_df['estimatedBidPrice_x2.5'] > va_df['payprice']) & (va_df['log_prob'] > va_df['log_prob'].quantile(0.7) )]\n",
    "click_d70 = impression_d70[impression_d70['click'] == 1 ]\n",
    "\n",
    "impression_d71_5 = va_df[(va_df['estimatedBidPrice_x2.5'] > va_df['payprice']) & (va_df['log_prob'] > va_df['log_prob'].quantile(0.715) )]\n",
    "click_d71_5 = impression_d71_5[impression_d71_5['click'] == 1 ]\n",
    "\n",
    "impression_d75 = va_df[(va_df['estimatedBidPrice_x2.5'] > va_df['payprice']) & (va_df['log_prob'] > va_df['log_prob'].quantile(0.75) )]\n",
    "click_d75 = impression_d75[impression_d75['click'] == 1 ]\n",
    "\n",
    "y = PrettyTable([\"Variable\", \"Impression\", 'Click', 'CTR'])\n",
    "y.align[\"Impression\"] = \"1\" # Left align city names \n",
    "y.padding_width = 0 # One space between column edges and contents (default)\n",
    "\n",
    "y.add_row([\"estimatedBidPrice_x2.5_d65\", impression_d65.shape[0], \\\n",
    "           click_d65.shape[0], \\\n",
    "           click_d65.shape[0]/impression_d65.shape[0]])\n",
    "\n",
    "y.add_row([\"estimatedBidPrice_x2.5_d70\", impression_d70.shape[0], \\\n",
    "           click_d70.shape[0], \\\n",
    "           click_d70.shape[0]/impression_d70.shape[0]])\n",
    "\n",
    "y.add_row([\"estimatedBidPrice_x2.5_d71_5\", impression_d71_5.shape[0], \\\n",
    "           click_d71_5.shape[0], \\\n",
    "           click_d71_5.shape[0]/impression_d71_5.shape[0]])\n",
    "\n",
    "y.add_row([\"estimatedBidPrice_x2.5_d75\", impression_d75.shape[0], \\\n",
    "           click_d75.shape[0], \\\n",
    "           click_d75.shape[0]/impression_d75.shape[0]])\n",
    "\n",
    "print(y)"
   ]
  },
  {
   "cell_type": "markdown",
   "metadata": {},
   "source": [
    "## Training Logistic Regression (linear_model.SGDClassifier(loss='log'))"
   ]
  },
  {
   "cell_type": "code",
   "execution_count": 127,
   "metadata": {
    "collapsed": true
   },
   "outputs": [],
   "source": [
    "# Defining X and Y\n",
    "X = df[[col for col in df.columns if col not in ['click', 'payprice', 'bidprice']]]\n",
    "Y = df['click']"
   ]
  },
  {
   "cell_type": "code",
   "execution_count": 128,
   "metadata": {
    "collapsed": true
   },
   "outputs": [],
   "source": [
    "# Training the model\n",
    "SGDlog = linear_model.SGDClassifier(loss='log')"
   ]
  },
  {
   "cell_type": "code",
   "execution_count": 129,
   "metadata": {
    "collapsed": false
   },
   "outputs": [
    {
     "data": {
      "text/plain": [
       "SGDClassifier(alpha=0.0001, average=False, class_weight=None, epsilon=0.1,\n",
       "       eta0=0.0, fit_intercept=True, l1_ratio=0.15,\n",
       "       learning_rate='optimal', loss='log', n_iter=5, n_jobs=1,\n",
       "       penalty='l2', power_t=0.5, random_state=None, shuffle=True,\n",
       "       verbose=0, warm_start=False)"
      ]
     },
     "execution_count": 129,
     "metadata": {},
     "output_type": "execute_result"
    }
   ],
   "source": [
    "SGDlog.fit(X, Y)"
   ]
  },
  {
   "cell_type": "code",
   "execution_count": 130,
   "metadata": {
    "collapsed": false
   },
   "outputs": [
    {
     "data": {
      "text/plain": [
       "0.99924602578858701"
      ]
     },
     "execution_count": 130,
     "metadata": {},
     "output_type": "execute_result"
    }
   ],
   "source": [
    "SGDlog.score(X_validation, Y_validation)"
   ]
  },
  {
   "cell_type": "code",
   "execution_count": 131,
   "metadata": {
    "collapsed": false
   },
   "outputs": [
    {
     "data": {
      "text/plain": [
       "array([[  9.99306525e-01,   6.93474921e-04],\n",
       "       [  9.98224418e-01,   1.77558213e-03],\n",
       "       [  9.99549342e-01,   4.50658446e-04],\n",
       "       ..., \n",
       "       [  9.99646204e-01,   3.53796069e-04],\n",
       "       [  9.99404877e-01,   5.95123329e-04],\n",
       "       [  9.99528425e-01,   4.71575104e-04]])"
      ]
     },
     "execution_count": 131,
     "metadata": {},
     "output_type": "execute_result"
    }
   ],
   "source": [
    "SGDlog.predict_proba(X_validation)"
   ]
  },
  {
   "cell_type": "code",
   "execution_count": 132,
   "metadata": {
    "collapsed": false
   },
   "outputs": [],
   "source": [
    "va_df.drop(['log_prob', 'estimatedBidPrice', 'estimatedBidPrice_x2.5', 'estimatedBidPrice_x4', \\\n",
    "            'estimatedBidPrice_linear', 'estimatedBidPrice_linear_70'], axis=1, inplace=True)"
   ]
  },
  {
   "cell_type": "code",
   "execution_count": 133,
   "metadata": {
    "collapsed": false
   },
   "outputs": [
    {
     "data": {
      "text/plain": [
       "array([[  9.99259036e-01,   7.40963648e-04],\n",
       "       [  9.99129739e-01,   8.70261119e-04],\n",
       "       [  9.99296971e-01,   7.03029271e-04],\n",
       "       ..., \n",
       "       [  9.99248217e-01,   7.51782597e-04],\n",
       "       [  9.99275947e-01,   7.24053228e-04],\n",
       "       [  9.99226786e-01,   7.73213858e-04]])"
      ]
     },
     "execution_count": 133,
     "metadata": {},
     "output_type": "execute_result"
    }
   ],
   "source": [
    "probarray = logregCV.predict_proba(va_df[[col for col in va_df.columns if col not in ['click', 'payprice', 'bidprice']]])\n",
    "va_df['log_prob'] =probarray[:,1]\n",
    "probarray"
   ]
  },
  {
   "cell_type": "code",
   "execution_count": 134,
   "metadata": {
    "collapsed": false
   },
   "outputs": [
    {
     "name": "stdout",
     "output_type": "stream",
     "text": [
      "count    299745.000000\n",
      "mean          0.000754\n",
      "std           0.000042\n",
      "min           0.000660\n",
      "25%           0.000724\n",
      "50%           0.000745\n",
      "75%           0.000777\n",
      "max           0.000934\n",
      "Name: log_prob, dtype: float64\n"
     ]
    },
    {
     "name": "stderr",
     "output_type": "stream",
     "text": [
      "E:\\Anaconda3\\lib\\site-packages\\matplotlib\\axes\\_axes.py:531: UserWarning: No labelled objects found. Use label='...' kwarg on individual plots.\n",
      "  warnings.warn(\"No labelled objects found. \"\n"
     ]
    },
    {
     "data": {
      "image/png": "[encoded data removed]",
      "text/plain": [
       "<matplotlib.figure.Figure at 0xb6a9ae80>"
      ]
     },
     "metadata": {},
     "output_type": "display_data"
    }
   ],
   "source": [
    "print(va_df['log_prob'].describe())\n",
    "f = interpolate.interp1d( [min(va_df['log_prob']) , max(va_df['log_prob'])], [min(va_df['payprice']), max(va_df['payprice']) ])\n",
    "va_df['estimatedBidPrice'] = va_df['log_prob'].apply(  lambda x: f(x) )\n",
    "plt.xlabel('Estimated Bid Price')\n",
    "plt.ylabel('Numbers')\n",
    "va_df['estimatedBidPrice'].hist()\n",
    "#plt.yscale('log')\n",
    "plt.title(\"Distribution of Estimated Bid Price(5 Attributes)_Validation_SGDLog\")\n",
    "plt.legend()\n",
    "plt.show()"
   ]
  },
  {
   "cell_type": "code",
   "execution_count": 135,
   "metadata": {
    "collapsed": false
   },
   "outputs": [
    {
     "name": "stdout",
     "output_type": "stream",
     "text": [
      "count    299745.000000\n",
      "mean        102.502388\n",
      "std          45.924101\n",
      "min           0.000000\n",
      "25%          69.667670\n",
      "50%          92.574490\n",
      "75%         127.800943\n",
      "max         300.000000\n",
      "Name: estimatedBidPrice, dtype: float64\n",
      "variance: 2109.023060832879\n",
      "skewness: 1.0100074307342612\n",
      "kurtosis: 1.13449542803051\n"
     ]
    }
   ],
   "source": [
    "# Information about bid price\n",
    "print(va_df['estimatedBidPrice'].describe())\n",
    "print(\"variance:\", va_df['estimatedBidPrice'].var())\n",
    "print(\"skewness:\", st.skew(va_df['estimatedBidPrice'],bias=False)) \n",
    "print(\"kurtosis:\", st.kurtosis(va_df['estimatedBidPrice'],bias=False)) "
   ]
  },
  {
   "cell_type": "code",
   "execution_count": 136,
   "metadata": {
    "collapsed": false
   },
   "outputs": [
    {
     "name": "stdout",
     "output_type": "stream",
     "text": [
      "count    299745.000000\n",
      "mean         80.217765\n",
      "std          62.365778\n",
      "min           0.000000\n",
      "25%          33.000000\n",
      "50%          70.000000\n",
      "75%         101.000000\n",
      "max         300.000000\n",
      "Name: payprice, dtype: float64\n",
      "variance: 3889.490303729888\n",
      "skewness: 1.2558899702835147\n",
      "kurtosis: 1.0928950971859432\n"
     ]
    }
   ],
   "source": [
    "# Information about pay price\n",
    "print(va_df['payprice'].describe())\n",
    "print(\"variance:\", va_df['payprice'].var())\n",
    "print(\"skewness:\", st.skew(va_df['payprice'],bias=False))\n",
    "print(\"kurtosis:\", st.kurtosis(va_df['payprice'],bias=False))"
   ]
  },
  {
   "cell_type": "code",
   "execution_count": 137,
   "metadata": {
    "collapsed": false
   },
   "outputs": [
    {
     "name": "stderr",
     "output_type": "stream",
     "text": [
      "E:\\Anaconda3\\lib\\site-packages\\matplotlib\\axes\\_axes.py:531: UserWarning: No labelled objects found. Use label='...' kwarg on individual plots.\n",
      "  warnings.warn(\"No labelled objects found. \"\n"
     ]
    },
    {
     "data": {
      "image/png": "[encoded data removed]",
      "text/plain": [
       "<matplotlib.figure.Figure at 0x6b626cc0>"
      ]
     },
     "metadata": {},
     "output_type": "display_data"
    }
   ],
   "source": [
    "plt.xlabel('Probability of Click')\n",
    "plt.ylabel('Numbers')\n",
    "va_df['payprice'].hist()\n",
    "#plt.yscale('log')\n",
    "plt.title(\"Distribution of Probability of Click(5 Attributes)_Validation_SGDLog\")\n",
    "plt.legend()\n",
    "plt.show()"
   ]
  },
  {
   "cell_type": "code",
   "execution_count": 138,
   "metadata": {
    "collapsed": false
   },
   "outputs": [],
   "source": [
    "f = interpolate.interp1d( [min(va_df['log_prob']) , max(va_df['log_prob'])], [min(va_df['payprice']), max(va_df['payprice']) ])\n",
    "va_df['estimatedBidPrice_x2.5'] = va_df['log_prob'].apply(  lambda x: f(x)*2.5 )"
   ]
  },
  {
   "cell_type": "code",
   "execution_count": 139,
   "metadata": {
    "collapsed": false
   },
   "outputs": [
    {
     "name": "stderr",
     "output_type": "stream",
     "text": [
      "E:\\Anaconda3\\lib\\site-packages\\matplotlib\\axes\\_axes.py:531: UserWarning: No labelled objects found. Use label='...' kwarg on individual plots.\n",
      "  warnings.warn(\"No labelled objects found. \"\n"
     ]
    },
    {
     "data": {
      "image/png": "[encoded data removed]",
      "text/plain": [
       "<matplotlib.figure.Figure at 0xe9deae80>"
      ]
     },
     "metadata": {},
     "output_type": "display_data"
    }
   ],
   "source": [
    "plt.xlabel('Estimated Bid Price_x2.5')\n",
    "plt.ylabel('Numbers')\n",
    "va_df['estimatedBidPrice_x2.5'].hist()\n",
    "#plt.yscale('log')\n",
    "plt.title(\"Distribution of Estimated Bid Price(5 Attributes)_Validation_SGDLogCV\")\n",
    "plt.legend()\n",
    "plt.show()"
   ]
  },
  {
   "cell_type": "markdown",
   "metadata": {},
   "source": [
    "### Table"
   ]
  },
  {
   "cell_type": "code",
   "execution_count": 140,
   "metadata": {
    "collapsed": true
   },
   "outputs": [],
   "source": [
    "impression = va_df[(va_df['estimatedBidPrice'] > va_df['payprice']) & (va_df['log_prob'] > va_df['log_prob'].quantile(0) )]\n",
    "click = impression[impression['click'] == 1 ]\n",
    "\n",
    "impression_x2 = va_df[va_df['estimatedBidPrice_x2.5'] > va_df['payprice']]\n",
    "click_x2 = impression_x2[impression_x2['click'] == 1 ]\n",
    "\n",
    "## Deleting 25% from df['estimatedBidPrice_x2.5']\n",
    "impression_d25 = va_df[(va_df['estimatedBidPrice_x2.5'] > va_df['payprice']) & (va_df['log_prob'] > va_df['log_prob'].quantile(0.25) )]\n",
    "click_d25 = impression_d25[impression_d25['click'] == 1 ]\n",
    "\n",
    "## Deleting 50% from df['estimatedBidPrice_x2.5']\n",
    "impression_d50 = va_df[(va_df['estimatedBidPrice_x2.5'] > va_df['payprice']) & (va_df['log_prob'] > va_df['log_prob'].quantile(0.5) )]\n",
    "click_d50 = impression_d50[impression_d50['click'] == 1 ]\n",
    "\n",
    "f = interpolate.interp1d( [min(va_df['log_prob']) , max(va_df['log_prob'])], [min(va_df['payprice']), max(va_df['payprice']) ])\n",
    "va_df['estimatedBidPrice_x4'] = va_df['log_prob'].apply(  lambda x: f(x)*4 )\n",
    "\n",
    "impression_x4 = va_df[va_df['estimatedBidPrice_x4'] > va_df['payprice']]\n",
    "click_x4 = impression_x4[impression_x4['click'] == 1 ]\n",
    "\n",
    "va_df['estimatedBidPrice_linear'] = va_df['log_prob'] * 84 / 2034 * 2697738\n",
    "\n",
    "impression_linear = va_df[va_df['estimatedBidPrice_linear'] > va_df['payprice']]\n",
    "click_linear = impression_linear[impression_linear['click'] == 1 ]\n",
    "\n",
    "va_df['estimatedBidPrice_linear_70'] = va_df['log_prob'] * 70 / 2034 * 2697738\n",
    "impression_linear_70 = va_df[va_df['estimatedBidPrice_linear_70'] > va_df['payprice']]\n",
    "click_linear_70 = impression_linear_70[impression_linear_70['click'] == 1 ]"
   ]
  },
  {
   "cell_type": "code",
   "execution_count": 141,
   "metadata": {
    "collapsed": false
   },
   "outputs": [
    {
     "name": "stdout",
     "output_type": "stream",
     "text": [
      "+---------------------------+----------+-----+---------------------+\n",
      "|          Variable         |Impression|Click|         CTR         |\n",
      "+---------------------------+----------+-----+---------------------+\n",
      "|     estimatedBidPrice     |  194600  | 130 |0.0006680369989722507|\n",
      "|   estimatedBidPrice_x2.5  |  284933  | 212 |0.0007440345625111868|\n",
      "| estimatedBidPrice_x2.5_d25|  219263  | 170 |0.0007753246101713467|\n",
      "| estimatedBidPrice_x2.5_d50|  148842  | 142 |0.0009540317921016917|\n",
      "|    estimatedBidPrice_x4   |  297458  | 225 |0.0007564093082048558|\n",
      "|  estimatedBidPrice_linear |  198901  | 105 |0.0005279008149783057|\n",
      "|estimatedBidPrice_linear_70|  154900  |  63 |0.0004067140090380891|\n",
      "+---------------------------+----------+-----+---------------------+\n"
     ]
    }
   ],
   "source": [
    "x = PrettyTable([\"Variable\", \"Impression\", 'Click', 'CTR'])\n",
    "x.align[\"Impression\"] = \"1\" # Left align city names \n",
    "x.padding_width = 0 # One space between column edges and contents (default)\n",
    "\n",
    "x.add_row([\"estimatedBidPrice\", impression.shape[0], \\\n",
    "           click.shape[0], \\\n",
    "           click.shape[0]/impression.shape[0]])\n",
    "\n",
    "x.add_row([\"estimatedBidPrice_x2.5\", impression_x2.shape[0], \\\n",
    "           click_x2.shape[0], \\\n",
    "           click_x2.shape[0]/impression_x2.shape[0]])\n",
    "\n",
    "x.add_row([\"estimatedBidPrice_x2.5_d25\", impression_d25.shape[0], \\\n",
    "           click_d25.shape[0], \\\n",
    "           click_d25.shape[0]/impression_d25.shape[0]])\n",
    "\n",
    "x.add_row([\"estimatedBidPrice_x2.5_d50\", impression_d50.shape[0], \\\n",
    "           click_d50.shape[0], \\\n",
    "           click_d50.shape[0]/impression_d50.shape[0]])\n",
    "\n",
    "x.add_row([\"estimatedBidPrice_x4\", impression_x4.shape[0], \\\n",
    "           click_x4.shape[0], \\\n",
    "           click_x4.shape[0]/impression_x4.shape[0]])\n",
    "\n",
    "x.add_row([\"estimatedBidPrice_linear\", impression_linear.shape[0], \\\n",
    "           click_linear.shape[0], \\\n",
    "           click_linear.shape[0]/impression_linear.shape[0]])\n",
    "\n",
    "x.add_row([\"estimatedBidPrice_linear_70\", impression_linear_70.shape[0], \\\n",
    "           click_linear_70.shape[0], \\\n",
    "           click_linear_70.shape[0]/impression_linear_70.shape[0]])\n",
    "\n",
    "print(x)"
   ]
  },
  {
   "cell_type": "code",
   "execution_count": 142,
   "metadata": {
    "collapsed": false
   },
   "outputs": [
    {
     "name": "stdout",
     "output_type": "stream",
     "text": [
      "+--------------------------+----------+-----+---------------------+\n",
      "|         Variable         |Impression|Click|         CTR         |\n",
      "+--------------------------+----------+-----+---------------------+\n",
      "|estimatedBidPrice_x2.5_d65|  104712  | 117 |0.0011173504469401787|\n",
      "|estimatedBidPrice_x2.5_d70|  89918   | 109 |0.0012122155741898174|\n",
      "|estimatedBidPrice_x2.5_d75|  74935   |  93 |0.0012410755988523387|\n",
      "+--------------------------+----------+-----+---------------------+\n"
     ]
    }
   ],
   "source": [
    "impression_d65 = va_df[(va_df['estimatedBidPrice_x2.5'] > va_df['payprice']) & (va_df['log_prob'] > va_df['log_prob'].quantile(0.65) )]\n",
    "click_d65 = impression_d65[impression_d65['click'] == 1 ]\n",
    "\n",
    "impression_d70 = va_df[(va_df['estimatedBidPrice_x2.5'] > va_df['payprice']) & (va_df['log_prob'] > va_df['log_prob'].quantile(0.70) )]\n",
    "click_d70 = impression_d70[impression_d70['click'] == 1 ]\n",
    "\n",
    "impression_d75 = va_df[(va_df['estimatedBidPrice_x2.5'] > va_df['payprice']) & (va_df['log_prob'] > va_df['log_prob'].quantile(0.75) )]\n",
    "click_d75 = impression_d75[impression_d75['click'] == 1 ]\n",
    "\n",
    "y = PrettyTable([\"Variable\", \"Impression\", 'Click', 'CTR'])\n",
    "y.align[\"Impression\"] = \"1\" # Left align city names \n",
    "y.padding_width = 0 # One space between column edges and contents (default)\n",
    "\n",
    "y.add_row([\"estimatedBidPrice_x2.5_d65\", impression_d65.shape[0], \\\n",
    "           click_d65.shape[0], \\\n",
    "           click_d65.shape[0]/impression_d65.shape[0]])\n",
    "\n",
    "y.add_row([\"estimatedBidPrice_x2.5_d70\", impression_d70.shape[0], \\\n",
    "           click_d70.shape[0], \\\n",
    "           click_d70.shape[0]/impression_d70.shape[0]])\n",
    "\n",
    "y.add_row([\"estimatedBidPrice_x2.5_d75\", impression_d75.shape[0], \\\n",
    "           click_d75.shape[0], \\\n",
    "           click_d75.shape[0]/impression_d75.shape[0]])\n",
    "\n",
    "print(y)"
   ]
  },
  {
   "cell_type": "code",
   "execution_count": 143,
   "metadata": {
    "collapsed": false
   },
   "outputs": [
    {
     "name": "stdout",
     "output_type": "stream",
     "text": [
      "+-------------------------+----------+-----+--------------------+\n",
      "|         Variable        |Impression|Click|        CTR         |\n",
      "+-------------------------+----------+-----+--------------------+\n",
      "|estimatedBidPrice_linear2|  84908   |  85 |0.001001083525698403|\n",
      "+-------------------------+----------+-----+--------------------+\n"
     ]
    }
   ],
   "source": [
    "log_prob_list = va_df['log_prob'].tolist()\n",
    "va_df.log_prob.describe()\n",
    "for i in range(len(log_prob_list)):\n",
    "    if log_prob_list[i] > 0.000765:\n",
    "    # if log_prob_list[i] > va_df.log_prob.quantile(0.75): \n",
    "        log_prob_list[i] *= 3.5\n",
    "    elif 0.000765> log_prob_list[i] > 0.000752  :\n",
    "    # elif log_prob_list[i] > va_df.log_prob.quantile(0.5):\n",
    "        log_prob_list[i] *=3\n",
    "        \n",
    "    elif 0.000752> log_prob_list[i] > 0.000740  :\n",
    "    # elif log_prob_list[i] > va_df.log_prob.quantile(0.25):\n",
    "        log_prob_list[i] *=0.2\n",
    "        \n",
    "    elif 0.000740> log_prob_list[i] > 0.000695  :\n",
    "    # elif log_prob_list[i] > va_df.log_prob.quantile(0):\n",
    "        log_prob_list[i] *=0.1   \n",
    "        \n",
    "va_df['estimatedBidPrice_linear2'] = pd.DataFrame(log_prob_list) * 84 / 2034 * 2697738\n",
    "impression_linear2 = va_df[(va_df['estimatedBidPrice_linear2'] > va_df['payprice']) & (va_df['log_prob'] > va_df['log_prob'].quantile(0.40) )]\n",
    "click_linear2 = impression_linear2[impression_linear2['click'] == 1 ]        \n",
    "               \n",
    "z = PrettyTable([\"Variable\", \"Impression\", 'Click', 'CTR'])\n",
    "z.align[\"Impression\"] = \"1\" # Left align city names \n",
    "z.padding_width = 0 # One space between column edges and contents (default)\n",
    "\n",
    "z.add_row([\"estimatedBidPrice_linear2\", impression_linear2.shape[0], \\\n",
    "           click_linear2.shape[0], \\\n",
    "           click_linear2.shape[0]/impression_linear2.shape[0]])\n",
    "\n",
    "print(z)"
   ]
  },
  {
   "cell_type": "code",
   "execution_count": null,
   "metadata": {
    "collapsed": true
   },
   "outputs": [],
   "source": []
  },
  {
   "cell_type": "markdown",
   "metadata": {
    "collapsed": true
   },
   "source": [
    "## Lasso"
   ]
  },
  {
   "cell_type": "code",
   "execution_count": 144,
   "metadata": {
    "collapsed": true
   },
   "outputs": [],
   "source": [
    "clf = linear_model.Lasso(alpha = 0.1)"
   ]
  },
  {
   "cell_type": "code",
   "execution_count": 145,
   "metadata": {
    "collapsed": false
   },
   "outputs": [
    {
     "data": {
      "text/plain": [
       "Lasso(alpha=0.1, copy_X=True, fit_intercept=True, max_iter=1000,\n",
       "   normalize=False, positive=False, precompute=False, random_state=None,\n",
       "   selection='cyclic', tol=0.0001, warm_start=False)"
      ]
     },
     "execution_count": 145,
     "metadata": {},
     "output_type": "execute_result"
    }
   ],
   "source": [
    "clf.fit(X, Y)"
   ]
  },
  {
   "cell_type": "code",
   "execution_count": 146,
   "metadata": {
    "collapsed": false
   },
   "outputs": [
    {
     "data": {
      "text/plain": [
       "-3.6060043839825084e-13"
      ]
     },
     "execution_count": 146,
     "metadata": {},
     "output_type": "execute_result"
    }
   ],
   "source": [
    "clf.score(X_validation, Y_validation)"
   ]
  },
  {
   "cell_type": "code",
   "execution_count": null,
   "metadata": {
    "collapsed": true
   },
   "outputs": [],
   "source": []
  },
  {
   "cell_type": "code",
   "execution_count": null,
   "metadata": {
    "collapsed": true
   },
   "outputs": [],
   "source": []
  },
  {
   "cell_type": "code",
   "execution_count": null,
   "metadata": {
    "collapsed": true
   },
   "outputs": [],
   "source": []
  },
  {
   "cell_type": "code",
   "execution_count": null,
   "metadata": {
    "collapsed": true
   },
   "outputs": [],
   "source": []
  },
  {
   "cell_type": "code",
   "execution_count": null,
   "metadata": {
    "collapsed": true
   },
   "outputs": [],
   "source": []
  },
  {
   "cell_type": "code",
   "execution_count": null,
   "metadata": {
    "collapsed": true
   },
   "outputs": [],
   "source": []
  },
  {
   "cell_type": "code",
   "execution_count": null,
   "metadata": {
    "collapsed": true
   },
   "outputs": [],
   "source": []
  },
  {
   "cell_type": "code",
   "execution_count": null,
   "metadata": {
    "collapsed": true
   },
   "outputs": [],
   "source": []
  },
  {
   "cell_type": "code",
   "execution_count": null,
   "metadata": {
    "collapsed": true
   },
   "outputs": [],
   "source": []
  },
  {
   "cell_type": "code",
   "execution_count": null,
   "metadata": {
    "collapsed": true
   },
   "outputs": [],
   "source": []
  },
  {
   "cell_type": "code",
   "execution_count": null,
   "metadata": {
    "collapsed": true
   },
   "outputs": [],
   "source": []
  },
  {
   "cell_type": "code",
   "execution_count": null,
   "metadata": {
    "collapsed": true
   },
   "outputs": [],
   "source": []
  },
  {
   "cell_type": "code",
   "execution_count": null,
   "metadata": {
    "collapsed": true
   },
   "outputs": [],
   "source": []
  },
  {
   "cell_type": "code",
   "execution_count": null,
   "metadata": {
    "collapsed": true
   },
   "outputs": [],
   "source": []
  },
  {
   "cell_type": "code",
   "execution_count": null,
   "metadata": {
    "collapsed": true
   },
   "outputs": [],
   "source": []
  },
  {
   "cell_type": "code",
   "execution_count": null,
   "metadata": {
    "collapsed": true
   },
   "outputs": [],
   "source": []
  },
  {
   "cell_type": "code",
   "execution_count": null,
   "metadata": {
    "collapsed": true
   },
   "outputs": [],
   "source": []
  },
  {
   "cell_type": "code",
   "execution_count": null,
   "metadata": {
    "collapsed": true
   },
   "outputs": [],
   "source": []
  },
  {
   "cell_type": "code",
   "execution_count": null,
   "metadata": {
    "collapsed": true
   },
   "outputs": [],
   "source": []
  },
  {
   "cell_type": "code",
   "execution_count": null,
   "metadata": {
    "collapsed": true
   },
   "outputs": [],
   "source": []
  },
  {
   "cell_type": "code",
   "execution_count": null,
   "metadata": {
    "collapsed": true
   },
   "outputs": [],
   "source": []
  },
  {
   "cell_type": "code",
   "execution_count": null,
   "metadata": {
    "collapsed": true
   },
   "outputs": [],
   "source": []
  },
  {
   "cell_type": "code",
   "execution_count": null,
   "metadata": {
    "collapsed": true
   },
   "outputs": [],
   "source": []
  },
  {
   "cell_type": "code",
   "execution_count": null,
   "metadata": {
    "collapsed": true
   },
   "outputs": [],
   "source": []
  },
  {
   "cell_type": "code",
   "execution_count": null,
   "metadata": {
    "collapsed": true
   },
   "outputs": [],
   "source": []
  },
  {
   "cell_type": "code",
   "execution_count": null,
   "metadata": {
    "collapsed": true
   },
   "outputs": [],
   "source": []
  },
  {
   "cell_type": "code",
   "execution_count": null,
   "metadata": {
    "collapsed": true
   },
   "outputs": [],
   "source": []
  },
  {
   "cell_type": "code",
   "execution_count": null,
   "metadata": {
    "collapsed": true
   },
   "outputs": [],
   "source": []
  },
  {
   "cell_type": "code",
   "execution_count": null,
   "metadata": {
    "collapsed": true
   },
   "outputs": [],
   "source": []
  },
  {
   "cell_type": "code",
   "execution_count": null,
   "metadata": {
    "collapsed": true
   },
   "outputs": [],
   "source": []
  },
  {
   "cell_type": "code",
   "execution_count": null,
   "metadata": {
    "collapsed": true
   },
   "outputs": [],
   "source": []
  },
  {
   "cell_type": "code",
   "execution_count": null,
   "metadata": {
    "collapsed": true
   },
   "outputs": [],
   "source": []
  },
  {
   "cell_type": "code",
   "execution_count": null,
   "metadata": {
    "collapsed": true
   },
   "outputs": [],
   "source": []
  },
  {
   "cell_type": "code",
   "execution_count": null,
   "metadata": {
    "collapsed": true
   },
   "outputs": [],
   "source": []
  },
  {
   "cell_type": "code",
   "execution_count": null,
   "metadata": {
    "collapsed": true
   },
   "outputs": [],
   "source": []
  },
  {
   "cell_type": "code",
   "execution_count": null,
   "metadata": {
    "collapsed": true
   },
   "outputs": [],
   "source": []
  },
  {
   "cell_type": "code",
   "execution_count": null,
   "metadata": {
    "collapsed": true
   },
   "outputs": [],
   "source": []
  },
  {
   "cell_type": "code",
   "execution_count": null,
   "metadata": {
    "collapsed": true
   },
   "outputs": [],
   "source": []
  },
  {
   "cell_type": "code",
   "execution_count": null,
   "metadata": {
    "collapsed": true
   },
   "outputs": [],
   "source": []
  },
  {
   "cell_type": "code",
   "execution_count": null,
   "metadata": {
    "collapsed": true
   },
   "outputs": [],
   "source": []
  },
  {
   "cell_type": "code",
   "execution_count": null,
   "metadata": {
    "collapsed": true
   },
   "outputs": [],
   "source": []
  },
  {
   "cell_type": "code",
   "execution_count": null,
   "metadata": {
    "collapsed": true
   },
   "outputs": [],
   "source": []
  },
  {
   "cell_type": "code",
   "execution_count": null,
   "metadata": {
    "collapsed": true
   },
   "outputs": [],
   "source": []
  },
  {
   "cell_type": "code",
   "execution_count": null,
   "metadata": {
    "collapsed": true
   },
   "outputs": [],
   "source": []
  },
  {
   "cell_type": "code",
   "execution_count": null,
   "metadata": {
    "collapsed": true
   },
   "outputs": [],
   "source": []
  },
  {
   "cell_type": "code",
   "execution_count": null,
   "metadata": {
    "collapsed": true
   },
   "outputs": [],
   "source": []
  },
  {
   "cell_type": "code",
   "execution_count": null,
   "metadata": {
    "collapsed": true
   },
   "outputs": [],
   "source": []
  },
  {
   "cell_type": "code",
   "execution_count": null,
   "metadata": {
    "collapsed": true
   },
   "outputs": [],
   "source": []
  },
  {
   "cell_type": "code",
   "execution_count": null,
   "metadata": {
    "collapsed": true
   },
   "outputs": [],
   "source": []
  },
  {
   "cell_type": "code",
   "execution_count": null,
   "metadata": {
    "collapsed": true
   },
   "outputs": [],
   "source": []
  }
 ],
 "metadata": {
  "anaconda-cloud": {},
  "kernelspec": {
   "display_name": "Python [conda root]",
   "language": "python",
   "name": "conda-root-py"
  },
  "language_info": {
   "codemirror_mode": {
    "name": "ipython",
    "version": 3
   },
   "file_extension": ".py",
   "mimetype": "text/x-python",
   "name": "python",
   "nbconvert_exporter": "python",
   "pygments_lexer": "ipython3",
   "version": "3.5.2"
  }
 },
 "nbformat": 4,
 "nbformat_minor": 1
}
