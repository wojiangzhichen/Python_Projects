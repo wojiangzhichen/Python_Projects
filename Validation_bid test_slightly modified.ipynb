{
 "cells": [
  {
   "cell_type": "code",
   "execution_count": 49,
   "metadata": {
    "collapsed": true
   },
   "outputs": [],
   "source": [
    "import os\n",
    "import csv\n",
    "import numpy as np\n",
    "import pandas as pd\n",
    "from prettytable import PrettyTable\n",
    "from sklearn import linear_model, metrics\n",
    "import scipy.stats as st\n",
    "from scipy import interpolate\n",
    "import matplotlib.pyplot as plt\n",
    "import seaborn as sns\n",
    "import copy"
   ]
  },
  {
   "cell_type": "code",
   "execution_count": 50,
   "metadata": {
    "collapsed": true
   },
   "outputs": [],
   "source": [
    "# Changing Directory\n",
    "os.chdir(\"A:\\\\WebEconomics\\\\dataset\")\n"
   ]
  },
  {
   "cell_type": "code",
   "execution_count": 51,
   "metadata": {
    "collapsed": true
   },
   "outputs": [],
   "source": [
    "# Reading Data\n",
    "df = pd.read_csv('validation.csv')\n",
    "df_train = pd.read_csv('train.csv')"
   ]
  },
  {
   "cell_type": "markdown",
   "metadata": {},
   "source": [
    "## Selecting Wanted Features"
   ]
  },
  {
   "cell_type": "code",
   "execution_count": 52,
   "metadata": {
    "collapsed": false
   },
   "outputs": [],
   "source": [
    "# Define our features\n",
    "features = [\"click\", \"weekday\", \"hour\", \"region\", \"slotwidth\", 'slotheight', 'bidprice', 'payprice']\n",
    "df = df[features]\n",
    "df = df.dropna()\n",
    "\n",
    "df_train = df_train[features]\n",
    "df_train = df_train.dropna()"
   ]
  },
  {
   "cell_type": "code",
   "execution_count": 53,
   "metadata": {
    "collapsed": true
   },
   "outputs": [],
   "source": [
    "df['slotsize'] = df['slotwidth'] * df['slotheight'] \n",
    "df.drop(['slotwidth', 'slotheight'], axis=1, inplace=True)\n",
    "\n",
    "df_train['slotsize'] = df_train['slotwidth'] * df_train['slotheight'] \n",
    "df_train.drop(['slotwidth', 'slotheight'], axis=1, inplace=True)"
   ]
  },
  {
   "cell_type": "code",
   "execution_count": 54,
   "metadata": {
    "collapsed": false
   },
   "outputs": [
    {
     "data": {
      "text/html": [
       "<div>\n",
       "<table border=\"1\" class=\"dataframe\">\n",
       "  <thead>\n",
       "    <tr style=\"text-align: right;\">\n",
       "      <th></th>\n",
       "      <th>click</th>\n",
       "      <th>weekday</th>\n",
       "      <th>hour</th>\n",
       "      <th>region</th>\n",
       "      <th>bidprice</th>\n",
       "      <th>payprice</th>\n",
       "      <th>slotsize</th>\n",
       "    </tr>\n",
       "  </thead>\n",
       "  <tbody>\n",
       "    <tr>\n",
       "      <th>0</th>\n",
       "      <td>0</td>\n",
       "      <td>5</td>\n",
       "      <td>14</td>\n",
       "      <td>216</td>\n",
       "      <td>227</td>\n",
       "      <td>102</td>\n",
       "      <td>75000</td>\n",
       "    </tr>\n",
       "    <tr>\n",
       "      <th>1</th>\n",
       "      <td>0</td>\n",
       "      <td>3</td>\n",
       "      <td>14</td>\n",
       "      <td>216</td>\n",
       "      <td>277</td>\n",
       "      <td>118</td>\n",
       "      <td>16000</td>\n",
       "    </tr>\n",
       "    <tr>\n",
       "      <th>2</th>\n",
       "      <td>0</td>\n",
       "      <td>1</td>\n",
       "      <td>13</td>\n",
       "      <td>146</td>\n",
       "      <td>241</td>\n",
       "      <td>77</td>\n",
       "      <td>90000</td>\n",
       "    </tr>\n",
       "    <tr>\n",
       "      <th>3</th>\n",
       "      <td>0</td>\n",
       "      <td>5</td>\n",
       "      <td>18</td>\n",
       "      <td>146</td>\n",
       "      <td>241</td>\n",
       "      <td>77</td>\n",
       "      <td>90000</td>\n",
       "    </tr>\n",
       "    <tr>\n",
       "      <th>4</th>\n",
       "      <td>0</td>\n",
       "      <td>5</td>\n",
       "      <td>14</td>\n",
       "      <td>275</td>\n",
       "      <td>300</td>\n",
       "      <td>178</td>\n",
       "      <td>94080</td>\n",
       "    </tr>\n",
       "  </tbody>\n",
       "</table>\n",
       "</div>"
      ],
      "text/plain": [
       "   click  weekday  hour  region  bidprice  payprice  slotsize\n",
       "0      0        5    14     216       227       102     75000\n",
       "1      0        3    14     216       277       118     16000\n",
       "2      0        1    13     146       241        77     90000\n",
       "3      0        5    18     146       241        77     90000\n",
       "4      0        5    14     275       300       178     94080"
      ]
     },
     "execution_count": 54,
     "metadata": {},
     "output_type": "execute_result"
    }
   ],
   "source": [
    "df.head()"
   ]
  },
  {
   "cell_type": "markdown",
   "metadata": {},
   "source": [
    "## Labeling and Categorising Data"
   ]
  },
  {
   "cell_type": "markdown",
   "metadata": {},
   "source": [
    "Categorising:\n",
    "- Hour: \n",
    "    - 0:00~07:59 : 1\n",
    "    - 08:00~15:59: 2\n",
    "    - 16:00~23:59: 3\n",
    "- Size:\n",
    "    - 0~40000     : 1\n",
    "    - 40000~80000 : 2\n",
    "    - 80000~120000: 3"
   ]
  },
  {
   "cell_type": "code",
   "execution_count": 55,
   "metadata": {
    "collapsed": false
   },
   "outputs": [
    {
     "data": {
      "text/html": [
       "<div>\n",
       "<table border=\"1\" class=\"dataframe\">\n",
       "  <thead>\n",
       "    <tr style=\"text-align: right;\">\n",
       "      <th></th>\n",
       "      <th>click</th>\n",
       "      <th>weekday</th>\n",
       "      <th>hour</th>\n",
       "      <th>region</th>\n",
       "      <th>bidprice</th>\n",
       "      <th>payprice</th>\n",
       "      <th>slotsize</th>\n",
       "    </tr>\n",
       "  </thead>\n",
       "  <tbody>\n",
       "    <tr>\n",
       "      <th>0</th>\n",
       "      <td>0</td>\n",
       "      <td>5</td>\n",
       "      <td>2</td>\n",
       "      <td>216</td>\n",
       "      <td>227</td>\n",
       "      <td>102</td>\n",
       "      <td>2</td>\n",
       "    </tr>\n",
       "    <tr>\n",
       "      <th>1</th>\n",
       "      <td>0</td>\n",
       "      <td>3</td>\n",
       "      <td>2</td>\n",
       "      <td>216</td>\n",
       "      <td>277</td>\n",
       "      <td>118</td>\n",
       "      <td>1</td>\n",
       "    </tr>\n",
       "    <tr>\n",
       "      <th>2</th>\n",
       "      <td>0</td>\n",
       "      <td>1</td>\n",
       "      <td>2</td>\n",
       "      <td>146</td>\n",
       "      <td>241</td>\n",
       "      <td>77</td>\n",
       "      <td>3</td>\n",
       "    </tr>\n",
       "    <tr>\n",
       "      <th>3</th>\n",
       "      <td>0</td>\n",
       "      <td>5</td>\n",
       "      <td>3</td>\n",
       "      <td>146</td>\n",
       "      <td>241</td>\n",
       "      <td>77</td>\n",
       "      <td>3</td>\n",
       "    </tr>\n",
       "    <tr>\n",
       "      <th>4</th>\n",
       "      <td>0</td>\n",
       "      <td>5</td>\n",
       "      <td>2</td>\n",
       "      <td>275</td>\n",
       "      <td>300</td>\n",
       "      <td>178</td>\n",
       "      <td>3</td>\n",
       "    </tr>\n",
       "  </tbody>\n",
       "</table>\n",
       "</div>"
      ],
      "text/plain": [
       "   click  weekday hour  region  bidprice  payprice slotsize\n",
       "0      0        5    2     216       227       102        2\n",
       "1      0        3    2     216       277       118        1\n",
       "2      0        1    2     146       241        77        3\n",
       "3      0        5    3     146       241        77        3\n",
       "4      0        5    2     275       300       178        3"
      ]
     },
     "execution_count": 55,
     "metadata": {},
     "output_type": "execute_result"
    }
   ],
   "source": [
    "df['hour'] = pd.cut(df['hour'], bins = [0,8,16,23.5], right=False, labels=[1,2,3])\n",
    "df['slotsize'] = pd.cut(df['slotsize'], bins = [0,40000,80000,120000], right=True, labels=[1,2,3])\n",
    "\n",
    "df_train['hour'] = pd.cut(df_train['hour'], bins = [0,8,16,23.5], right=False, labels=[1,2,3])\n",
    "df_train['slotsize'] = pd.cut(df_train['slotsize'], bins = [0,40000,80000,120000], right=True, labels=[1,2,3])\n",
    "\n",
    "df.head()  "
   ]
  },
  {
   "cell_type": "code",
   "execution_count": 56,
   "metadata": {
    "collapsed": false
   },
   "outputs": [
    {
     "name": "stdout",
     "output_type": "stream",
     "text": [
      "<class 'pandas.core.frame.DataFrame'>\n",
      "Int64Index: 299749 entries, 0 to 299748\n",
      "Data columns (total 7 columns):\n",
      "click       299749 non-null int64\n",
      "weekday     299749 non-null int64\n",
      "hour        299749 non-null category\n",
      "region      299749 non-null int64\n",
      "bidprice    299749 non-null int64\n",
      "payprice    299749 non-null int64\n",
      "slotsize    299745 non-null category\n",
      "dtypes: category(2), int64(5)\n",
      "memory usage: 14.3 MB\n"
     ]
    }
   ],
   "source": [
    "df.info()"
   ]
  },
  {
   "cell_type": "code",
   "execution_count": 57,
   "metadata": {
    "collapsed": false
   },
   "outputs": [
    {
     "name": "stdout",
     "output_type": "stream",
     "text": [
      "False\n",
      "False\n"
     ]
    }
   ],
   "source": [
    "df = df.dropna()\n",
    "print(df.isnull().any().any())\n",
    "\n",
    "df_train = df_train.dropna()\n",
    "print(df_train.isnull().any().any())\n"
   ]
  },
  {
   "cell_type": "markdown",
   "metadata": {},
   "source": [
    "### Dummy Coding"
   ]
  },
  {
   "cell_type": "markdown",
   "metadata": {},
   "source": [
    "Since all of the variables are categorical integers, we need to convert these numbers into categorical type. To do this, we can use dummy coding. \n",
    "\n",
    "We will use [**``sklearn.preprocessing.LabelEncoder()``**](http://scikit-learn.org/stable/modules/generated/sklearn.preprocessing.LabelEncoder.html#sklearn.preprocessing.LabelEncoder)\n",
    "\n",
    "\n",
    "Encode labels with value between 0 and n_classes-1."
   ]
  },
  {
   "cell_type": "code",
   "execution_count": 58,
   "metadata": {
    "collapsed": true
   },
   "outputs": [],
   "source": [
    "from sklearn import preprocessing\n",
    "\n",
    "# Set the random seed\n",
    "np.random.seed(12)\n",
    "\n",
    "# Initialize label encoder\n",
    "label_encoder = preprocessing.LabelEncoder()"
   ]
  },
  {
   "cell_type": "code",
   "execution_count": 59,
   "metadata": {
    "collapsed": true
   },
   "outputs": [],
   "source": [
    "# Convert all the features to numeric values\n",
    "df[\"click\"] = label_encoder.fit_transform(df[\"click\"])\n",
    "df[\"weekday\"] = label_encoder.fit_transform(df[\"weekday\"])\n",
    "df[\"region\"] = label_encoder.fit_transform(df[\"region\"])\n",
    "\n",
    "df[\"hour\"] = label_encoder.fit_transform(df[\"hour\"])\n",
    "df[\"slotsize\"] = label_encoder.fit_transform(df[\"slotsize\"])"
   ]
  },
  {
   "cell_type": "code",
   "execution_count": 60,
   "metadata": {
    "collapsed": true
   },
   "outputs": [],
   "source": [
    "# Convert all the features to numeric values\n",
    "df_train[\"click\"] = label_encoder.fit_transform(df_train[\"click\"])\n",
    "df_train[\"weekday\"] = label_encoder.fit_transform(df_train[\"weekday\"])\n",
    "df_train[\"region\"] = label_encoder.fit_transform(df_train[\"region\"])\n",
    "\n",
    "df_train[\"hour\"] = label_encoder.fit_transform(df_train[\"hour\"])\n",
    "df_train[\"slotsize\"] = label_encoder.fit_transform(df_train[\"slotsize\"])"
   ]
  },
  {
   "cell_type": "markdown",
   "metadata": {},
   "source": [
    "## Training Logistic Regression (linear_model.LogisticRegression)"
   ]
  },
  {
   "cell_type": "code",
   "execution_count": 61,
   "metadata": {
    "collapsed": true
   },
   "outputs": [],
   "source": [
    "# Defining X and Y\n",
    "X = df_train[[col for col in df.columns if col not in ['click', 'payprice', 'bidprice']]]\n",
    "Y = df_train['click']"
   ]
  },
  {
   "cell_type": "code",
   "execution_count": 62,
   "metadata": {
    "collapsed": true
   },
   "outputs": [],
   "source": [
    "# Training the model\n",
    "logreg = linear_model.LogisticRegression()"
   ]
  },
  {
   "cell_type": "code",
   "execution_count": 63,
   "metadata": {
    "collapsed": false
   },
   "outputs": [
    {
     "data": {
      "text/plain": [
       "LogisticRegression(C=1.0, class_weight=None, dual=False, fit_intercept=True,\n",
       "          intercept_scaling=1, max_iter=100, multi_class='ovr', n_jobs=1,\n",
       "          penalty='l2', random_state=None, solver='liblinear', tol=0.0001,\n",
       "          verbose=0, warm_start=False)"
      ]
     },
     "execution_count": 63,
     "metadata": {},
     "output_type": "execute_result"
    }
   ],
   "source": [
    "logreg.fit(X, Y)"
   ]
  },
  {
   "cell_type": "code",
   "execution_count": 64,
   "metadata": {
    "collapsed": false
   },
   "outputs": [
    {
     "data": {
      "text/plain": [
       "0.99924600929847729"
      ]
     },
     "execution_count": 64,
     "metadata": {},
     "output_type": "execute_result"
    }
   ],
   "source": [
    "logreg.score(X, Y)"
   ]
  },
  {
   "cell_type": "code",
   "execution_count": 65,
   "metadata": {
    "collapsed": false
   },
   "outputs": [
    {
     "data": {
      "text/plain": [
       "array([0, 0, 0, ..., 0, 0, 0], dtype=int64)"
      ]
     },
     "execution_count": 65,
     "metadata": {},
     "output_type": "execute_result"
    }
   ],
   "source": [
    "logreg.predict(X)"
   ]
  },
  {
   "cell_type": "code",
   "execution_count": 66,
   "metadata": {
    "collapsed": false
   },
   "outputs": [
    {
     "name": "stdout",
     "output_type": "stream",
     "text": [
      "0\n"
     ]
    }
   ],
   "source": [
    "narray = logreg.predict(X)\n",
    "print(narray.sum())"
   ]
  },
  {
   "cell_type": "code",
   "execution_count": 67,
   "metadata": {
    "collapsed": false
   },
   "outputs": [
    {
     "data": {
      "text/plain": [
       "array([[  9.98916139e-01,   1.08386086e-03],\n",
       "       [  9.99062280e-01,   9.37719823e-04],\n",
       "       [  9.99413771e-01,   5.86228951e-04],\n",
       "       ..., \n",
       "       [  9.99333946e-01,   6.66054185e-04],\n",
       "       [  9.99328335e-01,   6.71665270e-04],\n",
       "       [  9.99314741e-01,   6.85259382e-04]])"
      ]
     },
     "execution_count": 67,
     "metadata": {},
     "output_type": "execute_result"
    }
   ],
   "source": [
    "logreg.predict_proba(X)"
   ]
  },
  {
   "cell_type": "code",
   "execution_count": 68,
   "metadata": {
    "collapsed": false
   },
   "outputs": [],
   "source": [
    "probarray = logreg.predict_proba(df[[col for col in df.columns if col not in ['click', 'payprice', 'bidprice']]])\n",
    "df['log_prob'] =probarray[:,1]"
   ]
  },
  {
   "cell_type": "code",
   "execution_count": 69,
   "metadata": {
    "collapsed": false
   },
   "outputs": [
    {
     "name": "stderr",
     "output_type": "stream",
     "text": [
      "C:\\Users\\user\\Anaconda3\\lib\\site-packages\\matplotlib\\axes\\_axes.py:531: UserWarning: No labelled objects found. Use label='...' kwarg on individual plots.\n",
      "  warnings.warn(\"No labelled objects found. \"\n"
     ]
    },
    {
     "data": {
      "image/png": "[encoded data removed]",
      "text/plain": [
       "<matplotlib.figure.Figure at 0x233b76986a0>"
      ]
     },
     "metadata": {},
     "output_type": "display_data"
    }
   ],
   "source": [
    "plt.xlabel('Estimated Probability')\n",
    "plt.ylabel('Numbers')\n",
    "df['log_prob'].hist()\n",
    "#plt.yscale('log')\n",
    "plt.title(\"Distribution of Estimated Probability(4 Attributes)_Validation\")\n",
    "plt.legend()\n",
    "plt.show()\n"
   ]
  },
  {
   "cell_type": "code",
   "execution_count": 70,
   "metadata": {
    "collapsed": false
   },
   "outputs": [
    {
     "name": "stdout",
     "output_type": "stream",
     "text": [
      "count    299745.000000\n",
      "mean          0.000756\n",
      "std           0.000176\n",
      "min           0.000460\n",
      "25%           0.000613\n",
      "50%           0.000705\n",
      "75%           0.000899\n",
      "max           0.001358\n",
      "Name: log_prob, dtype: float64\n"
     ]
    }
   ],
   "source": [
    "print(df['log_prob'].describe())"
   ]
  },
  {
   "cell_type": "code",
   "execution_count": 71,
   "metadata": {
    "collapsed": false
   },
   "outputs": [],
   "source": [
    "f = interpolate.interp1d( [min(df['log_prob']) , max(df['log_prob'])], [min(df['payprice']), max(df['payprice']) ])\n",
    "df['estimatedBidPrice'] = df['log_prob'].apply(  lambda x: f(x) )"
   ]
  },
  {
   "cell_type": "code",
   "execution_count": 72,
   "metadata": {
    "collapsed": false
   },
   "outputs": [
    {
     "name": "stderr",
     "output_type": "stream",
     "text": [
      "C:\\Users\\user\\Anaconda3\\lib\\site-packages\\matplotlib\\axes\\_axes.py:531: UserWarning: No labelled objects found. Use label='...' kwarg on individual plots.\n",
      "  warnings.warn(\"No labelled objects found. \"\n"
     ]
    },
    {
     "data": {
      "image/png": "[encoded data removed]",
      "text/plain": [
       "<matplotlib.figure.Figure at 0x233a3d58e48>"
      ]
     },
     "metadata": {},
     "output_type": "display_data"
    }
   ],
   "source": [
    "plt.xlabel('Estimated Bid Price')\n",
    "plt.ylabel('Numbers')\n",
    "df['estimatedBidPrice'].hist()\n",
    "#plt.yscale('log')\n",
    "plt.title(\"Distribution of Estimated Bid Price(4 Attributes)_Validation\")\n",
    "plt.legend()\n",
    "plt.show()\n"
   ]
  },
  {
   "cell_type": "code",
   "execution_count": 73,
   "metadata": {
    "collapsed": false
   },
   "outputs": [
    {
     "name": "stdout",
     "output_type": "stream",
     "text": [
      "count    299745.000000\n",
      "mean         98.741630\n",
      "std          58.788018\n",
      "min           0.000000\n",
      "25%          51.099849\n",
      "50%          81.871508\n",
      "75%         146.553723\n",
      "max         300.000000\n",
      "Name: estimatedBidPrice, dtype: float64\n",
      "variance: 3456.03109799733\n",
      "skewness: 0.8583693570529617\n",
      "kurtosis: 0.6726221070664136\n"
     ]
    }
   ],
   "source": [
    "# Information about pay price\n",
    "print(df['estimatedBidPrice'].describe())\n",
    "print(\"variance:\", df['estimatedBidPrice'].var())\n",
    "print(\"skewness:\", st.skew(df['estimatedBidPrice'],bias=False)) \n",
    "print(\"kurtosis:\", st.kurtosis(df['estimatedBidPrice'],bias=False)) "
   ]
  },
  {
   "cell_type": "code",
   "execution_count": 74,
   "metadata": {
    "collapsed": false
   },
   "outputs": [
    {
     "name": "stdout",
     "output_type": "stream",
     "text": [
      "count    299745.000000\n",
      "mean         80.217765\n",
      "std          62.365778\n",
      "min           0.000000\n",
      "25%          33.000000\n",
      "50%          70.000000\n",
      "75%         101.000000\n",
      "max         300.000000\n",
      "Name: payprice, dtype: float64\n",
      "variance: 3889.490303729888\n",
      "skewness: 1.2558899702835147\n",
      "kurtosis: 1.0928950971859432\n"
     ]
    }
   ],
   "source": [
    "# Information about pay price\n",
    "print(df['payprice'].describe())\n",
    "print(\"variance:\", df['payprice'].var())\n",
    "print(\"skewness:\", st.skew(df['payprice'],bias=False))\n",
    "print(\"kurtosis:\", st.kurtosis(df['payprice'],bias=False))"
   ]
  },
  {
   "cell_type": "code",
   "execution_count": 75,
   "metadata": {
    "collapsed": false
   },
   "outputs": [
    {
     "name": "stderr",
     "output_type": "stream",
     "text": [
      "C:\\Users\\user\\Anaconda3\\lib\\site-packages\\matplotlib\\axes\\_axes.py:531: UserWarning: No labelled objects found. Use label='...' kwarg on individual plots.\n",
      "  warnings.warn(\"No labelled objects found. \"\n"
     ]
    },
    {
     "data": {
      "image/png": "[encoded data removed]",
      "text/plain": [
       "<matplotlib.figure.Figure at 0x233908c8128>"
      ]
     },
     "metadata": {},
     "output_type": "display_data"
    }
   ],
   "source": [
    "plt.xlabel('Probability of Click')\n",
    "plt.ylabel('Numbers')\n",
    "df['payprice'].hist()\n",
    "#plt.yscale('log')\n",
    "plt.title(\"Distribution of Probability of Click(4 Attributes)_Validation\")\n",
    "plt.legend()\n",
    "plt.show()\n"
   ]
  },
  {
   "cell_type": "code",
   "execution_count": 76,
   "metadata": {
    "collapsed": false
   },
   "outputs": [],
   "source": [
    "f = interpolate.interp1d( [min(df['log_prob']) , max(df['log_prob'])], [min(df['payprice']), max(df['payprice']) ])\n",
    "df['estimatedBidPrice_x2.5'] = df['log_prob'].apply(  lambda x: f(x)*2.5 )"
   ]
  },
  {
   "cell_type": "code",
   "execution_count": 77,
   "metadata": {
    "collapsed": false
   },
   "outputs": [
    {
     "name": "stderr",
     "output_type": "stream",
     "text": [
      "C:\\Users\\user\\Anaconda3\\lib\\site-packages\\matplotlib\\axes\\_axes.py:531: UserWarning: No labelled objects found. Use label='...' kwarg on individual plots.\n",
      "  warnings.warn(\"No labelled objects found. \"\n"
     ]
    },
    {
     "data": {
      "image/png": "[encoded data removed]",
      "text/plain": [
       "<matplotlib.figure.Figure at 0x2339ab5bfd0>"
      ]
     },
     "metadata": {},
     "output_type": "display_data"
    }
   ],
   "source": [
    "plt.xlabel('Estimated Bid Price_x2.5')\n",
    "plt.ylabel('Numbers')\n",
    "df['estimatedBidPrice_x2.5'].hist()\n",
    "#plt.yscale('log')\n",
    "plt.title(\"Distribution of Estimated Bid Price(4 Attributes)_Validation\")\n",
    "plt.legend()\n",
    "plt.show()\n"
   ]
  },
  {
   "cell_type": "markdown",
   "metadata": {
    "collapsed": true
   },
   "source": [
    "## LR"
   ]
  },
  {
   "cell_type": "markdown",
   "metadata": {},
   "source": [
    "#### Original"
   ]
  },
  {
   "cell_type": "code",
   "execution_count": 78,
   "metadata": {
    "collapsed": true
   },
   "outputs": [],
   "source": [
    "impression = df[df['estimatedBidPrice'] > df['payprice']]\n",
    "click = impression[impression['click'] == 1 ]\n",
    "\n",
    "impression_x2 = df[df['estimatedBidPrice_x2.5'] > df['payprice']]\n",
    "click_x2 = impression_x2[impression_x2['click'] == 1 ]"
   ]
  },
  {
   "cell_type": "code",
   "execution_count": 79,
   "metadata": {
    "collapsed": false
   },
   "outputs": [
    {
     "name": "stdout",
     "output_type": "stream",
     "text": [
      "+----------------------+----------+-----+---------------------+\n",
      "|       Variable       |Impression|Click|         CTR         |\n",
      "+----------------------+----------+-----+---------------------+\n",
      "|  estimatedBidPrice   |  174899  | 108 |0.0006174992424199109|\n",
      "|estimatedBidPrice_x2.5|  266258  | 199 |0.0007473953834250989|\n",
      "+----------------------+----------+-----+---------------------+\n"
     ]
    }
   ],
   "source": [
    "x = PrettyTable([\"Variable\", \"Impression\", 'Click', 'CTR'])\n",
    "x.align[\"Impression\"] = \"1\" # Left align city names \n",
    "x.padding_width = 0 # One space between column edges and contents (default)\n",
    "\n",
    "x.add_row([\"estimatedBidPrice\", impression.shape[0], \\\n",
    "           click.shape[0], \\\n",
    "           click.shape[0]/impression.shape[0]])\n",
    "\n",
    "x.add_row([\"estimatedBidPrice_x2.5\", impression_x2.shape[0], \\\n",
    "           click_x2.shape[0], \\\n",
    "           click_x2.shape[0]/impression_x2.shape[0]])\n",
    "\n",
    "\n",
    "print(x)"
   ]
  },
  {
   "cell_type": "code",
   "execution_count": null,
   "metadata": {
    "collapsed": true
   },
   "outputs": [],
   "source": [
    "impression = df[df['estimatedBidPrice'] > df['payprice']]\n",
    "click = impression[impression['click'] == 1 ]\n",
    "\n",
    "impression_x2 = df[df['estimatedBidPrice_x2.5'] > df['payprice']]\n",
    "click_x2 = impression_x2[impression_x2['click'] == 1 ]"
   ]
  },
  {
   "cell_type": "code",
   "execution_count": 80,
   "metadata": {
    "collapsed": true
   },
   "outputs": [],
   "source": [
    "## Deleting 25% from df['estimatedBidPrice_x2.5']\n",
    "impression_d25 = df[(df['estimatedBidPrice_x2.5'] > df['payprice']) & (df['log_prob'] > df['log_prob'].quantile(0.25) )]\n",
    "click_d25 = impression_d25[impression_d25['click'] == 1 ]"
   ]
  },
  {
   "cell_type": "code",
   "execution_count": 82,
   "metadata": {
    "collapsed": false
   },
   "outputs": [
    {
     "name": "stdout",
     "output_type": "stream",
     "text": [
      "+--------------------------+----------+-----+---------------------+\n",
      "|         Variable         |Impression|Click|         CTR         |\n",
      "+--------------------------+----------+-----+---------------------+\n",
      "|    estimatedBidPrice     |  174899  | 108 |0.0006174992424199109|\n",
      "|  estimatedBidPrice_x2.5  |  266258  | 199 |0.0007473953834250989|\n",
      "|estimatedBidPrice_x2.5_d25|  217493  | 178 |0.0008184171444598217|\n",
      "+--------------------------+----------+-----+---------------------+\n"
     ]
    }
   ],
   "source": [
    "x = PrettyTable([\"Variable\", \"Impression\", 'Click', 'CTR'])\n",
    "x.align[\"Impression\"] = \"1\" # Left align city names \n",
    "x.padding_width = 0 # One space between column edges and contents (default)\n",
    "\n",
    "x.add_row([\"estimatedBidPrice\", impression.shape[0], \\\n",
    "           click.shape[0], \\\n",
    "           click.shape[0]/impression.shape[0]])\n",
    "\n",
    "x.add_row([\"estimatedBidPrice_x2.5\", impression_x2.shape[0], \\\n",
    "           click_x2.shape[0], \\\n",
    "           click_x2.shape[0]/impression_x2.shape[0]])\n",
    "\n",
    "x.add_row([\"estimatedBidPrice_x2.5_d25\", impression_d25.shape[0], \\\n",
    "           click_d25.shape[0], \\\n",
    "           click_d25.shape[0]/impression_d25.shape[0]])\n",
    "\n",
    "print(x)"
   ]
  },
  {
   "cell_type": "code",
   "execution_count": 83,
   "metadata": {
    "collapsed": true
   },
   "outputs": [],
   "source": [
    "## Deleting 50% from df['estimatedBidPrice_x2.5']\n",
    "impression_d50 = df[(df['estimatedBidPrice_x2.5'] > df['payprice']) & (df['log_prob'] > df['log_prob'].quantile(0.50) )]\n",
    "click_d50 = impression_d50[impression_d50['click'] == 1 ]"
   ]
  },
  {
   "cell_type": "code",
   "execution_count": 84,
   "metadata": {
    "collapsed": false
   },
   "outputs": [
    {
     "name": "stdout",
     "output_type": "stream",
     "text": [
      "+--------------------------+----------+-----+---------------------+\n",
      "|         Variable         |Impression|Click|         CTR         |\n",
      "+--------------------------+----------+-----+---------------------+\n",
      "|    estimatedBidPrice     |  174899  | 108 |0.0006174992424199109|\n",
      "|  estimatedBidPrice_x2.5  |  266258  | 199 |0.0007473953834250989|\n",
      "|estimatedBidPrice_x2.5_d25|  217493  | 178 |0.0008184171444598217|\n",
      "|estimatedBidPrice_x2.5_d50|  148739  | 133 |0.0008941837715730239|\n",
      "+--------------------------+----------+-----+---------------------+\n"
     ]
    }
   ],
   "source": [
    "x = PrettyTable([\"Variable\", \"Impression\", 'Click', 'CTR'])\n",
    "x.align[\"Impression\"] = \"1\" # Left align city names \n",
    "x.padding_width = 0 # One space between column edges and contents (default)\n",
    "\n",
    "x.add_row([\"estimatedBidPrice\", impression.shape[0], \\\n",
    "           click.shape[0], \\\n",
    "           click.shape[0]/impression.shape[0]])\n",
    "\n",
    "x.add_row([\"estimatedBidPrice_x2.5\", impression_x2.shape[0], \\\n",
    "           click_x2.shape[0], \\\n",
    "           click_x2.shape[0]/impression_x2.shape[0]])\n",
    "\n",
    "x.add_row([\"estimatedBidPrice_x2.5_d25\", impression_d25.shape[0], \\\n",
    "           click_d25.shape[0], \\\n",
    "           click_d25.shape[0]/impression_d25.shape[0]])\n",
    "\n",
    "x.add_row([\"estimatedBidPrice_x2.5_d50\", impression_d50.shape[0], \\\n",
    "           click_d50.shape[0], \\\n",
    "           click_d50.shape[0]/impression_d50.shape[0]])\n",
    "\n",
    "print(x)"
   ]
  },
  {
   "cell_type": "code",
   "execution_count": 85,
   "metadata": {
    "collapsed": true
   },
   "outputs": [],
   "source": [
    "## Deleting 50% from df['estimatedBidPrice_x2.5']\n",
    "impression_d75 = df[(df['estimatedBidPrice_x2.5'] > df['payprice']) & (df['log_prob'] > df['log_prob'].quantile(0.75) )]\n",
    "click_d75 = impression_d75[impression_d75['click'] == 1 ]"
   ]
  },
  {
   "cell_type": "code",
   "execution_count": 86,
   "metadata": {
    "collapsed": false
   },
   "outputs": [
    {
     "name": "stdout",
     "output_type": "stream",
     "text": [
      "+--------------------------+----------+-----+---------------------+\n",
      "|         Variable         |Impression|Click|         CTR         |\n",
      "+--------------------------+----------+-----+---------------------+\n",
      "|    estimatedBidPrice     |  174899  | 108 |0.0006174992424199109|\n",
      "|  estimatedBidPrice_x2.5  |  266258  | 199 |0.0007473953834250989|\n",
      "|estimatedBidPrice_x2.5_d25|  217493  | 178 |0.0008184171444598217|\n",
      "|estimatedBidPrice_x2.5_d50|  148739  | 133 |0.0008941837715730239|\n",
      "|estimatedBidPrice_x2.5_d75|  74900   |  75 |0.0010013351134846463|\n",
      "+--------------------------+----------+-----+---------------------+\n"
     ]
    }
   ],
   "source": [
    "x = PrettyTable([\"Variable\", \"Impression\", 'Click', 'CTR'])\n",
    "x.align[\"Impression\"] = \"1\" # Left align city names \n",
    "x.padding_width = 0 # One space between column edges and contents (default)\n",
    "\n",
    "x.add_row([\"estimatedBidPrice\", impression.shape[0], \\\n",
    "           click.shape[0], \\\n",
    "           click.shape[0]/impression.shape[0]])\n",
    "\n",
    "x.add_row([\"estimatedBidPrice_x2.5\", impression_x2.shape[0], \\\n",
    "           click_x2.shape[0], \\\n",
    "           click_x2.shape[0]/impression_x2.shape[0]])\n",
    "\n",
    "x.add_row([\"estimatedBidPrice_x2.5_d25\", impression_d25.shape[0], \\\n",
    "           click_d25.shape[0], \\\n",
    "           click_d25.shape[0]/impression_d25.shape[0]])\n",
    "\n",
    "x.add_row([\"estimatedBidPrice_x2.5_d50\", impression_d50.shape[0], \\\n",
    "           click_d50.shape[0], \\\n",
    "           click_d50.shape[0]/impression_d50.shape[0]])\n",
    "\n",
    "x.add_row([\"estimatedBidPrice_x2.5_d75\", impression_d75.shape[0], \\\n",
    "           click_d75.shape[0], \\\n",
    "           click_d75.shape[0]/impression_d75.shape[0]])\n",
    "\n",
    "print(x)"
   ]
  },
  {
   "cell_type": "code",
   "execution_count": 87,
   "metadata": {
    "collapsed": true
   },
   "outputs": [],
   "source": [
    "## Deleting 62.5% from df['estimatedBidPrice_x2.5']\n",
    "impression_d625 = df[(df['estimatedBidPrice_x2.5'] > df['payprice']) & (df['log_prob'] > df['log_prob'].quantile(0.625) )]\n",
    "click_d625 = impression_d625[impression_d625['click'] == 1 ]"
   ]
  },
  {
   "cell_type": "code",
   "execution_count": 88,
   "metadata": {
    "collapsed": false
   },
   "outputs": [
    {
     "name": "stdout",
     "output_type": "stream",
     "text": [
      "+----------------------------+----------+-----+---------------------+\n",
      "|          Variable          |Impression|Click|         CTR         |\n",
      "+----------------------------+----------+-----+---------------------+\n",
      "|     estimatedBidPrice      |  174899  | 108 |0.0006174992424199109|\n",
      "|   estimatedBidPrice_x2.5   |  266258  | 199 |0.0007473953834250989|\n",
      "| estimatedBidPrice_x2.5_d25 |  217493  | 178 |0.0008184171444598217|\n",
      "| estimatedBidPrice_x2.5_d50 |  148739  | 133 |0.0008941837715730239|\n",
      "| estimatedBidPrice_x2.5_d75 |  74900   |  75 |0.0010013351134846463|\n",
      "|estimatedBidPrice_x2.5_d62.5|  111968  | 106 |0.0009466990568733923|\n",
      "+----------------------------+----------+-----+---------------------+\n"
     ]
    }
   ],
   "source": [
    "x = PrettyTable([\"Variable\", \"Impression\", 'Click', 'CTR'])\n",
    "x.align[\"Impression\"] = \"1\" # Left align city names \n",
    "x.padding_width = 0 # One space between column edges and contents (default)\n",
    "\n",
    "x.add_row([\"estimatedBidPrice\", impression.shape[0], \\\n",
    "           click.shape[0], \\\n",
    "           click.shape[0]/impression.shape[0]])\n",
    "\n",
    "x.add_row([\"estimatedBidPrice_x2.5\", impression_x2.shape[0], \\\n",
    "           click_x2.shape[0], \\\n",
    "           click_x2.shape[0]/impression_x2.shape[0]])\n",
    "\n",
    "x.add_row([\"estimatedBidPrice_x2.5_d25\", impression_d25.shape[0], \\\n",
    "           click_d25.shape[0], \\\n",
    "           click_d25.shape[0]/impression_d25.shape[0]])\n",
    "\n",
    "x.add_row([\"estimatedBidPrice_x2.5_d50\", impression_d50.shape[0], \\\n",
    "           click_d50.shape[0], \\\n",
    "           click_d50.shape[0]/impression_d50.shape[0]])\n",
    "\n",
    "x.add_row([\"estimatedBidPrice_x2.5_d75\", impression_d75.shape[0], \\\n",
    "           click_d75.shape[0], \\\n",
    "           click_d75.shape[0]/impression_d75.shape[0]])\n",
    "\n",
    "x.add_row([\"estimatedBidPrice_x2.5_d62.5\", impression_d625.shape[0], \\\n",
    "           click_d625.shape[0], \\\n",
    "           click_d625.shape[0]/impression_d625.shape[0]])\n",
    "\n",
    "\n",
    "print(x)"
   ]
  },
  {
   "cell_type": "code",
   "execution_count": 89,
   "metadata": {
    "collapsed": false
   },
   "outputs": [
    {
     "data": {
      "text/plain": [
       "0"
      ]
     },
     "execution_count": 89,
     "metadata": {},
     "output_type": "execute_result"
    }
   ],
   "source": [
    "df[df['log_prob'] == 0].shape[0]"
   ]
  },
  {
   "cell_type": "code",
   "execution_count": null,
   "metadata": {
    "collapsed": true
   },
   "outputs": [],
   "source": []
  },
  {
   "cell_type": "code",
   "execution_count": null,
   "metadata": {
    "collapsed": true
   },
   "outputs": [],
   "source": []
  },
  {
   "cell_type": "code",
   "execution_count": null,
   "metadata": {
    "collapsed": true
   },
   "outputs": [],
   "source": []
  },
  {
   "cell_type": "code",
   "execution_count": null,
   "metadata": {
    "collapsed": true
   },
   "outputs": [],
   "source": []
  },
  {
   "cell_type": "code",
   "execution_count": null,
   "metadata": {
    "collapsed": true
   },
   "outputs": [],
   "source": []
  }
 ],
 "metadata": {
  "anaconda-cloud": {},
  "kernelspec": {
   "display_name": "Python [default]",
   "language": "python",
   "name": "python3"
  },
  "language_info": {
   "codemirror_mode": {
    "name": "ipython",
    "version": 3
   },
   "file_extension": ".py",
   "mimetype": "text/x-python",
   "name": "python",
   "nbconvert_exporter": "python",
   "pygments_lexer": "ipython3",
   "version": "3.5.2"
  }
 },
 "nbformat": 4,
 "nbformat_minor": 1
}
